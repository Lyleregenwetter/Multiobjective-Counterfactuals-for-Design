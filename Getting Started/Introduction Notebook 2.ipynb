{
 "cells": [
  {
   "cell_type": "code",
   "execution_count": 1,
   "metadata": {},
   "outputs": [],
   "source": [
    "import sys\n",
    "sys.path.append('../src/')\n",
    "import decode_mcd\n",
    "import decode_mcd.multi_objective_problem as MOP\n",
    "from decode_mcd import data_package\n",
    "\n",
    "\n",
    "from decode_mcd import design_targets\n",
    "from decode_mcd import counterfactuals_generator\n",
    "\n",
    "import numpy as np\n",
    "import pandas as pd\n",
    "import matplotlib.pyplot as plt"
   ]
  },
  {
   "cell_type": "markdown",
   "metadata": {},
   "source": [
    "In the notebook we will cover mixed datatypes and generating counterfactuals with multiple mixed objectives types. "
   ]
  },
  {
   "cell_type": "markdown",
   "metadata": {},
   "source": [
    "### Creating Dataset"
   ]
  },
  {
   "cell_type": "markdown",
   "metadata": {},
   "source": [
    "First, lets create a dataset inspired by some basic arithmetic. This time, we will create a dataset with four variables of different types. `A` will be a random integer from 0 to 10 inclusive. `B` will be a random float from -1 to 1. `C` will be a random choice among \"Add\" \"Subtract\", \"Multiply\", and \"Divide\". Finally, `D` will be a boolean variable determining the sign of the expression. True will correspond to positive while False will mean negative. To effectively handle mixed datatypes will will use pandas."
   ]
  },
  {
   "cell_type": "code",
   "execution_count": 2,
   "metadata": {},
   "outputs": [
    {
     "data": {
      "text/html": [
       "<div>\n",
       "<style scoped>\n",
       "    .dataframe tbody tr th:only-of-type {\n",
       "        vertical-align: middle;\n",
       "    }\n",
       "\n",
       "    .dataframe tbody tr th {\n",
       "        vertical-align: top;\n",
       "    }\n",
       "\n",
       "    .dataframe thead th {\n",
       "        text-align: right;\n",
       "    }\n",
       "</style>\n",
       "<table border=\"1\" class=\"dataframe\">\n",
       "  <thead>\n",
       "    <tr style=\"text-align: right;\">\n",
       "      <th></th>\n",
       "      <th>A</th>\n",
       "      <th>B</th>\n",
       "      <th>C</th>\n",
       "      <th>D</th>\n",
       "    </tr>\n",
       "  </thead>\n",
       "  <tbody>\n",
       "    <tr>\n",
       "      <th>0</th>\n",
       "      <td>3</td>\n",
       "      <td>0.610882</td>\n",
       "      <td>Multiply</td>\n",
       "      <td>False</td>\n",
       "    </tr>\n",
       "    <tr>\n",
       "      <th>1</th>\n",
       "      <td>9</td>\n",
       "      <td>-0.056170</td>\n",
       "      <td>Subtract</td>\n",
       "      <td>False</td>\n",
       "    </tr>\n",
       "    <tr>\n",
       "      <th>2</th>\n",
       "      <td>7</td>\n",
       "      <td>0.900645</td>\n",
       "      <td>Multiply</td>\n",
       "      <td>True</td>\n",
       "    </tr>\n",
       "    <tr>\n",
       "      <th>3</th>\n",
       "      <td>0</td>\n",
       "      <td>0.293775</td>\n",
       "      <td>Subtract</td>\n",
       "      <td>True</td>\n",
       "    </tr>\n",
       "    <tr>\n",
       "      <th>4</th>\n",
       "      <td>0</td>\n",
       "      <td>0.722675</td>\n",
       "      <td>Add</td>\n",
       "      <td>False</td>\n",
       "    </tr>\n",
       "    <tr>\n",
       "      <th>...</th>\n",
       "      <td>...</td>\n",
       "      <td>...</td>\n",
       "      <td>...</td>\n",
       "      <td>...</td>\n",
       "    </tr>\n",
       "    <tr>\n",
       "      <th>995</th>\n",
       "      <td>6</td>\n",
       "      <td>-0.170748</td>\n",
       "      <td>Subtract</td>\n",
       "      <td>False</td>\n",
       "    </tr>\n",
       "    <tr>\n",
       "      <th>996</th>\n",
       "      <td>0</td>\n",
       "      <td>-0.481807</td>\n",
       "      <td>Divide</td>\n",
       "      <td>True</td>\n",
       "    </tr>\n",
       "    <tr>\n",
       "      <th>997</th>\n",
       "      <td>1</td>\n",
       "      <td>0.111152</td>\n",
       "      <td>Multiply</td>\n",
       "      <td>False</td>\n",
       "    </tr>\n",
       "    <tr>\n",
       "      <th>998</th>\n",
       "      <td>7</td>\n",
       "      <td>0.964919</td>\n",
       "      <td>Divide</td>\n",
       "      <td>True</td>\n",
       "    </tr>\n",
       "    <tr>\n",
       "      <th>999</th>\n",
       "      <td>2</td>\n",
       "      <td>-0.736718</td>\n",
       "      <td>Multiply</td>\n",
       "      <td>False</td>\n",
       "    </tr>\n",
       "  </tbody>\n",
       "</table>\n",
       "<p>1000 rows × 4 columns</p>\n",
       "</div>"
      ],
      "text/plain": [
       "     A         B         C      D\n",
       "0    3  0.610882  Multiply  False\n",
       "1    9 -0.056170  Subtract  False\n",
       "2    7  0.900645  Multiply   True\n",
       "3    0  0.293775  Subtract   True\n",
       "4    0  0.722675       Add  False\n",
       "..  ..       ...       ...    ...\n",
       "995  6 -0.170748  Subtract  False\n",
       "996  0 -0.481807    Divide   True\n",
       "997  1  0.111152  Multiply  False\n",
       "998  7  0.964919    Divide   True\n",
       "999  2 -0.736718  Multiply  False\n",
       "\n",
       "[1000 rows x 4 columns]"
      ]
     },
     "metadata": {},
     "output_type": "display_data"
    }
   ],
   "source": [
    "num_data = 1000\n",
    "A = np.random.randint(0, 10, num_data)\n",
    "B = np.random.rand(num_data) * 2 - 1 #Randomized values which originally range from 0 to 1. Scales to -1 to 1.\n",
    "C = np.random.choice([\"Add\", \"Subtract\", \"Multiply\", \"Divide\"], num_data)\n",
    "D = np.random.choice([True, False], num_data)\n",
    "features_dataset = pd.DataFrame({\"A\": A, \"B\": B, \"C\": C, \"D\": D})\n",
    "display(features_dataset)\n"
   ]
  },
  {
   "cell_type": "markdown",
   "metadata": {},
   "source": [
    "We will create two functions. In the first one we will perform operation C(D(A), B). The second will perform D(C(B, A))>=0. For example, if C is add and D is False, function 1 will calculate -A+B while function 2 will check if -(B+A) is greater than 0 or not. We code up the `evaluate` function which takes in a dataframe with a set of `A`, `B`, `C`, and `D` values and returns a set of `O1` and `O2` values, which is what we call our function"
   ]
  },
  {
   "cell_type": "code",
   "execution_count": 3,
   "metadata": {},
   "outputs": [],
   "source": [
    "def apply_operation(C, x, y):\n",
    "    #Vectorized function to calculate C(x, y), for example if C is \"Subtract\", calculates x-y.\n",
    "    add_mask = (C == \"Add\")\n",
    "    subtract_mask = (C == \"Subtract\")\n",
    "    multiply_mask = (C == \"Multiply\")\n",
    "    divide_mask = (C == \"Divide\")\n",
    "    result = np.zeros(len(C))\n",
    "    result[add_mask] = x[add_mask] + y[add_mask]\n",
    "    result[subtract_mask] = x[subtract_mask] - y[subtract_mask]\n",
    "    result[multiply_mask] = x[multiply_mask] * y[multiply_mask]\n",
    "    result[divide_mask] = x[divide_mask] / y[divide_mask]\n",
    "    return result\n",
    "\n",
    "def apply_inverse(D, x):\n",
    "    #Vectorized function to calculate D(x), for example if D is False, returns -x. \n",
    "    return x*D-x*~D\n",
    "\n",
    "def evaluate(x):\n",
    "    #Evaluation function to calculate both objectives. x is an nx4 dataframe. \n",
    "    A = x[\"A\"] #First isolate the individual variables from the provided dataframe\n",
    "    B = x[\"B\"]\n",
    "    C = x[\"C\"]\n",
    "    D = x[\"D\"].astype(bool)\n",
    "    objective_1 = apply_operation(C, apply_inverse(D, A), B) #Calculate objective 1\n",
    "    objective_2 = np.greater(apply_inverse(D, apply_operation(C, B, A)), 0) #Calculate objective 2\n",
    "    return pd.DataFrame({\"O1\": objective_1, \"O2\": objective_2}) #Create a nx2 dataframe with the objective values\n",
    " "
   ]
  },
  {
   "cell_type": "markdown",
   "metadata": {},
   "source": [
    "Let's evaluate our dataset."
   ]
  },
  {
   "cell_type": "code",
   "execution_count": 4,
   "metadata": {},
   "outputs": [
    {
     "data": {
      "text/html": [
       "<div>\n",
       "<style scoped>\n",
       "    .dataframe tbody tr th:only-of-type {\n",
       "        vertical-align: middle;\n",
       "    }\n",
       "\n",
       "    .dataframe tbody tr th {\n",
       "        vertical-align: top;\n",
       "    }\n",
       "\n",
       "    .dataframe thead th {\n",
       "        text-align: right;\n",
       "    }\n",
       "</style>\n",
       "<table border=\"1\" class=\"dataframe\">\n",
       "  <thead>\n",
       "    <tr style=\"text-align: right;\">\n",
       "      <th></th>\n",
       "      <th>O1</th>\n",
       "      <th>O2</th>\n",
       "    </tr>\n",
       "  </thead>\n",
       "  <tbody>\n",
       "    <tr>\n",
       "      <th>0</th>\n",
       "      <td>-1.832646</td>\n",
       "      <td>False</td>\n",
       "    </tr>\n",
       "    <tr>\n",
       "      <th>1</th>\n",
       "      <td>-8.943830</td>\n",
       "      <td>True</td>\n",
       "    </tr>\n",
       "    <tr>\n",
       "      <th>2</th>\n",
       "      <td>6.304517</td>\n",
       "      <td>True</td>\n",
       "    </tr>\n",
       "    <tr>\n",
       "      <th>3</th>\n",
       "      <td>-0.293775</td>\n",
       "      <td>True</td>\n",
       "    </tr>\n",
       "    <tr>\n",
       "      <th>4</th>\n",
       "      <td>0.722675</td>\n",
       "      <td>False</td>\n",
       "    </tr>\n",
       "    <tr>\n",
       "      <th>...</th>\n",
       "      <td>...</td>\n",
       "      <td>...</td>\n",
       "    </tr>\n",
       "    <tr>\n",
       "      <th>995</th>\n",
       "      <td>-5.829252</td>\n",
       "      <td>True</td>\n",
       "    </tr>\n",
       "    <tr>\n",
       "      <th>996</th>\n",
       "      <td>-0.000000</td>\n",
       "      <td>False</td>\n",
       "    </tr>\n",
       "    <tr>\n",
       "      <th>997</th>\n",
       "      <td>-0.111152</td>\n",
       "      <td>False</td>\n",
       "    </tr>\n",
       "    <tr>\n",
       "      <th>998</th>\n",
       "      <td>7.254491</td>\n",
       "      <td>True</td>\n",
       "    </tr>\n",
       "    <tr>\n",
       "      <th>999</th>\n",
       "      <td>1.473437</td>\n",
       "      <td>True</td>\n",
       "    </tr>\n",
       "  </tbody>\n",
       "</table>\n",
       "<p>1000 rows × 2 columns</p>\n",
       "</div>"
      ],
      "text/plain": [
       "           O1     O2\n",
       "0   -1.832646  False\n",
       "1   -8.943830   True\n",
       "2    6.304517   True\n",
       "3   -0.293775   True\n",
       "4    0.722675  False\n",
       "..        ...    ...\n",
       "995 -5.829252   True\n",
       "996 -0.000000  False\n",
       "997 -0.111152  False\n",
       "998  7.254491   True\n",
       "999  1.473437   True\n",
       "\n",
       "[1000 rows x 2 columns]"
      ]
     },
     "metadata": {},
     "output_type": "display_data"
    }
   ],
   "source": [
    "predictions_dataset = evaluate(features_dataset)\n",
    "display(predictions_dataset)"
   ]
  },
  {
   "cell_type": "markdown",
   "metadata": {},
   "source": [
    "Finally, we create our query. "
   ]
  },
  {
   "cell_type": "code",
   "execution_count": 5,
   "metadata": {},
   "outputs": [
    {
     "data": {
      "text/html": [
       "<div>\n",
       "<style scoped>\n",
       "    .dataframe tbody tr th:only-of-type {\n",
       "        vertical-align: middle;\n",
       "    }\n",
       "\n",
       "    .dataframe tbody tr th {\n",
       "        vertical-align: top;\n",
       "    }\n",
       "\n",
       "    .dataframe thead th {\n",
       "        text-align: right;\n",
       "    }\n",
       "</style>\n",
       "<table border=\"1\" class=\"dataframe\">\n",
       "  <thead>\n",
       "    <tr style=\"text-align: right;\">\n",
       "      <th></th>\n",
       "      <th>A</th>\n",
       "      <th>B</th>\n",
       "      <th>C</th>\n",
       "      <th>D</th>\n",
       "    </tr>\n",
       "  </thead>\n",
       "  <tbody>\n",
       "    <tr>\n",
       "      <th>Query</th>\n",
       "      <td>0</td>\n",
       "      <td>0.0</td>\n",
       "      <td>Add</td>\n",
       "      <td>True</td>\n",
       "    </tr>\n",
       "  </tbody>\n",
       "</table>\n",
       "</div>"
      ],
      "text/plain": [
       "       A    B    C     D\n",
       "Query  0  0.0  Add  True"
      ]
     },
     "metadata": {},
     "output_type": "display_data"
    }
   ],
   "source": [
    "query_x = pd.DataFrame({\"A\": [0], \"B\": [0.0], \"C\": [\"Add\"], \"D\": [True]}, index = [\"Query\"])\n",
    "display(query_x)"
   ]
  },
  {
   "cell_type": "markdown",
   "metadata": {},
   "source": [
    "### Setting up MCD"
   ]
  },
  {
   "cell_type": "markdown",
   "metadata": {},
   "source": [
    "Now we are ready to set up the DataPackage. We create two design targets. We have one continuous target and one categorical target. Continuous targets should be used for any objective with ordinal significance (such as floats or ints), while categorical targets should be used for those without (such as classes or bools)"
   ]
  },
  {
   "cell_type": "code",
   "execution_count": 6,
   "metadata": {},
   "outputs": [],
   "source": [
    "#We first set up a ContinuousTarget for O1, setting a minimum of 10 and setting no upper bound (i.e. infinity))\n",
    "target_1 = design_targets.ContinuousTarget(label = \"O1\", lower_bound=10, upper_bound=np.inf)\n",
    "\n",
    "#We then set up a CategoricalTarget for O2 specifying only True as the desired class. \n",
    "#Desired_classes is a list. In problems with multiple classes, this list specifies the acceptable classes.\n",
    "target_2 = design_targets.CategoricalTarget(label = \"O2\", desired_classes=[True])\n",
    "\n",
    "#We then create a DesignTargets object with the two targets.\n",
    "targets = design_targets.DesignTargets(continuous_targets=[target_1], categorical_targets=[target_2])"
   ]
  },
  {
   "cell_type": "markdown",
   "metadata": {},
   "source": [
    "We also specify the datatypes of our dataset. This time we have one of each type of variable. We specify the boundaries and options as specified earlier in the notebook."
   ]
  },
  {
   "cell_type": "code",
   "execution_count": 7,
   "metadata": {},
   "outputs": [],
   "source": [
    "from pymoo.core.variable import Real, Integer, Choice, Binary \n",
    "datatypes=[Integer(bounds=(0, 10)), \n",
    "           Real(bounds=(-1, 1)), \n",
    "           Choice(options=[\"Add\", \"Subtract\", \"Multiply\", \"Divide\"]), \n",
    "           Binary()]"
   ]
  },
  {
   "cell_type": "markdown",
   "metadata": {},
   "source": [
    "Finally, we create the `DataPackage`."
   ]
  },
  {
   "cell_type": "code",
   "execution_count": 8,
   "metadata": {},
   "outputs": [],
   "source": [
    "data = data_package.DataPackage(features_dataset=features_dataset,\n",
    "                           predictions_dataset=predictions_dataset,\n",
    "                           query_x=query_x,\n",
    "                           design_targets=targets,\n",
    "                           datatypes=datatypes,)"
   ]
  },
  {
   "cell_type": "code",
   "execution_count": 9,
   "metadata": {},
   "outputs": [],
   "source": [
    "problem = MOP.MultiObjectiveProblem(data_package=data, prediction_function=evaluate)"
   ]
  },
  {
   "cell_type": "code",
   "execution_count": 10,
   "metadata": {},
   "outputs": [],
   "source": [
    "generator = counterfactuals_generator.CounterfactualsGenerator(problem=problem, pop_size=100, initialize_from_dataset=True)"
   ]
  },
  {
   "cell_type": "code",
   "execution_count": 11,
   "metadata": {},
   "outputs": [
    {
     "name": "stdout",
     "output_type": "stream",
     "text": [
      "1000 dataset entries found matching problem parameters\n",
      "Initial population initialized from dataset of 1000 samples!\n",
      "\n",
      "Compiled modules for significant speedup can not be used!\n",
      "https://pymoo.org/installation.html#installation\n",
      "\n",
      "To disable this warning:\n",
      "from pymoo.config import Config\n",
      "Config.warnings['not_compiled'] = False\n",
      "\n",
      "Training GA from 0 to 10 generations!\n",
      "==========================================================================================\n",
      "n_gen  |  n_eval  | n_nds  |     cv_min    |     cv_avg    |      eps      |   indicator  \n",
      "==========================================================================================\n",
      "     1 |        0 |      6 |  0.000000E+00 |  1.284835E+01 |             - |             -\n"
     ]
    },
    {
     "name": "stderr",
     "output_type": "stream",
     "text": [
      "c:\\Users\\Lyle\\Documents\\DeCoDE\\Multiobjective-Counterfactuals-for-Design\\Getting Started\\../src\\decode_mcd\\multi_objective_problem.py:267: RuntimeWarning: invalid value encountered in subtract\n",
      "  satisfaction = np.maximum(actual - query_ub, query_lb - actual)\n",
      "c:\\Users\\Lyle\\Documents\\DeCoDE\\Multiobjective-Counterfactuals-for-Design\\Getting Started\\../src\\decode_mcd\\multi_objective_problem.py:267: RuntimeWarning: invalid value encountered in subtract\n",
      "  satisfaction = np.maximum(actual - query_ub, query_lb - actual)\n",
      "c:\\Users\\Lyle\\Documents\\DeCoDE\\Multiobjective-Counterfactuals-for-Design\\Getting Started\\../src\\decode_mcd\\multi_objective_problem.py:267: RuntimeWarning: invalid value encountered in subtract\n",
      "  satisfaction = np.maximum(actual - query_ub, query_lb - actual)\n"
     ]
    },
    {
     "name": "stdout",
     "output_type": "stream",
     "text": [
      "     2 |      100 |      7 |  0.000000E+00 |  0.3864264703 |  1.0000000000 |         ideal\n",
      "     3 |      200 |      8 |  0.000000E+00 |  0.1559247964 |  0.0000638148 |             f\n",
      "     4 |      300 |      8 |  0.000000E+00 |  0.0556951955 |  0.0000638148 |             f\n"
     ]
    },
    {
     "name": "stderr",
     "output_type": "stream",
     "text": [
      "c:\\Users\\Lyle\\Documents\\DeCoDE\\Multiobjective-Counterfactuals-for-Design\\Getting Started\\../src\\decode_mcd\\multi_objective_problem.py:267: RuntimeWarning: invalid value encountered in subtract\n",
      "  satisfaction = np.maximum(actual - query_ub, query_lb - actual)\n",
      "c:\\Users\\Lyle\\Documents\\DeCoDE\\Multiobjective-Counterfactuals-for-Design\\Getting Started\\../src\\decode_mcd\\multi_objective_problem.py:267: RuntimeWarning: invalid value encountered in subtract\n",
      "  satisfaction = np.maximum(actual - query_ub, query_lb - actual)\n",
      "c:\\Users\\Lyle\\Documents\\DeCoDE\\Multiobjective-Counterfactuals-for-Design\\Getting Started\\../src\\decode_mcd\\multi_objective_problem.py:267: RuntimeWarning: invalid value encountered in subtract\n",
      "  satisfaction = np.maximum(actual - query_ub, query_lb - actual)\n"
     ]
    },
    {
     "name": "stdout",
     "output_type": "stream",
     "text": [
      "     5 |      400 |      8 |  0.000000E+00 |  0.0051526385 |  0.0000638148 |             f\n",
      "     6 |      500 |      9 |  0.000000E+00 |  0.000000E+00 |  0.0759903127 |             f\n",
      "     7 |      600 |     10 |  0.000000E+00 |  0.000000E+00 |  0.0002537640 |             f\n",
      "     8 |      700 |     11 |  0.000000E+00 |  0.000000E+00 |  0.0325609388 |             f\n",
      "     9 |      800 |     11 |  0.000000E+00 |  0.000000E+00 |  0.000000E+00 |             f\n",
      "    10 |      900 |     11 |  0.000000E+00 |  0.000000E+00 |  0.000000E+00 |             f\n"
     ]
    },
    {
     "name": "stderr",
     "output_type": "stream",
     "text": [
      "c:\\Users\\Lyle\\Documents\\DeCoDE\\Multiobjective-Counterfactuals-for-Design\\Getting Started\\../src\\decode_mcd\\multi_objective_problem.py:267: RuntimeWarning: invalid value encountered in subtract\n",
      "  satisfaction = np.maximum(actual - query_ub, query_lb - actual)\n",
      "c:\\Users\\Lyle\\Documents\\DeCoDE\\Multiobjective-Counterfactuals-for-Design\\Getting Started\\../src\\decode_mcd\\multi_objective_problem.py:267: RuntimeWarning: invalid value encountered in subtract\n",
      "  satisfaction = np.maximum(actual - query_ub, query_lb - actual)\n"
     ]
    }
   ],
   "source": [
    "generator.generate(n_generations=10)"
   ]
  },
  {
   "cell_type": "code",
   "execution_count": 12,
   "metadata": {},
   "outputs": [
    {
     "name": "stdout",
     "output_type": "stream",
     "text": [
      "Collecting all counterfactual candidates!\n",
      "Scoring all counterfactual candidates!\n",
      "Calculating diversity matrix!\n",
      "Sampling diverse set of counterfactual candidates!\n",
      "samples_index=[56, 88, 84, 176, 81, 101, 103, 10, 132, 165]\n",
      "Done! Returning CFs\n"
     ]
    },
    {
     "data": {
      "text/html": [
       "<div>\n",
       "<style scoped>\n",
       "    .dataframe tbody tr th:only-of-type {\n",
       "        vertical-align: middle;\n",
       "    }\n",
       "\n",
       "    .dataframe tbody tr th {\n",
       "        vertical-align: top;\n",
       "    }\n",
       "\n",
       "    .dataframe thead th {\n",
       "        text-align: right;\n",
       "    }\n",
       "</style>\n",
       "<table border=\"1\" class=\"dataframe\">\n",
       "  <thead>\n",
       "    <tr style=\"text-align: right;\">\n",
       "      <th></th>\n",
       "      <th>A</th>\n",
       "      <th>B</th>\n",
       "      <th>C</th>\n",
       "      <th>D</th>\n",
       "    </tr>\n",
       "  </thead>\n",
       "  <tbody>\n",
       "    <tr>\n",
       "      <th>0</th>\n",
       "      <td>10</td>\n",
       "      <td>0.000000</td>\n",
       "      <td>Add</td>\n",
       "      <td>1</td>\n",
       "    </tr>\n",
       "    <tr>\n",
       "      <th>1</th>\n",
       "      <td>1</td>\n",
       "      <td>-0.082951</td>\n",
       "      <td>Divide</td>\n",
       "      <td>0</td>\n",
       "    </tr>\n",
       "    <tr>\n",
       "      <th>2</th>\n",
       "      <td>10</td>\n",
       "      <td>0.000000</td>\n",
       "      <td>Add</td>\n",
       "      <td>-2</td>\n",
       "    </tr>\n",
       "    <tr>\n",
       "      <th>3</th>\n",
       "      <td>10</td>\n",
       "      <td>0.897285</td>\n",
       "      <td>Divide</td>\n",
       "      <td>1</td>\n",
       "    </tr>\n",
       "    <tr>\n",
       "      <th>4</th>\n",
       "      <td>3</td>\n",
       "      <td>0.037243</td>\n",
       "      <td>Divide</td>\n",
       "      <td>1</td>\n",
       "    </tr>\n",
       "    <tr>\n",
       "      <th>5</th>\n",
       "      <td>7</td>\n",
       "      <td>0.113479</td>\n",
       "      <td>Divide</td>\n",
       "      <td>-1</td>\n",
       "    </tr>\n",
       "    <tr>\n",
       "      <th>6</th>\n",
       "      <td>10</td>\n",
       "      <td>0.514709</td>\n",
       "      <td>Add</td>\n",
       "      <td>1</td>\n",
       "    </tr>\n",
       "    <tr>\n",
       "      <th>7</th>\n",
       "      <td>9</td>\n",
       "      <td>-0.800646</td>\n",
       "      <td>Divide</td>\n",
       "      <td>False</td>\n",
       "    </tr>\n",
       "    <tr>\n",
       "      <th>8</th>\n",
       "      <td>2</td>\n",
       "      <td>0.039876</td>\n",
       "      <td>Divide</td>\n",
       "      <td>-2</td>\n",
       "    </tr>\n",
       "    <tr>\n",
       "      <th>9</th>\n",
       "      <td>6</td>\n",
       "      <td>0.443167</td>\n",
       "      <td>Divide</td>\n",
       "      <td>1</td>\n",
       "    </tr>\n",
       "  </tbody>\n",
       "</table>\n",
       "</div>"
      ],
      "text/plain": [
       "    A         B       C      D\n",
       "0  10  0.000000     Add      1\n",
       "1   1 -0.082951  Divide      0\n",
       "2  10  0.000000     Add     -2\n",
       "3  10  0.897285  Divide      1\n",
       "4   3  0.037243  Divide      1\n",
       "5   7  0.113479  Divide     -1\n",
       "6  10  0.514709     Add      1\n",
       "7   9 -0.800646  Divide  False\n",
       "8   2  0.039876  Divide     -2\n",
       "9   6  0.443167  Divide      1"
      ]
     },
     "metadata": {},
     "output_type": "display_data"
    }
   ],
   "source": [
    "num_samples = 10 \n",
    "counterfactuals = generator.sample_with_weights(num_samples, 1, 1, 1, 1, include_dataset=False)\n",
    "display(counterfactuals)"
   ]
  },
  {
   "cell_type": "code",
   "execution_count": 13,
   "metadata": {},
   "outputs": [
    {
     "data": {
      "text/html": [
       "<div>\n",
       "<style scoped>\n",
       "    .dataframe tbody tr th:only-of-type {\n",
       "        vertical-align: middle;\n",
       "    }\n",
       "\n",
       "    .dataframe tbody tr th {\n",
       "        vertical-align: top;\n",
       "    }\n",
       "\n",
       "    .dataframe thead th {\n",
       "        text-align: right;\n",
       "    }\n",
       "</style>\n",
       "<table border=\"1\" class=\"dataframe\">\n",
       "  <thead>\n",
       "    <tr style=\"text-align: right;\">\n",
       "      <th></th>\n",
       "      <th>O1</th>\n",
       "      <th>O2</th>\n",
       "    </tr>\n",
       "  </thead>\n",
       "  <tbody>\n",
       "    <tr>\n",
       "      <th>0</th>\n",
       "      <td>10.000000</td>\n",
       "      <td>True</td>\n",
       "    </tr>\n",
       "    <tr>\n",
       "      <th>1</th>\n",
       "      <td>12.055382</td>\n",
       "      <td>True</td>\n",
       "    </tr>\n",
       "    <tr>\n",
       "      <th>2</th>\n",
       "      <td>10.000000</td>\n",
       "      <td>True</td>\n",
       "    </tr>\n",
       "    <tr>\n",
       "      <th>3</th>\n",
       "      <td>11.144731</td>\n",
       "      <td>True</td>\n",
       "    </tr>\n",
       "    <tr>\n",
       "      <th>4</th>\n",
       "      <td>80.551505</td>\n",
       "      <td>True</td>\n",
       "    </tr>\n",
       "    <tr>\n",
       "      <th>5</th>\n",
       "      <td>61.685650</td>\n",
       "      <td>True</td>\n",
       "    </tr>\n",
       "    <tr>\n",
       "      <th>6</th>\n",
       "      <td>10.514709</td>\n",
       "      <td>True</td>\n",
       "    </tr>\n",
       "    <tr>\n",
       "      <th>7</th>\n",
       "      <td>11.240919</td>\n",
       "      <td>True</td>\n",
       "    </tr>\n",
       "    <tr>\n",
       "      <th>8</th>\n",
       "      <td>50.155225</td>\n",
       "      <td>True</td>\n",
       "    </tr>\n",
       "    <tr>\n",
       "      <th>9</th>\n",
       "      <td>13.538904</td>\n",
       "      <td>True</td>\n",
       "    </tr>\n",
       "  </tbody>\n",
       "</table>\n",
       "</div>"
      ],
      "text/plain": [
       "          O1    O2\n",
       "0  10.000000  True\n",
       "1  12.055382  True\n",
       "2  10.000000  True\n",
       "3  11.144731  True\n",
       "4  80.551505  True\n",
       "5  61.685650  True\n",
       "6  10.514709  True\n",
       "7  11.240919  True\n",
       "8  50.155225  True\n",
       "9  13.538904  True"
      ]
     },
     "execution_count": 13,
     "metadata": {},
     "output_type": "execute_result"
    }
   ],
   "source": [
    "evaluate(counterfactuals)"
   ]
  },
  {
   "cell_type": "code",
   "execution_count": null,
   "metadata": {},
   "outputs": [],
   "source": []
  }
 ],
 "metadata": {
  "kernelspec": {
   "display_name": "Python 3",
   "language": "python",
   "name": "python3"
  },
  "language_info": {
   "codemirror_mode": {
    "name": "ipython",
    "version": 3
   },
   "file_extension": ".py",
   "mimetype": "text/x-python",
   "name": "python",
   "nbconvert_exporter": "python",
   "pygments_lexer": "ipython3",
   "version": "3.12.0"
  }
 },
 "nbformat": 4,
 "nbformat_minor": 2
}
