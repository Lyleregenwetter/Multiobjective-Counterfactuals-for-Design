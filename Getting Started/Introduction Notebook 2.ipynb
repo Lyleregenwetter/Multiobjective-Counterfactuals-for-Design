{
 "cells": [
  {
   "cell_type": "markdown",
   "metadata": {},
   "source": [
    "# Introductory Notebook 2: Mixed-Datatype Problems, Multi-Objective and Mixed-Objective Problems\n",
    "This notebook will cover mixed datatypes and generating counterfactuals with multiple mixed objectives types."
   ]
  },
  {
   "cell_type": "code",
   "execution_count": 1,
   "metadata": {},
   "outputs": [],
   "source": [
    "import sys\n",
    "sys.path.append('../src/')\n",
    "import decode_mcd\n",
    "from decode_mcd import mcd_problem\n",
    "from decode_mcd import mcd_dataset\n",
    "\n",
    "\n",
    "from decode_mcd import design_targets\n",
    "from decode_mcd import mcd_generator\n",
    "\n",
    "import numpy as np\n",
    "import pandas as pd\n",
    "import matplotlib.pyplot as plt"
   ]
  },
  {
   "cell_type": "markdown",
   "metadata": {},
   "source": [
    "### Creating a Dataset"
   ]
  },
  {
   "cell_type": "markdown",
   "metadata": {},
   "source": [
    "First, lets create a dataset inspired by some basic arithmetic. This time, we will create a dataset with four variables of different types. `A` will be a random integer from 0 to 10 inclusive. `B` will be a random float from -1 to 1. `C` will be a random choice among \"Add\" \"Subtract\", \"Multiply\", and \"Divide\". Finally, `D` will be a boolean variable determining the sign of the expression. True will correspond to positive while False will mean negative. To effectively handle mixed datatypes will will use pandas."
   ]
  },
  {
   "cell_type": "code",
   "execution_count": 2,
   "metadata": {},
   "outputs": [
    {
     "data": {
      "text/html": [
       "<div>\n",
       "<style scoped>\n",
       "    .dataframe tbody tr th:only-of-type {\n",
       "        vertical-align: middle;\n",
       "    }\n",
       "\n",
       "    .dataframe tbody tr th {\n",
       "        vertical-align: top;\n",
       "    }\n",
       "\n",
       "    .dataframe thead th {\n",
       "        text-align: right;\n",
       "    }\n",
       "</style>\n",
       "<table border=\"1\" class=\"dataframe\">\n",
       "  <thead>\n",
       "    <tr style=\"text-align: right;\">\n",
       "      <th></th>\n",
       "      <th>A</th>\n",
       "      <th>B</th>\n",
       "      <th>C</th>\n",
       "      <th>D</th>\n",
       "    </tr>\n",
       "  </thead>\n",
       "  <tbody>\n",
       "    <tr>\n",
       "      <th>0</th>\n",
       "      <td>1</td>\n",
       "      <td>-0.813443</td>\n",
       "      <td>Divide</td>\n",
       "      <td>True</td>\n",
       "    </tr>\n",
       "    <tr>\n",
       "      <th>1</th>\n",
       "      <td>7</td>\n",
       "      <td>0.221669</td>\n",
       "      <td>Subtract</td>\n",
       "      <td>True</td>\n",
       "    </tr>\n",
       "    <tr>\n",
       "      <th>2</th>\n",
       "      <td>5</td>\n",
       "      <td>-0.423852</td>\n",
       "      <td>Divide</td>\n",
       "      <td>True</td>\n",
       "    </tr>\n",
       "    <tr>\n",
       "      <th>3</th>\n",
       "      <td>7</td>\n",
       "      <td>-0.778533</td>\n",
       "      <td>Add</td>\n",
       "      <td>False</td>\n",
       "    </tr>\n",
       "    <tr>\n",
       "      <th>4</th>\n",
       "      <td>2</td>\n",
       "      <td>-0.258988</td>\n",
       "      <td>Divide</td>\n",
       "      <td>True</td>\n",
       "    </tr>\n",
       "    <tr>\n",
       "      <th>...</th>\n",
       "      <td>...</td>\n",
       "      <td>...</td>\n",
       "      <td>...</td>\n",
       "      <td>...</td>\n",
       "    </tr>\n",
       "    <tr>\n",
       "      <th>995</th>\n",
       "      <td>1</td>\n",
       "      <td>-0.119309</td>\n",
       "      <td>Multiply</td>\n",
       "      <td>False</td>\n",
       "    </tr>\n",
       "    <tr>\n",
       "      <th>996</th>\n",
       "      <td>3</td>\n",
       "      <td>-0.264746</td>\n",
       "      <td>Multiply</td>\n",
       "      <td>False</td>\n",
       "    </tr>\n",
       "    <tr>\n",
       "      <th>997</th>\n",
       "      <td>3</td>\n",
       "      <td>-0.842574</td>\n",
       "      <td>Divide</td>\n",
       "      <td>True</td>\n",
       "    </tr>\n",
       "    <tr>\n",
       "      <th>998</th>\n",
       "      <td>7</td>\n",
       "      <td>-0.636760</td>\n",
       "      <td>Add</td>\n",
       "      <td>False</td>\n",
       "    </tr>\n",
       "    <tr>\n",
       "      <th>999</th>\n",
       "      <td>4</td>\n",
       "      <td>-0.304858</td>\n",
       "      <td>Subtract</td>\n",
       "      <td>False</td>\n",
       "    </tr>\n",
       "  </tbody>\n",
       "</table>\n",
       "<p>1000 rows × 4 columns</p>\n",
       "</div>"
      ],
      "text/plain": [
       "     A         B         C      D\n",
       "0    1 -0.813443    Divide   True\n",
       "1    7  0.221669  Subtract   True\n",
       "2    5 -0.423852    Divide   True\n",
       "3    7 -0.778533       Add  False\n",
       "4    2 -0.258988    Divide   True\n",
       "..  ..       ...       ...    ...\n",
       "995  1 -0.119309  Multiply  False\n",
       "996  3 -0.264746  Multiply  False\n",
       "997  3 -0.842574    Divide   True\n",
       "998  7 -0.636760       Add  False\n",
       "999  4 -0.304858  Subtract  False\n",
       "\n",
       "[1000 rows x 4 columns]"
      ]
     },
     "metadata": {},
     "output_type": "display_data"
    }
   ],
   "source": [
    "num_data = 1000\n",
    "A = np.random.randint(0, 10, num_data)\n",
    "B = np.random.rand(num_data) * 2 - 1 #Randomized values which originally range from 0 to 1. Scales to -1 to 1.\n",
    "C = np.random.choice([\"Add\", \"Subtract\", \"Multiply\", \"Divide\"], num_data)\n",
    "D = np.random.choice([True, False], num_data)\n",
    "x = pd.DataFrame({\"A\": A, \"B\": B, \"C\": C, \"D\": D})\n",
    "display(x)\n"
   ]
  },
  {
   "cell_type": "markdown",
   "metadata": {},
   "source": [
    "We will create two functions. In the first one we will perform operation C(D(A), B). The second will perform D(C(B, A))>=0. For example, if C is add and D is False, function 1 will calculate -A+B while function 2 will check if -(B+A) is greater than 0 or not. We code up the `evaluate` function which takes in a dataframe with a set of `A`, `B`, `C`, and `D` values and returns a set of `O1` and `O2` values, which is what we call our function"
   ]
  },
  {
   "cell_type": "code",
   "execution_count": 3,
   "metadata": {},
   "outputs": [],
   "source": [
    "def apply_operation(C, x, y):\n",
    "    #Vectorized function to calculate C(x, y), for example if C is \"Subtract\", calculates x-y.\n",
    "    add_mask = (C == \"Add\")\n",
    "    subtract_mask = (C == \"Subtract\")\n",
    "    multiply_mask = (C == \"Multiply\")\n",
    "    divide_mask = (C == \"Divide\")\n",
    "    result = np.zeros(len(C))\n",
    "    result[add_mask] = x[add_mask] + y[add_mask]\n",
    "    result[subtract_mask] = x[subtract_mask] - y[subtract_mask]\n",
    "    result[multiply_mask] = x[multiply_mask] * y[multiply_mask]\n",
    "    result[divide_mask] = x[divide_mask] / y[divide_mask]\n",
    "    return result\n",
    "\n",
    "def apply_inverse(D, x):\n",
    "    #Vectorized function to calculate D(x), for example if D is False, returns -x. \n",
    "    return x*D-x*~D\n",
    "\n",
    "def evaluate(x):\n",
    "    #Evaluation function to calculate both objectives. x is an nx4 dataframe. \n",
    "    A = x[\"A\"] #First isolate the individual variables from the provided dataframe\n",
    "    B = x[\"B\"]\n",
    "    C = x[\"C\"]\n",
    "    D = x[\"D\"].astype(bool)\n",
    "    objective_1 = apply_operation(C, apply_inverse(D, A), B) #Calculate objective 1\n",
    "    objective_2 = np.greater(apply_inverse(D, apply_operation(C, B, A)), 0) #Calculate objective 2\n",
    "    return pd.DataFrame({\"O1\": objective_1, \"O2\": objective_2}) #Create a nx2 dataframe with the objective values\n",
    " "
   ]
  },
  {
   "cell_type": "markdown",
   "metadata": {},
   "source": [
    "Let's evaluate our dataset."
   ]
  },
  {
   "cell_type": "code",
   "execution_count": 4,
   "metadata": {},
   "outputs": [
    {
     "data": {
      "text/html": [
       "<div>\n",
       "<style scoped>\n",
       "    .dataframe tbody tr th:only-of-type {\n",
       "        vertical-align: middle;\n",
       "    }\n",
       "\n",
       "    .dataframe tbody tr th {\n",
       "        vertical-align: top;\n",
       "    }\n",
       "\n",
       "    .dataframe thead th {\n",
       "        text-align: right;\n",
       "    }\n",
       "</style>\n",
       "<table border=\"1\" class=\"dataframe\">\n",
       "  <thead>\n",
       "    <tr style=\"text-align: right;\">\n",
       "      <th></th>\n",
       "      <th>O1</th>\n",
       "      <th>O2</th>\n",
       "    </tr>\n",
       "  </thead>\n",
       "  <tbody>\n",
       "    <tr>\n",
       "      <th>0</th>\n",
       "      <td>-1.229343</td>\n",
       "      <td>False</td>\n",
       "    </tr>\n",
       "    <tr>\n",
       "      <th>1</th>\n",
       "      <td>6.778331</td>\n",
       "      <td>False</td>\n",
       "    </tr>\n",
       "    <tr>\n",
       "      <th>2</th>\n",
       "      <td>-11.796575</td>\n",
       "      <td>False</td>\n",
       "    </tr>\n",
       "    <tr>\n",
       "      <th>3</th>\n",
       "      <td>-7.778533</td>\n",
       "      <td>False</td>\n",
       "    </tr>\n",
       "    <tr>\n",
       "      <th>4</th>\n",
       "      <td>-7.722361</td>\n",
       "      <td>False</td>\n",
       "    </tr>\n",
       "    <tr>\n",
       "      <th>...</th>\n",
       "      <td>...</td>\n",
       "      <td>...</td>\n",
       "    </tr>\n",
       "    <tr>\n",
       "      <th>995</th>\n",
       "      <td>0.119309</td>\n",
       "      <td>True</td>\n",
       "    </tr>\n",
       "    <tr>\n",
       "      <th>996</th>\n",
       "      <td>0.794238</td>\n",
       "      <td>True</td>\n",
       "    </tr>\n",
       "    <tr>\n",
       "      <th>997</th>\n",
       "      <td>-3.560519</td>\n",
       "      <td>False</td>\n",
       "    </tr>\n",
       "    <tr>\n",
       "      <th>998</th>\n",
       "      <td>-7.636760</td>\n",
       "      <td>False</td>\n",
       "    </tr>\n",
       "    <tr>\n",
       "      <th>999</th>\n",
       "      <td>-3.695142</td>\n",
       "      <td>True</td>\n",
       "    </tr>\n",
       "  </tbody>\n",
       "</table>\n",
       "<p>1000 rows × 2 columns</p>\n",
       "</div>"
      ],
      "text/plain": [
       "            O1     O2\n",
       "0    -1.229343  False\n",
       "1     6.778331  False\n",
       "2   -11.796575  False\n",
       "3    -7.778533  False\n",
       "4    -7.722361  False\n",
       "..         ...    ...\n",
       "995   0.119309   True\n",
       "996   0.794238   True\n",
       "997  -3.560519  False\n",
       "998  -7.636760  False\n",
       "999  -3.695142   True\n",
       "\n",
       "[1000 rows x 2 columns]"
      ]
     },
     "metadata": {},
     "output_type": "display_data"
    }
   ],
   "source": [
    "y = evaluate(x)\n",
    "display(y)"
   ]
  },
  {
   "cell_type": "markdown",
   "metadata": {},
   "source": [
    "Finally, we create our query. "
   ]
  },
  {
   "cell_type": "code",
   "execution_count": 5,
   "metadata": {},
   "outputs": [
    {
     "data": {
      "text/html": [
       "<div>\n",
       "<style scoped>\n",
       "    .dataframe tbody tr th:only-of-type {\n",
       "        vertical-align: middle;\n",
       "    }\n",
       "\n",
       "    .dataframe tbody tr th {\n",
       "        vertical-align: top;\n",
       "    }\n",
       "\n",
       "    .dataframe thead th {\n",
       "        text-align: right;\n",
       "    }\n",
       "</style>\n",
       "<table border=\"1\" class=\"dataframe\">\n",
       "  <thead>\n",
       "    <tr style=\"text-align: right;\">\n",
       "      <th></th>\n",
       "      <th>A</th>\n",
       "      <th>B</th>\n",
       "      <th>C</th>\n",
       "      <th>D</th>\n",
       "    </tr>\n",
       "  </thead>\n",
       "  <tbody>\n",
       "    <tr>\n",
       "      <th>Query</th>\n",
       "      <td>0</td>\n",
       "      <td>0.0</td>\n",
       "      <td>Add</td>\n",
       "      <td>True</td>\n",
       "    </tr>\n",
       "  </tbody>\n",
       "</table>\n",
       "</div>"
      ],
      "text/plain": [
       "       A    B    C     D\n",
       "Query  0  0.0  Add  True"
      ]
     },
     "metadata": {},
     "output_type": "display_data"
    }
   ],
   "source": [
    "x_query = pd.DataFrame({\"A\": [0], \"B\": [0.0], \"C\": [\"Add\"], \"D\": [True]}, index = [\"Query\"])\n",
    "display(x_query)"
   ]
  },
  {
   "cell_type": "markdown",
   "metadata": {},
   "source": [
    "### Setting up MCD"
   ]
  },
  {
   "cell_type": "markdown",
   "metadata": {},
   "source": [
    "Now we are ready to set up the DataPackage. We specify the datatypes of our dataset. This time we have one of each type of variable. We specify the boundaries and options as specified earlier in the notebook."
   ]
  },
  {
   "cell_type": "code",
   "execution_count": 6,
   "metadata": {},
   "outputs": [],
   "source": [
    "from pymoo.core.variable import Real, Integer, Choice, Binary \n",
    "datatypes=[Integer(bounds=(0, 10)), \n",
    "           Real(bounds=(-1, 1)), \n",
    "           Choice(options=[\"Add\", \"Subtract\", \"Multiply\", \"Divide\"]), \n",
    "           Binary()]"
   ]
  },
  {
   "cell_type": "markdown",
   "metadata": {},
   "source": [
    "Finally, we create the `DataPackage`."
   ]
  },
  {
   "cell_type": "code",
   "execution_count": 7,
   "metadata": {},
   "outputs": [],
   "source": [
    "data = mcd_dataset.McdDataset(x=x, y=y, x_datatypes=datatypes)"
   ]
  },
  {
   "cell_type": "markdown",
   "metadata": {},
   "source": [
    "Next, we create the design targets and the `MultiObjectiveProblem`. In this case, we create two design targets. We have one continuous target and one categorical target. Continuous targets should be used for any objective with ordinal significance (such as floats or ints), while categorical targets should be used for those without (such as classes or bools). We want set a hard lower bound of 10 for O1 with no upper bound, meaning C(D(A), B)>=10. We also set a requirement that O2 must be true, meaning that D(C(B, A))>=0"
   ]
  },
  {
   "cell_type": "code",
   "execution_count": 8,
   "metadata": {},
   "outputs": [],
   "source": [
    "#We first set up a ContinuousTarget for O1, setting a minimum of 10 and setting no upper bound (i.e. infinity))\n",
    "target_1 = design_targets.ContinuousTarget(label = \"O1\", lower_bound=10, upper_bound=np.inf)\n",
    "\n",
    "#We then set up a CategoricalTarget for O2 specifying only True as the desired class. \n",
    "#Desired_classes is a list. In problems with multiple classes, this list specifies the acceptable classes.\n",
    "target_2 = design_targets.CategoricalTarget(label = \"O2\", desired_classes=[True])\n",
    "\n",
    "#We then create a DesignTargets object with the two targets.\n",
    "y_targets = design_targets.DesignTargets(continuous_targets=[target_1], categorical_targets=[target_2])"
   ]
  },
  {
   "cell_type": "code",
   "execution_count": 9,
   "metadata": {},
   "outputs": [],
   "source": [
    "problem = mcd_problem.McdProblem(mcd_dataset=data, x_query = x_query, y_targets = y_targets, prediction_function=evaluate)"
   ]
  },
  {
   "cell_type": "markdown",
   "metadata": {},
   "source": [
    "Finally, we create the `CounterfactualsGenerator`:"
   ]
  },
  {
   "cell_type": "code",
   "execution_count": 10,
   "metadata": {},
   "outputs": [],
   "source": [
    "generator = mcd_generator.McdGenerator(problem=problem, pop_size=100, initialize_from_dataset=True)"
   ]
  },
  {
   "cell_type": "markdown",
   "metadata": {},
   "source": [
    "### Generating Counterfactuals\n",
    "Finally, we run the generator and sample."
   ]
  },
  {
   "cell_type": "code",
   "execution_count": 11,
   "metadata": {},
   "outputs": [
    {
     "name": "stdout",
     "output_type": "stream",
     "text": [
      "1000 dataset entries found matching problem parameters\n",
      "Initial population initialized from dataset of 1000 samples!\n",
      "Training GA from 0 to 10 generations!\n",
      "==========================================================================================\n",
      "n_gen  |  n_eval  | n_nds  |     cv_min    |     cv_avg    |      eps      |   indicator  \n",
      "==========================================================================================\n",
      "     1 |        0 |      4 |  0.000000E+00 |  1.352993E+01 |             - |             -\n",
      "     2 |      100 |      4 |  0.000000E+00 |  0.5510162856 |  0.000000E+00 |             f\n"
     ]
    },
    {
     "name": "stderr",
     "output_type": "stream",
     "text": [
      "/home/yazan/repositories/Multiobjective-Counterfactuals-for-Design/venv/lib/python3.9/site-packages/decode_mcd/mcd_problem.py:301: RuntimeWarning: invalid value encountered in subtract\n",
      "  satisfaction = np.maximum(actual - query_ub, query_lb - actual)\n",
      "/home/yazan/repositories/Multiobjective-Counterfactuals-for-Design/venv/lib/python3.9/site-packages/decode_mcd/mcd_problem.py:301: RuntimeWarning: invalid value encountered in subtract\n",
      "  satisfaction = np.maximum(actual - query_ub, query_lb - actual)\n",
      "/home/yazan/repositories/Multiobjective-Counterfactuals-for-Design/venv/lib/python3.9/site-packages/decode_mcd/mcd_problem.py:301: RuntimeWarning: invalid value encountered in subtract\n",
      "  satisfaction = np.maximum(actual - query_ub, query_lb - actual)\n"
     ]
    },
    {
     "name": "stdout",
     "output_type": "stream",
     "text": [
      "     3 |      200 |      4 |  0.000000E+00 |  0.3065481014 |  0.000000E+00 |             f\n",
      "     4 |      300 |      5 |  0.000000E+00 |  0.1899827167 |  1.0000000000 |         ideal\n"
     ]
    },
    {
     "name": "stderr",
     "output_type": "stream",
     "text": [
      "/home/yazan/repositories/Multiobjective-Counterfactuals-for-Design/venv/lib/python3.9/site-packages/decode_mcd/mcd_problem.py:301: RuntimeWarning: invalid value encountered in subtract\n",
      "  satisfaction = np.maximum(actual - query_ub, query_lb - actual)\n",
      "/home/yazan/repositories/Multiobjective-Counterfactuals-for-Design/venv/lib/python3.9/site-packages/decode_mcd/mcd_problem.py:301: RuntimeWarning: invalid value encountered in subtract\n",
      "  satisfaction = np.maximum(actual - query_ub, query_lb - actual)\n"
     ]
    },
    {
     "name": "stdout",
     "output_type": "stream",
     "text": [
      "     5 |      400 |      6 |  0.000000E+00 |  0.0966050089 |  0.0918360416 |             f\n",
      "     6 |      500 |      6 |  0.000000E+00 |  0.0095753433 |  0.000000E+00 |             f\n",
      "     7 |      600 |      7 |  0.000000E+00 |  0.000000E+00 |  0.0262160448 |             f\n",
      "     8 |      700 |      8 |  0.000000E+00 |  0.000000E+00 |  0.0034779359 |             f\n",
      "     9 |      800 |      8 |  0.000000E+00 |  0.000000E+00 |  0.000000E+00 |             f\n",
      "    10 |      900 |      8 |  0.000000E+00 |  0.000000E+00 |  0.000000E+00 |             f\n"
     ]
    },
    {
     "name": "stderr",
     "output_type": "stream",
     "text": [
      "/home/yazan/repositories/Multiobjective-Counterfactuals-for-Design/venv/lib/python3.9/site-packages/decode_mcd/mcd_problem.py:301: RuntimeWarning: invalid value encountered in subtract\n",
      "  satisfaction = np.maximum(actual - query_ub, query_lb - actual)\n",
      "/home/yazan/repositories/Multiobjective-Counterfactuals-for-Design/venv/lib/python3.9/site-packages/decode_mcd/mcd_problem.py:301: RuntimeWarning: invalid value encountered in subtract\n",
      "  satisfaction = np.maximum(actual - query_ub, query_lb - actual)\n",
      "/home/yazan/repositories/Multiobjective-Counterfactuals-for-Design/venv/lib/python3.9/site-packages/decode_mcd/mcd_problem.py:301: RuntimeWarning: invalid value encountered in subtract\n",
      "  satisfaction = np.maximum(actual - query_ub, query_lb - actual)\n"
     ]
    }
   ],
   "source": [
    "generator.generate(n_generations=10)"
   ]
  },
  {
   "cell_type": "code",
   "execution_count": 12,
   "metadata": {},
   "outputs": [
    {
     "name": "stdout",
     "output_type": "stream",
     "text": [
      "Collecting all counterfactual candidates!\n",
      "Scoring all counterfactual candidates!\n",
      "Calculating diversity matrix!\n",
      "Sampling diverse set of counterfactual candidates!\n",
      "samples_index=[np.int64(5), np.int64(70), np.int64(154), np.int64(74), np.int64(147), np.int64(17), np.int64(114), np.int64(45), np.int64(146), np.int64(41)]\n",
      "Done! Returning CFs\n"
     ]
    },
    {
     "data": {
      "text/html": [
       "<div>\n",
       "<style scoped>\n",
       "    .dataframe tbody tr th:only-of-type {\n",
       "        vertical-align: middle;\n",
       "    }\n",
       "\n",
       "    .dataframe tbody tr th {\n",
       "        vertical-align: top;\n",
       "    }\n",
       "\n",
       "    .dataframe thead th {\n",
       "        text-align: right;\n",
       "    }\n",
       "</style>\n",
       "<table border=\"1\" class=\"dataframe\">\n",
       "  <thead>\n",
       "    <tr style=\"text-align: right;\">\n",
       "      <th></th>\n",
       "      <th>A</th>\n",
       "      <th>B</th>\n",
       "      <th>C</th>\n",
       "      <th>D</th>\n",
       "    </tr>\n",
       "  </thead>\n",
       "  <tbody>\n",
       "    <tr>\n",
       "      <th>0</th>\n",
       "      <td>1</td>\n",
       "      <td>0.057024</td>\n",
       "      <td>Divide</td>\n",
       "      <td>True</td>\n",
       "    </tr>\n",
       "    <tr>\n",
       "      <th>1</th>\n",
       "      <td>10</td>\n",
       "      <td>0.000000</td>\n",
       "      <td>Add</td>\n",
       "      <td>True</td>\n",
       "    </tr>\n",
       "    <tr>\n",
       "      <th>2</th>\n",
       "      <td>10</td>\n",
       "      <td>0.291371</td>\n",
       "      <td>Add</td>\n",
       "      <td>True</td>\n",
       "    </tr>\n",
       "    <tr>\n",
       "      <th>3</th>\n",
       "      <td>10</td>\n",
       "      <td>0.140063</td>\n",
       "      <td>Add</td>\n",
       "      <td>True</td>\n",
       "    </tr>\n",
       "    <tr>\n",
       "      <th>4</th>\n",
       "      <td>5</td>\n",
       "      <td>0.015301</td>\n",
       "      <td>Divide</td>\n",
       "      <td>True</td>\n",
       "    </tr>\n",
       "    <tr>\n",
       "      <th>5</th>\n",
       "      <td>2</td>\n",
       "      <td>0.187601</td>\n",
       "      <td>Divide</td>\n",
       "      <td>True</td>\n",
       "    </tr>\n",
       "    <tr>\n",
       "      <th>6</th>\n",
       "      <td>10</td>\n",
       "      <td>0.017069</td>\n",
       "      <td>Add</td>\n",
       "      <td>True</td>\n",
       "    </tr>\n",
       "    <tr>\n",
       "      <th>7</th>\n",
       "      <td>3</td>\n",
       "      <td>0.013337</td>\n",
       "      <td>Divide</td>\n",
       "      <td>True</td>\n",
       "    </tr>\n",
       "    <tr>\n",
       "      <th>8</th>\n",
       "      <td>4</td>\n",
       "      <td>0.360310</td>\n",
       "      <td>Divide</td>\n",
       "      <td>True</td>\n",
       "    </tr>\n",
       "    <tr>\n",
       "      <th>9</th>\n",
       "      <td>8</td>\n",
       "      <td>0.195969</td>\n",
       "      <td>Divide</td>\n",
       "      <td>True</td>\n",
       "    </tr>\n",
       "  </tbody>\n",
       "</table>\n",
       "</div>"
      ],
      "text/plain": [
       "    A         B       C     D\n",
       "0   1  0.057024  Divide  True\n",
       "1  10  0.000000     Add  True\n",
       "2  10  0.291371     Add  True\n",
       "3  10  0.140063     Add  True\n",
       "4   5  0.015301  Divide  True\n",
       "5   2  0.187601  Divide  True\n",
       "6  10  0.017069     Add  True\n",
       "7   3  0.013337  Divide  True\n",
       "8   4  0.360310  Divide  True\n",
       "9   8  0.195969  Divide  True"
      ]
     },
     "metadata": {},
     "output_type": "display_data"
    }
   ],
   "source": [
    "num_samples = 10 \n",
    "counterfactuals = generator.sample(num_samples, include_dataset=False)\n",
    "display(counterfactuals)"
   ]
  },
  {
   "cell_type": "markdown",
   "metadata": {},
   "source": [
    "Let's evaluate the counterfactuals we generated, we should see that every O1 value is greater or equal to 10, while every O2 value is true. "
   ]
  },
  {
   "cell_type": "code",
   "execution_count": 13,
   "metadata": {},
   "outputs": [
    {
     "data": {
      "text/html": [
       "<div>\n",
       "<style scoped>\n",
       "    .dataframe tbody tr th:only-of-type {\n",
       "        vertical-align: middle;\n",
       "    }\n",
       "\n",
       "    .dataframe tbody tr th {\n",
       "        vertical-align: top;\n",
       "    }\n",
       "\n",
       "    .dataframe thead th {\n",
       "        text-align: right;\n",
       "    }\n",
       "</style>\n",
       "<table border=\"1\" class=\"dataframe\">\n",
       "  <thead>\n",
       "    <tr style=\"text-align: right;\">\n",
       "      <th></th>\n",
       "      <th>O1</th>\n",
       "      <th>O2</th>\n",
       "    </tr>\n",
       "  </thead>\n",
       "  <tbody>\n",
       "    <tr>\n",
       "      <th>0</th>\n",
       "      <td>17.536327</td>\n",
       "      <td>True</td>\n",
       "    </tr>\n",
       "    <tr>\n",
       "      <th>1</th>\n",
       "      <td>10.000000</td>\n",
       "      <td>True</td>\n",
       "    </tr>\n",
       "    <tr>\n",
       "      <th>2</th>\n",
       "      <td>10.291371</td>\n",
       "      <td>True</td>\n",
       "    </tr>\n",
       "    <tr>\n",
       "      <th>3</th>\n",
       "      <td>10.140063</td>\n",
       "      <td>True</td>\n",
       "    </tr>\n",
       "    <tr>\n",
       "      <th>4</th>\n",
       "      <td>326.780318</td>\n",
       "      <td>True</td>\n",
       "    </tr>\n",
       "    <tr>\n",
       "      <th>5</th>\n",
       "      <td>10.660896</td>\n",
       "      <td>True</td>\n",
       "    </tr>\n",
       "    <tr>\n",
       "      <th>6</th>\n",
       "      <td>10.017069</td>\n",
       "      <td>True</td>\n",
       "    </tr>\n",
       "    <tr>\n",
       "      <th>7</th>\n",
       "      <td>224.944367</td>\n",
       "      <td>True</td>\n",
       "    </tr>\n",
       "    <tr>\n",
       "      <th>8</th>\n",
       "      <td>11.101540</td>\n",
       "      <td>True</td>\n",
       "    </tr>\n",
       "    <tr>\n",
       "      <th>9</th>\n",
       "      <td>40.822701</td>\n",
       "      <td>True</td>\n",
       "    </tr>\n",
       "  </tbody>\n",
       "</table>\n",
       "</div>"
      ],
      "text/plain": [
       "           O1    O2\n",
       "0   17.536327  True\n",
       "1   10.000000  True\n",
       "2   10.291371  True\n",
       "3   10.140063  True\n",
       "4  326.780318  True\n",
       "5   10.660896  True\n",
       "6   10.017069  True\n",
       "7  224.944367  True\n",
       "8   11.101540  True\n",
       "9   40.822701  True"
      ]
     },
     "execution_count": 13,
     "metadata": {},
     "output_type": "execute_result"
    }
   ],
   "source": [
    "evaluate(counterfactuals)"
   ]
  },
  {
   "cell_type": "markdown",
   "metadata": {},
   "source": [
    "### Adding Optimization Objectives to the Mix\n",
    "Now let's try converting one of our two constraints into an objective. We will make our `ContinuousTarget` into a `MinimizationTarget`.  In this case, we do not specify bounds, but if we wanted to further contstraint the objective to minimize, this could be done with a `ContinuousTarget` and a `MinimizationTarget`. "
   ]
  },
  {
   "cell_type": "code",
   "execution_count": 14,
   "metadata": {},
   "outputs": [],
   "source": [
    "target_1 = design_targets.MinimizationTarget(label = \"O1\")\n",
    "y_targets = design_targets.DesignTargets(minimization_targets=[target_1], categorical_targets=[target_2])\n",
    "problem = mcd_problem.McdProblem(mcd_dataset=data, x_query = x_query, y_targets = y_targets, prediction_function=evaluate)"
   ]
  },
  {
   "cell_type": "code",
   "execution_count": 15,
   "metadata": {},
   "outputs": [
    {
     "name": "stdout",
     "output_type": "stream",
     "text": [
      "1000 dataset entries found matching problem parameters\n",
      "Initial population initialized from dataset of 1000 samples!\n",
      "Training GA from 0 to 10 generations!\n",
      "==========================================================================================\n",
      "n_gen  |  n_eval  | n_nds  |     cv_min    |     cv_avg    |      eps      |   indicator  \n",
      "==========================================================================================\n",
      "     1 |        0 |     76 |  0.000000E+00 |  0.5094905095 |             - |             -\n",
      "     2 |      100 |     78 |  0.000000E+00 |  0.000000E+00 |  0.0008955904 |             f\n",
      "     3 |      200 |     90 |  0.000000E+00 |  0.000000E+00 |  0.0067547979 |             f\n",
      "     4 |      300 |    100 |  0.000000E+00 |  0.000000E+00 |  0.0053452192 |         ideal\n",
      "     5 |      400 |    100 |  0.000000E+00 |  0.000000E+00 |  0.0007545384 |             f\n",
      "     6 |      500 |    100 |  0.000000E+00 |  0.000000E+00 |  0.0062512506 |         ideal\n",
      "     7 |      600 |    100 |  0.000000E+00 |  0.000000E+00 |  0.0024572705 |             f\n",
      "     8 |      700 |    100 |  0.000000E+00 |  0.000000E+00 |  0.0061652282 |             f\n",
      "     9 |      800 |    100 |  0.000000E+00 |  0.000000E+00 |  0.0024916612 |             f\n",
      "    10 |      900 |    100 |  0.000000E+00 |  0.000000E+00 |  0.0114671235 |         ideal\n",
      "Collecting all counterfactual candidates!\n",
      "Scoring all counterfactual candidates!\n",
      "Calculating diversity matrix!\n",
      "Sampling diverse set of counterfactual candidates!\n",
      "samples_index=[np.int64(286), np.int64(476), np.int64(299), np.int64(708), np.int64(222), np.int64(535), np.int64(402), np.int64(592), np.int64(318), np.int64(624)]\n",
      "Done! Returning CFs\n"
     ]
    }
   ],
   "source": [
    "generator = mcd_generator.McdGenerator(problem=problem, pop_size=100, initialize_from_dataset=True)\n",
    "generator.generate(n_generations=10)\n",
    "counterfactuals = generator.sample(num_samples, include_dataset=False)"
   ]
  },
  {
   "cell_type": "markdown",
   "metadata": {},
   "source": [
    "We can see that in this case, the generated counterfactuals have much smaller O1 values. "
   ]
  },
  {
   "cell_type": "code",
   "execution_count": 16,
   "metadata": {},
   "outputs": [
    {
     "data": {
      "text/html": [
       "<div>\n",
       "<style scoped>\n",
       "    .dataframe tbody tr th:only-of-type {\n",
       "        vertical-align: middle;\n",
       "    }\n",
       "\n",
       "    .dataframe tbody tr th {\n",
       "        vertical-align: top;\n",
       "    }\n",
       "\n",
       "    .dataframe thead th {\n",
       "        text-align: right;\n",
       "    }\n",
       "</style>\n",
       "<table border=\"1\" class=\"dataframe\">\n",
       "  <thead>\n",
       "    <tr style=\"text-align: right;\">\n",
       "      <th></th>\n",
       "      <th>O1</th>\n",
       "      <th>O2</th>\n",
       "    </tr>\n",
       "  </thead>\n",
       "  <tbody>\n",
       "    <tr>\n",
       "      <th>0</th>\n",
       "      <td>-8.026160</td>\n",
       "      <td>True</td>\n",
       "    </tr>\n",
       "    <tr>\n",
       "      <th>1</th>\n",
       "      <td>0.992633</td>\n",
       "      <td>True</td>\n",
       "    </tr>\n",
       "    <tr>\n",
       "      <th>2</th>\n",
       "      <td>0.061333</td>\n",
       "      <td>True</td>\n",
       "    </tr>\n",
       "    <tr>\n",
       "      <th>3</th>\n",
       "      <td>5.180932</td>\n",
       "      <td>True</td>\n",
       "    </tr>\n",
       "    <tr>\n",
       "      <th>4</th>\n",
       "      <td>-3.999679</td>\n",
       "      <td>True</td>\n",
       "    </tr>\n",
       "    <tr>\n",
       "      <th>5</th>\n",
       "      <td>6.046679</td>\n",
       "      <td>True</td>\n",
       "    </tr>\n",
       "    <tr>\n",
       "      <th>6</th>\n",
       "      <td>3.159426</td>\n",
       "      <td>True</td>\n",
       "    </tr>\n",
       "    <tr>\n",
       "      <th>7</th>\n",
       "      <td>-0.031941</td>\n",
       "      <td>True</td>\n",
       "    </tr>\n",
       "    <tr>\n",
       "      <th>8</th>\n",
       "      <td>5.028652</td>\n",
       "      <td>True</td>\n",
       "    </tr>\n",
       "    <tr>\n",
       "      <th>9</th>\n",
       "      <td>-0.676274</td>\n",
       "      <td>True</td>\n",
       "    </tr>\n",
       "  </tbody>\n",
       "</table>\n",
       "</div>"
      ],
      "text/plain": [
       "         O1    O2\n",
       "0 -8.026160  True\n",
       "1  0.992633  True\n",
       "2  0.061333  True\n",
       "3  5.180932  True\n",
       "4 -3.999679  True\n",
       "5  6.046679  True\n",
       "6  3.159426  True\n",
       "7 -0.031941  True\n",
       "8  5.028652  True\n",
       "9 -0.676274  True"
      ]
     },
     "execution_count": 16,
     "metadata": {},
     "output_type": "execute_result"
    }
   ],
   "source": [
    "evaluate(counterfactuals)"
   ]
  },
  {
   "cell_type": "code",
   "execution_count": null,
   "metadata": {},
   "outputs": [],
   "source": []
  }
 ],
 "metadata": {
  "kernelspec": {
   "display_name": "Python 3 (ipykernel)",
   "language": "python",
   "name": "python3"
  },
  "language_info": {
   "codemirror_mode": {
    "name": "ipython",
    "version": 3
   },
   "file_extension": ".py",
   "mimetype": "text/x-python",
   "name": "python",
   "nbconvert_exporter": "python",
   "pygments_lexer": "ipython3",
   "version": "3.9.21"
  }
 },
 "nbformat": 4,
 "nbformat_minor": 4
}
