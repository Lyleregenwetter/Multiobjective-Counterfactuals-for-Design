{
 "cells": [
  {
   "cell_type": "code",
   "execution_count": 1,
   "metadata": {},
   "outputs": [],
   "source": [
    "import sys\n",
    "sys.path.append('../src/')\n",
    "import decode_mcd\n",
    "import decode_mcd.multi_objective_problem as MOP\n",
    "from decode_mcd import data_package\n",
    "\n",
    "\n",
    "from decode_mcd import design_targets\n",
    "from decode_mcd import counterfactuals_generator\n",
    "\n",
    "import numpy as np\n",
    "import pandas as pd\n",
    "import matplotlib.pyplot as plt"
   ]
  },
  {
   "cell_type": "markdown",
   "metadata": {},
   "source": [
    "In the notebook we will cover mixed datatypes and generating counterfactuals with multiple mixed objectives types. "
   ]
  },
  {
   "cell_type": "markdown",
   "metadata": {},
   "source": [
    "### Creating Dataset"
   ]
  },
  {
   "cell_type": "markdown",
   "metadata": {},
   "source": [
    "First, lets create a dataset inspired by some basic arithmetic. This time, we will create a dataset with four variables of different types. `A` will be a random integer from 0 to 10 inclusive. `B` will be a random float from -1 to 1. `C` will be a random choice among \"Add\" \"Subtract\", \"Multiply\", and \"Divide\". Finally, `D` will be a boolean variable determining the sign of the expression. True will correspond to positive while False will mean negative. To effectively handle mixed datatypes will will use pandas."
   ]
  },
  {
   "cell_type": "code",
   "execution_count": 2,
   "metadata": {},
   "outputs": [
    {
     "data": {
      "text/html": [
       "<div>\n",
       "<style scoped>\n",
       "    .dataframe tbody tr th:only-of-type {\n",
       "        vertical-align: middle;\n",
       "    }\n",
       "\n",
       "    .dataframe tbody tr th {\n",
       "        vertical-align: top;\n",
       "    }\n",
       "\n",
       "    .dataframe thead th {\n",
       "        text-align: right;\n",
       "    }\n",
       "</style>\n",
       "<table border=\"1\" class=\"dataframe\">\n",
       "  <thead>\n",
       "    <tr style=\"text-align: right;\">\n",
       "      <th></th>\n",
       "      <th>A</th>\n",
       "      <th>B</th>\n",
       "      <th>C</th>\n",
       "      <th>D</th>\n",
       "    </tr>\n",
       "  </thead>\n",
       "  <tbody>\n",
       "    <tr>\n",
       "      <th>0</th>\n",
       "      <td>3</td>\n",
       "      <td>-0.126518</td>\n",
       "      <td>Multiply</td>\n",
       "      <td>False</td>\n",
       "    </tr>\n",
       "    <tr>\n",
       "      <th>1</th>\n",
       "      <td>7</td>\n",
       "      <td>-0.582334</td>\n",
       "      <td>Divide</td>\n",
       "      <td>False</td>\n",
       "    </tr>\n",
       "    <tr>\n",
       "      <th>2</th>\n",
       "      <td>6</td>\n",
       "      <td>0.324557</td>\n",
       "      <td>Add</td>\n",
       "      <td>False</td>\n",
       "    </tr>\n",
       "    <tr>\n",
       "      <th>3</th>\n",
       "      <td>7</td>\n",
       "      <td>0.968625</td>\n",
       "      <td>Multiply</td>\n",
       "      <td>True</td>\n",
       "    </tr>\n",
       "    <tr>\n",
       "      <th>4</th>\n",
       "      <td>8</td>\n",
       "      <td>-0.281043</td>\n",
       "      <td>Divide</td>\n",
       "      <td>False</td>\n",
       "    </tr>\n",
       "    <tr>\n",
       "      <th>...</th>\n",
       "      <td>...</td>\n",
       "      <td>...</td>\n",
       "      <td>...</td>\n",
       "      <td>...</td>\n",
       "    </tr>\n",
       "    <tr>\n",
       "      <th>995</th>\n",
       "      <td>2</td>\n",
       "      <td>-0.419863</td>\n",
       "      <td>Subtract</td>\n",
       "      <td>False</td>\n",
       "    </tr>\n",
       "    <tr>\n",
       "      <th>996</th>\n",
       "      <td>7</td>\n",
       "      <td>-0.540450</td>\n",
       "      <td>Divide</td>\n",
       "      <td>False</td>\n",
       "    </tr>\n",
       "    <tr>\n",
       "      <th>997</th>\n",
       "      <td>2</td>\n",
       "      <td>-0.135318</td>\n",
       "      <td>Subtract</td>\n",
       "      <td>True</td>\n",
       "    </tr>\n",
       "    <tr>\n",
       "      <th>998</th>\n",
       "      <td>4</td>\n",
       "      <td>-0.157028</td>\n",
       "      <td>Subtract</td>\n",
       "      <td>True</td>\n",
       "    </tr>\n",
       "    <tr>\n",
       "      <th>999</th>\n",
       "      <td>9</td>\n",
       "      <td>-0.204884</td>\n",
       "      <td>Add</td>\n",
       "      <td>True</td>\n",
       "    </tr>\n",
       "  </tbody>\n",
       "</table>\n",
       "<p>1000 rows × 4 columns</p>\n",
       "</div>"
      ],
      "text/plain": [
       "     A         B         C      D\n",
       "0    3 -0.126518  Multiply  False\n",
       "1    7 -0.582334    Divide  False\n",
       "2    6  0.324557       Add  False\n",
       "3    7  0.968625  Multiply   True\n",
       "4    8 -0.281043    Divide  False\n",
       "..  ..       ...       ...    ...\n",
       "995  2 -0.419863  Subtract  False\n",
       "996  7 -0.540450    Divide  False\n",
       "997  2 -0.135318  Subtract   True\n",
       "998  4 -0.157028  Subtract   True\n",
       "999  9 -0.204884       Add   True\n",
       "\n",
       "[1000 rows x 4 columns]"
      ]
     },
     "metadata": {},
     "output_type": "display_data"
    }
   ],
   "source": [
    "num_data = 1000\n",
    "A = np.random.randint(0, 10, num_data)\n",
    "B = np.random.rand(num_data) * 2 - 1 #Randomized values which originally range from 0 to 1. Scales to -1 to 1.\n",
    "C = np.random.choice([\"Add\", \"Subtract\", \"Multiply\", \"Divide\"], num_data)\n",
    "D = np.random.choice([True, False], num_data)\n",
    "x = pd.DataFrame({\"A\": A, \"B\": B, \"C\": C, \"D\": D})\n",
    "display(x)\n"
   ]
  },
  {
   "cell_type": "markdown",
   "metadata": {},
   "source": [
    "We will create two functions. In the first one we will perform operation C(D(A), B). The second will perform D(C(B, A))>=0. For example, if C is add and D is False, function 1 will calculate -A+B while function 2 will check if -(B+A) is greater than 0 or not. We code up the `evaluate` function which takes in a dataframe with a set of `A`, `B`, `C`, and `D` values and returns a set of `O1` and `O2` values, which is what we call our function"
   ]
  },
  {
   "cell_type": "code",
   "execution_count": 3,
   "metadata": {},
   "outputs": [],
   "source": [
    "def apply_operation(C, x, y):\n",
    "    #Vectorized function to calculate C(x, y), for example if C is \"Subtract\", calculates x-y.\n",
    "    add_mask = (C == \"Add\")\n",
    "    subtract_mask = (C == \"Subtract\")\n",
    "    multiply_mask = (C == \"Multiply\")\n",
    "    divide_mask = (C == \"Divide\")\n",
    "    result = np.zeros(len(C))\n",
    "    result[add_mask] = x[add_mask] + y[add_mask]\n",
    "    result[subtract_mask] = x[subtract_mask] - y[subtract_mask]\n",
    "    result[multiply_mask] = x[multiply_mask] * y[multiply_mask]\n",
    "    result[divide_mask] = x[divide_mask] / y[divide_mask]\n",
    "    return result\n",
    "\n",
    "def apply_inverse(D, x):\n",
    "    #Vectorized function to calculate D(x), for example if D is False, returns -x. \n",
    "    return x*D-x*~D\n",
    "\n",
    "def evaluate(x):\n",
    "    #Evaluation function to calculate both objectives. x is an nx4 dataframe. \n",
    "    A = x[\"A\"] #First isolate the individual variables from the provided dataframe\n",
    "    B = x[\"B\"]\n",
    "    C = x[\"C\"]\n",
    "    D = x[\"D\"].astype(bool)\n",
    "    objective_1 = apply_operation(C, apply_inverse(D, A), B) #Calculate objective 1\n",
    "    objective_2 = np.greater(apply_inverse(D, apply_operation(C, B, A)), 0) #Calculate objective 2\n",
    "    return pd.DataFrame({\"O1\": objective_1, \"O2\": objective_2}) #Create a nx2 dataframe with the objective values\n",
    " "
   ]
  },
  {
   "cell_type": "markdown",
   "metadata": {},
   "source": [
    "Let's evaluate our dataset."
   ]
  },
  {
   "cell_type": "code",
   "execution_count": 4,
   "metadata": {},
   "outputs": [
    {
     "data": {
      "text/html": [
       "<div>\n",
       "<style scoped>\n",
       "    .dataframe tbody tr th:only-of-type {\n",
       "        vertical-align: middle;\n",
       "    }\n",
       "\n",
       "    .dataframe tbody tr th {\n",
       "        vertical-align: top;\n",
       "    }\n",
       "\n",
       "    .dataframe thead th {\n",
       "        text-align: right;\n",
       "    }\n",
       "</style>\n",
       "<table border=\"1\" class=\"dataframe\">\n",
       "  <thead>\n",
       "    <tr style=\"text-align: right;\">\n",
       "      <th></th>\n",
       "      <th>O1</th>\n",
       "      <th>O2</th>\n",
       "    </tr>\n",
       "  </thead>\n",
       "  <tbody>\n",
       "    <tr>\n",
       "      <th>0</th>\n",
       "      <td>0.379553</td>\n",
       "      <td>True</td>\n",
       "    </tr>\n",
       "    <tr>\n",
       "      <th>1</th>\n",
       "      <td>12.020590</td>\n",
       "      <td>True</td>\n",
       "    </tr>\n",
       "    <tr>\n",
       "      <th>2</th>\n",
       "      <td>-5.675443</td>\n",
       "      <td>False</td>\n",
       "    </tr>\n",
       "    <tr>\n",
       "      <th>3</th>\n",
       "      <td>6.780378</td>\n",
       "      <td>True</td>\n",
       "    </tr>\n",
       "    <tr>\n",
       "      <th>4</th>\n",
       "      <td>28.465378</td>\n",
       "      <td>True</td>\n",
       "    </tr>\n",
       "    <tr>\n",
       "      <th>...</th>\n",
       "      <td>...</td>\n",
       "      <td>...</td>\n",
       "    </tr>\n",
       "    <tr>\n",
       "      <th>995</th>\n",
       "      <td>-1.580137</td>\n",
       "      <td>True</td>\n",
       "    </tr>\n",
       "    <tr>\n",
       "      <th>996</th>\n",
       "      <td>12.952159</td>\n",
       "      <td>True</td>\n",
       "    </tr>\n",
       "    <tr>\n",
       "      <th>997</th>\n",
       "      <td>2.135318</td>\n",
       "      <td>False</td>\n",
       "    </tr>\n",
       "    <tr>\n",
       "      <th>998</th>\n",
       "      <td>4.157028</td>\n",
       "      <td>False</td>\n",
       "    </tr>\n",
       "    <tr>\n",
       "      <th>999</th>\n",
       "      <td>8.795116</td>\n",
       "      <td>True</td>\n",
       "    </tr>\n",
       "  </tbody>\n",
       "</table>\n",
       "<p>1000 rows × 2 columns</p>\n",
       "</div>"
      ],
      "text/plain": [
       "            O1     O2\n",
       "0     0.379553   True\n",
       "1    12.020590   True\n",
       "2    -5.675443  False\n",
       "3     6.780378   True\n",
       "4    28.465378   True\n",
       "..         ...    ...\n",
       "995  -1.580137   True\n",
       "996  12.952159   True\n",
       "997   2.135318  False\n",
       "998   4.157028  False\n",
       "999   8.795116   True\n",
       "\n",
       "[1000 rows x 2 columns]"
      ]
     },
     "metadata": {},
     "output_type": "display_data"
    }
   ],
   "source": [
    "y = evaluate(x)\n",
    "display(y)"
   ]
  },
  {
   "cell_type": "markdown",
   "metadata": {},
   "source": [
    "Finally, we create our query. "
   ]
  },
  {
   "cell_type": "code",
   "execution_count": 5,
   "metadata": {},
   "outputs": [
    {
     "data": {
      "text/html": [
       "<div>\n",
       "<style scoped>\n",
       "    .dataframe tbody tr th:only-of-type {\n",
       "        vertical-align: middle;\n",
       "    }\n",
       "\n",
       "    .dataframe tbody tr th {\n",
       "        vertical-align: top;\n",
       "    }\n",
       "\n",
       "    .dataframe thead th {\n",
       "        text-align: right;\n",
       "    }\n",
       "</style>\n",
       "<table border=\"1\" class=\"dataframe\">\n",
       "  <thead>\n",
       "    <tr style=\"text-align: right;\">\n",
       "      <th></th>\n",
       "      <th>A</th>\n",
       "      <th>B</th>\n",
       "      <th>C</th>\n",
       "      <th>D</th>\n",
       "    </tr>\n",
       "  </thead>\n",
       "  <tbody>\n",
       "    <tr>\n",
       "      <th>Query</th>\n",
       "      <td>0</td>\n",
       "      <td>0.0</td>\n",
       "      <td>Add</td>\n",
       "      <td>True</td>\n",
       "    </tr>\n",
       "  </tbody>\n",
       "</table>\n",
       "</div>"
      ],
      "text/plain": [
       "       A    B    C     D\n",
       "Query  0  0.0  Add  True"
      ]
     },
     "metadata": {},
     "output_type": "display_data"
    }
   ],
   "source": [
    "x_query = pd.DataFrame({\"A\": [0], \"B\": [0.0], \"C\": [\"Add\"], \"D\": [True]}, index = [\"Query\"])\n",
    "display(x_query)"
   ]
  },
  {
   "cell_type": "markdown",
   "metadata": {},
   "source": [
    "### Setting up MCD"
   ]
  },
  {
   "cell_type": "markdown",
   "metadata": {},
   "source": [
    "Now we are ready to set up the DataPackage. We create two design targets. We have one continuous target and one categorical target. Continuous targets should be used for any objective with ordinal significance (such as floats or ints), while categorical targets should be used for those without (such as classes or bools)"
   ]
  },
  {
   "cell_type": "markdown",
   "metadata": {},
   "source": [
    "We also specify the datatypes of our dataset. This time we have one of each type of variable. We specify the boundaries and options as specified earlier in the notebook."
   ]
  },
  {
   "cell_type": "code",
   "execution_count": 7,
   "metadata": {},
   "outputs": [],
   "source": [
    "from pymoo.core.variable import Real, Integer, Choice, Binary \n",
    "datatypes=[Integer(bounds=(0, 10)), \n",
    "           Real(bounds=(-1, 1)), \n",
    "           Choice(options=[\"Add\", \"Subtract\", \"Multiply\", \"Divide\"]), \n",
    "           Binary()]"
   ]
  },
  {
   "cell_type": "markdown",
   "metadata": {},
   "source": [
    "Finally, we create the `DataPackage`."
   ]
  },
  {
   "cell_type": "code",
   "execution_count": 9,
   "metadata": {},
   "outputs": [],
   "source": [
    "data = data_package.DataPackage(x=x, y=y, x_datatypes=datatypes)"
   ]
  },
  {
   "cell_type": "markdown",
   "metadata": {},
   "source": [
    "Next, we create the design targets and the `MultiObjectiveProblem`. We want set a hard lower bound of 10 for O1 with no upper bound, meaning C(D(A), B)>=10. We also set a requirement that O2 must be true, meaning that D(C(B, A))>=0"
   ]
  },
  {
   "cell_type": "code",
   "execution_count": 10,
   "metadata": {},
   "outputs": [],
   "source": [
    "#We first set up a ContinuousTarget for O1, setting a minimum of 10 and setting no upper bound (i.e. infinity))\n",
    "target_1 = design_targets.ContinuousTarget(label = \"O1\", lower_bound=10, upper_bound=np.inf)\n",
    "\n",
    "#We then set up a CategoricalTarget for O2 specifying only True as the desired class. \n",
    "#Desired_classes is a list. In problems with multiple classes, this list specifies the acceptable classes.\n",
    "target_2 = design_targets.CategoricalTarget(label = \"O2\", desired_classes=[True])\n",
    "\n",
    "#We then create a DesignTargets object with the two targets.\n",
    "y_targets = design_targets.DesignTargets(continuous_targets=[target_1], categorical_targets=[target_2])"
   ]
  },
  {
   "cell_type": "code",
   "execution_count": 11,
   "metadata": {},
   "outputs": [],
   "source": [
    "problem = MOP.MultiObjectiveProblem(data_package=data, x_query = x_query, y_targets = y_targets, prediction_function=evaluate)"
   ]
  },
  {
   "cell_type": "markdown",
   "metadata": {},
   "source": [
    "Finally, we create the `CounterfactualsGenerator`."
   ]
  },
  {
   "cell_type": "code",
   "execution_count": 13,
   "metadata": {},
   "outputs": [],
   "source": [
    "generator = counterfactuals_generator.CounterfactualsGenerator(problem=problem, pop_size=100, initialize_from_dataset=True)"
   ]
  },
  {
   "cell_type": "code",
   "execution_count": 14,
   "metadata": {},
   "outputs": [
    {
     "name": "stdout",
     "output_type": "stream",
     "text": [
      "1000 dataset entries found matching problem parameters\n",
      "Initial population initialized from dataset of 1000 samples!\n",
      "Training GA from 0 to 10 generations!\n",
      "==========================================================================================\n",
      "n_gen  |  n_eval  | n_nds  |     cv_min    |     cv_avg    |      eps      |   indicator  \n",
      "==========================================================================================\n",
      "     1 |        0 |      4 |  0.000000E+00 |  1.570420E+01 |             - |             -\n"
     ]
    },
    {
     "name": "stderr",
     "output_type": "stream",
     "text": [
      "c:\\Users\\Lyle\\Documents\\Files\\DeCoDE\\Multiobjective-Counterfactuals-for-Design\\Getting Started\\../src\\decode_mcd\\multi_objective_problem.py:294: RuntimeWarning: invalid value encountered in subtract\n",
      "  satisfaction = np.maximum(actual - query_ub, query_lb - actual)\n",
      "c:\\Users\\Lyle\\Documents\\Files\\DeCoDE\\Multiobjective-Counterfactuals-for-Design\\Getting Started\\../src\\decode_mcd\\multi_objective_problem.py:294: RuntimeWarning: invalid value encountered in subtract\n",
      "  satisfaction = np.maximum(actual - query_ub, query_lb - actual)\n"
     ]
    },
    {
     "name": "stdout",
     "output_type": "stream",
     "text": [
      "     2 |      100 |      4 |  0.000000E+00 |  0.5740628280 |  0.000000E+00 |             f\n",
      "     3 |      200 |      4 |  0.000000E+00 |  0.2661620773 |  0.000000E+00 |             f\n",
      "     4 |      300 |      4 |  0.000000E+00 |  0.0323266568 |  0.000000E+00 |             f\n",
      "     5 |      400 |      4 |  0.000000E+00 |  0.000000E+00 |  0.000000E+00 |             f\n",
      "     6 |      500 |      4 |  0.000000E+00 |  0.000000E+00 |  0.000000E+00 |             f\n",
      "     7 |      600 |      4 |  0.000000E+00 |  0.000000E+00 |  0.000000E+00 |             f\n",
      "     8 |      700 |      4 |  0.000000E+00 |  0.000000E+00 |  0.000000E+00 |             f\n"
     ]
    },
    {
     "name": "stderr",
     "output_type": "stream",
     "text": [
      "c:\\Users\\Lyle\\Documents\\Files\\DeCoDE\\Multiobjective-Counterfactuals-for-Design\\Getting Started\\../src\\decode_mcd\\multi_objective_problem.py:294: RuntimeWarning: invalid value encountered in subtract\n",
      "  satisfaction = np.maximum(actual - query_ub, query_lb - actual)\n",
      "c:\\Users\\Lyle\\Documents\\Files\\DeCoDE\\Multiobjective-Counterfactuals-for-Design\\Getting Started\\../src\\decode_mcd\\multi_objective_problem.py:294: RuntimeWarning: invalid value encountered in subtract\n",
      "  satisfaction = np.maximum(actual - query_ub, query_lb - actual)\n",
      "c:\\Users\\Lyle\\Documents\\Files\\DeCoDE\\Multiobjective-Counterfactuals-for-Design\\Getting Started\\../src\\decode_mcd\\multi_objective_problem.py:294: RuntimeWarning: invalid value encountered in subtract\n",
      "  satisfaction = np.maximum(actual - query_ub, query_lb - actual)\n"
     ]
    },
    {
     "name": "stdout",
     "output_type": "stream",
     "text": [
      "     9 |      800 |      5 |  0.000000E+00 |  0.000000E+00 |  0.0234051693 |             f\n",
      "    10 |      900 |      5 |  0.000000E+00 |  0.000000E+00 |  0.000000E+00 |             f\n"
     ]
    },
    {
     "name": "stderr",
     "output_type": "stream",
     "text": [
      "c:\\Users\\Lyle\\Documents\\Files\\DeCoDE\\Multiobjective-Counterfactuals-for-Design\\Getting Started\\../src\\decode_mcd\\multi_objective_problem.py:294: RuntimeWarning: invalid value encountered in subtract\n",
      "  satisfaction = np.maximum(actual - query_ub, query_lb - actual)\n"
     ]
    }
   ],
   "source": [
    "generator.generate(n_generations=10)"
   ]
  },
  {
   "cell_type": "code",
   "execution_count": 18,
   "metadata": {},
   "outputs": [
    {
     "name": "stdout",
     "output_type": "stream",
     "text": [
      "Collecting all counterfactual candidates!\n",
      "Scoring all counterfactual candidates!\n",
      "Calculating diversity matrix!\n",
      "Sampling diverse set of counterfactual candidates!\n",
      "samples_index=[38, 90, 42, 16, 145, 182, 154, 148, 17, 191]\n",
      "Done! Returning CFs\n"
     ]
    },
    {
     "data": {
      "text/html": [
       "<div>\n",
       "<style scoped>\n",
       "    .dataframe tbody tr th:only-of-type {\n",
       "        vertical-align: middle;\n",
       "    }\n",
       "\n",
       "    .dataframe tbody tr th {\n",
       "        vertical-align: top;\n",
       "    }\n",
       "\n",
       "    .dataframe thead th {\n",
       "        text-align: right;\n",
       "    }\n",
       "</style>\n",
       "<table border=\"1\" class=\"dataframe\">\n",
       "  <thead>\n",
       "    <tr style=\"text-align: right;\">\n",
       "      <th></th>\n",
       "      <th>A</th>\n",
       "      <th>B</th>\n",
       "      <th>C</th>\n",
       "      <th>D</th>\n",
       "    </tr>\n",
       "  </thead>\n",
       "  <tbody>\n",
       "    <tr>\n",
       "      <th>0</th>\n",
       "      <td>2</td>\n",
       "      <td>0.182102</td>\n",
       "      <td>Divide</td>\n",
       "      <td>True</td>\n",
       "    </tr>\n",
       "    <tr>\n",
       "      <th>1</th>\n",
       "      <td>7</td>\n",
       "      <td>0.017875</td>\n",
       "      <td>Divide</td>\n",
       "      <td>True</td>\n",
       "    </tr>\n",
       "    <tr>\n",
       "      <th>2</th>\n",
       "      <td>4</td>\n",
       "      <td>0.296135</td>\n",
       "      <td>Divide</td>\n",
       "      <td>True</td>\n",
       "    </tr>\n",
       "    <tr>\n",
       "      <th>3</th>\n",
       "      <td>2</td>\n",
       "      <td>-0.122190</td>\n",
       "      <td>Divide</td>\n",
       "      <td>False</td>\n",
       "    </tr>\n",
       "    <tr>\n",
       "      <th>4</th>\n",
       "      <td>5</td>\n",
       "      <td>0.110378</td>\n",
       "      <td>Divide</td>\n",
       "      <td>True</td>\n",
       "    </tr>\n",
       "    <tr>\n",
       "      <th>5</th>\n",
       "      <td>4</td>\n",
       "      <td>0.014061</td>\n",
       "      <td>Divide</td>\n",
       "      <td>True</td>\n",
       "    </tr>\n",
       "    <tr>\n",
       "      <th>6</th>\n",
       "      <td>6</td>\n",
       "      <td>0.596040</td>\n",
       "      <td>Divide</td>\n",
       "      <td>True</td>\n",
       "    </tr>\n",
       "    <tr>\n",
       "      <th>7</th>\n",
       "      <td>9</td>\n",
       "      <td>0.315840</td>\n",
       "      <td>Divide</td>\n",
       "      <td>True</td>\n",
       "    </tr>\n",
       "    <tr>\n",
       "      <th>8</th>\n",
       "      <td>2</td>\n",
       "      <td>0.112151</td>\n",
       "      <td>Divide</td>\n",
       "      <td>True</td>\n",
       "    </tr>\n",
       "    <tr>\n",
       "      <th>9</th>\n",
       "      <td>6</td>\n",
       "      <td>0.184919</td>\n",
       "      <td>Divide</td>\n",
       "      <td>True</td>\n",
       "    </tr>\n",
       "  </tbody>\n",
       "</table>\n",
       "</div>"
      ],
      "text/plain": [
       "   A         B       C      D\n",
       "0  2  0.182102  Divide   True\n",
       "1  7  0.017875  Divide   True\n",
       "2  4  0.296135  Divide   True\n",
       "3  2 -0.122190  Divide  False\n",
       "4  5  0.110378  Divide   True\n",
       "5  4  0.014061  Divide   True\n",
       "6  6  0.596040  Divide   True\n",
       "7  9  0.315840  Divide   True\n",
       "8  2  0.112151  Divide   True\n",
       "9  6  0.184919  Divide   True"
      ]
     },
     "metadata": {},
     "output_type": "display_data"
    }
   ],
   "source": [
    "num_samples = 10 \n",
    "counterfactuals = generator.sample(num_samples, include_dataset=False)\n",
    "display(counterfactuals)"
   ]
  },
  {
   "cell_type": "markdown",
   "metadata": {},
   "source": [
    "Let's evaluate the counterfactuals we generated, we should see that every O1 value is greater or equal to 10, while every O2 value is true. "
   ]
  },
  {
   "cell_type": "code",
   "execution_count": 19,
   "metadata": {},
   "outputs": [
    {
     "data": {
      "text/html": [
       "<div>\n",
       "<style scoped>\n",
       "    .dataframe tbody tr th:only-of-type {\n",
       "        vertical-align: middle;\n",
       "    }\n",
       "\n",
       "    .dataframe tbody tr th {\n",
       "        vertical-align: top;\n",
       "    }\n",
       "\n",
       "    .dataframe thead th {\n",
       "        text-align: right;\n",
       "    }\n",
       "</style>\n",
       "<table border=\"1\" class=\"dataframe\">\n",
       "  <thead>\n",
       "    <tr style=\"text-align: right;\">\n",
       "      <th></th>\n",
       "      <th>O1</th>\n",
       "      <th>O2</th>\n",
       "    </tr>\n",
       "  </thead>\n",
       "  <tbody>\n",
       "    <tr>\n",
       "      <th>0</th>\n",
       "      <td>10.982857</td>\n",
       "      <td>True</td>\n",
       "    </tr>\n",
       "    <tr>\n",
       "      <th>1</th>\n",
       "      <td>391.602901</td>\n",
       "      <td>True</td>\n",
       "    </tr>\n",
       "    <tr>\n",
       "      <th>2</th>\n",
       "      <td>13.507345</td>\n",
       "      <td>True</td>\n",
       "    </tr>\n",
       "    <tr>\n",
       "      <th>3</th>\n",
       "      <td>16.367968</td>\n",
       "      <td>True</td>\n",
       "    </tr>\n",
       "    <tr>\n",
       "      <th>4</th>\n",
       "      <td>45.298855</td>\n",
       "      <td>True</td>\n",
       "    </tr>\n",
       "    <tr>\n",
       "      <th>5</th>\n",
       "      <td>284.472265</td>\n",
       "      <td>True</td>\n",
       "    </tr>\n",
       "    <tr>\n",
       "      <th>6</th>\n",
       "      <td>10.066445</td>\n",
       "      <td>True</td>\n",
       "    </tr>\n",
       "    <tr>\n",
       "      <th>7</th>\n",
       "      <td>28.495471</td>\n",
       "      <td>True</td>\n",
       "    </tr>\n",
       "    <tr>\n",
       "      <th>8</th>\n",
       "      <td>17.833059</td>\n",
       "      <td>True</td>\n",
       "    </tr>\n",
       "    <tr>\n",
       "      <th>9</th>\n",
       "      <td>32.446701</td>\n",
       "      <td>True</td>\n",
       "    </tr>\n",
       "  </tbody>\n",
       "</table>\n",
       "</div>"
      ],
      "text/plain": [
       "           O1    O2\n",
       "0   10.982857  True\n",
       "1  391.602901  True\n",
       "2   13.507345  True\n",
       "3   16.367968  True\n",
       "4   45.298855  True\n",
       "5  284.472265  True\n",
       "6   10.066445  True\n",
       "7   28.495471  True\n",
       "8   17.833059  True\n",
       "9   32.446701  True"
      ]
     },
     "execution_count": 19,
     "metadata": {},
     "output_type": "execute_result"
    }
   ],
   "source": [
    "evaluate(counterfactuals)"
   ]
  },
  {
   "cell_type": "code",
   "execution_count": null,
   "metadata": {},
   "outputs": [],
   "source": []
  }
 ],
 "metadata": {
  "kernelspec": {
   "display_name": "mcd",
   "language": "python",
   "name": "python3"
  },
  "language_info": {
   "codemirror_mode": {
    "name": "ipython",
    "version": 3
   },
   "file_extension": ".py",
   "mimetype": "text/x-python",
   "name": "python",
   "nbconvert_exporter": "python",
   "pygments_lexer": "ipython3",
   "version": "3.11.6"
  }
 },
 "nbformat": 4,
 "nbformat_minor": 2
}
