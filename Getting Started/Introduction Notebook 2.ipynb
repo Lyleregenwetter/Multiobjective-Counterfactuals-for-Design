{
 "cells": [
  {
   "cell_type": "markdown",
   "metadata": {},
   "source": [
    "# Introductory Notebook 2: Mixed-Datatype Problems, Multi-Objective and Mixed-Objective Problems\n",
    "This notebook will cover mixed datatypes and generating counterfactuals with multiple mixed objectives types."
   ]
  },
  {
   "cell_type": "code",
   "execution_count": 1,
   "metadata": {},
   "outputs": [],
   "source": [
    "import sys\n",
    "sys.path.append('../src/')\n",
    "import decode_mcd\n",
    "from decode_mcd import mcd_problem\n",
    "from decode_mcd import mcd_dataset\n",
    "\n",
    "\n",
    "from decode_mcd import design_targets\n",
    "from decode_mcd import mcd_generator\n",
    "\n",
    "import numpy as np\n",
    "import pandas as pd\n",
    "import matplotlib.pyplot as plt"
   ]
  },
  {
   "cell_type": "markdown",
   "metadata": {},
   "source": [
    "### Creating a Dataset"
   ]
  },
  {
   "cell_type": "markdown",
   "metadata": {},
   "source": [
    "First, lets create a dataset inspired by some basic arithmetic. This time, we will create a dataset with four variables of different types. `A` will be a random integer from 0 to 10 inclusive. `B` will be a random float from -1 to 1. `C` will be a random choice among \"Add\" \"Subtract\", \"Multiply\", and \"Divide\". Finally, `D` will be a boolean variable determining the sign of the expression. True will correspond to positive while False will mean negative. To effectively handle mixed datatypes will will use pandas."
   ]
  },
  {
   "cell_type": "code",
   "execution_count": 2,
   "metadata": {},
   "outputs": [
    {
     "data": {
      "text/html": [
       "<div>\n",
       "<style scoped>\n",
       "    .dataframe tbody tr th:only-of-type {\n",
       "        vertical-align: middle;\n",
       "    }\n",
       "\n",
       "    .dataframe tbody tr th {\n",
       "        vertical-align: top;\n",
       "    }\n",
       "\n",
       "    .dataframe thead th {\n",
       "        text-align: right;\n",
       "    }\n",
       "</style>\n",
       "<table border=\"1\" class=\"dataframe\">\n",
       "  <thead>\n",
       "    <tr style=\"text-align: right;\">\n",
       "      <th></th>\n",
       "      <th>A</th>\n",
       "      <th>B</th>\n",
       "      <th>C</th>\n",
       "      <th>D</th>\n",
       "    </tr>\n",
       "  </thead>\n",
       "  <tbody>\n",
       "    <tr>\n",
       "      <th>0</th>\n",
       "      <td>5</td>\n",
       "      <td>0.295309</td>\n",
       "      <td>Divide</td>\n",
       "      <td>False</td>\n",
       "    </tr>\n",
       "    <tr>\n",
       "      <th>1</th>\n",
       "      <td>7</td>\n",
       "      <td>-0.348660</td>\n",
       "      <td>Divide</td>\n",
       "      <td>False</td>\n",
       "    </tr>\n",
       "    <tr>\n",
       "      <th>2</th>\n",
       "      <td>1</td>\n",
       "      <td>-0.617843</td>\n",
       "      <td>Add</td>\n",
       "      <td>False</td>\n",
       "    </tr>\n",
       "    <tr>\n",
       "      <th>3</th>\n",
       "      <td>0</td>\n",
       "      <td>-0.042743</td>\n",
       "      <td>Multiply</td>\n",
       "      <td>True</td>\n",
       "    </tr>\n",
       "    <tr>\n",
       "      <th>4</th>\n",
       "      <td>1</td>\n",
       "      <td>0.021514</td>\n",
       "      <td>Divide</td>\n",
       "      <td>True</td>\n",
       "    </tr>\n",
       "    <tr>\n",
       "      <th>...</th>\n",
       "      <td>...</td>\n",
       "      <td>...</td>\n",
       "      <td>...</td>\n",
       "      <td>...</td>\n",
       "    </tr>\n",
       "    <tr>\n",
       "      <th>995</th>\n",
       "      <td>8</td>\n",
       "      <td>-0.153462</td>\n",
       "      <td>Multiply</td>\n",
       "      <td>False</td>\n",
       "    </tr>\n",
       "    <tr>\n",
       "      <th>996</th>\n",
       "      <td>3</td>\n",
       "      <td>0.411702</td>\n",
       "      <td>Add</td>\n",
       "      <td>True</td>\n",
       "    </tr>\n",
       "    <tr>\n",
       "      <th>997</th>\n",
       "      <td>4</td>\n",
       "      <td>0.767748</td>\n",
       "      <td>Add</td>\n",
       "      <td>False</td>\n",
       "    </tr>\n",
       "    <tr>\n",
       "      <th>998</th>\n",
       "      <td>2</td>\n",
       "      <td>0.003527</td>\n",
       "      <td>Subtract</td>\n",
       "      <td>True</td>\n",
       "    </tr>\n",
       "    <tr>\n",
       "      <th>999</th>\n",
       "      <td>3</td>\n",
       "      <td>-0.532032</td>\n",
       "      <td>Divide</td>\n",
       "      <td>False</td>\n",
       "    </tr>\n",
       "  </tbody>\n",
       "</table>\n",
       "<p>1000 rows × 4 columns</p>\n",
       "</div>"
      ],
      "text/plain": [
       "     A         B         C      D\n",
       "0    5  0.295309    Divide  False\n",
       "1    7 -0.348660    Divide  False\n",
       "2    1 -0.617843       Add  False\n",
       "3    0 -0.042743  Multiply   True\n",
       "4    1  0.021514    Divide   True\n",
       "..  ..       ...       ...    ...\n",
       "995  8 -0.153462  Multiply  False\n",
       "996  3  0.411702       Add   True\n",
       "997  4  0.767748       Add  False\n",
       "998  2  0.003527  Subtract   True\n",
       "999  3 -0.532032    Divide  False\n",
       "\n",
       "[1000 rows x 4 columns]"
      ]
     },
     "metadata": {},
     "output_type": "display_data"
    }
   ],
   "source": [
    "num_data = 1000\n",
    "A = np.random.randint(0, 10, num_data)\n",
    "B = np.random.rand(num_data) * 2 - 1 #Randomized values which originally range from 0 to 1. Scales to -1 to 1.\n",
    "C = np.random.choice([\"Add\", \"Subtract\", \"Multiply\", \"Divide\"], num_data)\n",
    "D = np.random.choice([True, False], num_data)\n",
    "x = pd.DataFrame({\"A\": A, \"B\": B, \"C\": C, \"D\": D})\n",
    "display(x)\n"
   ]
  },
  {
   "cell_type": "markdown",
   "metadata": {},
   "source": [
    "We will create two functions. In the first one we will perform operation C(D(A), B). The second will perform D(C(B, A))>=0. For example, if C is add and D is False, function 1 will calculate -A+B while function 2 will check if -(B+A) is greater than 0 or not. We code up the `evaluate` function which takes in a dataframe with a set of `A`, `B`, `C`, and `D` values and returns a set of `O1` and `O2` values, which is what we call our function"
   ]
  },
  {
   "cell_type": "code",
   "execution_count": 3,
   "metadata": {},
   "outputs": [],
   "source": [
    "def apply_operation(C, x, y):\n",
    "    #Vectorized function to calculate C(x, y), for example if C is \"Subtract\", calculates x-y.\n",
    "    add_mask = (C == \"Add\")\n",
    "    subtract_mask = (C == \"Subtract\")\n",
    "    multiply_mask = (C == \"Multiply\")\n",
    "    divide_mask = (C == \"Divide\")\n",
    "    result = np.zeros(len(C))\n",
    "    result[add_mask] = x[add_mask] + y[add_mask]\n",
    "    result[subtract_mask] = x[subtract_mask] - y[subtract_mask]\n",
    "    result[multiply_mask] = x[multiply_mask] * y[multiply_mask]\n",
    "    result[divide_mask] = x[divide_mask] / y[divide_mask]\n",
    "    return result\n",
    "\n",
    "def apply_inverse(D, x):\n",
    "    #Vectorized function to calculate D(x), for example if D is False, returns -x. \n",
    "    return x*D-x*~D\n",
    "\n",
    "def evaluate(x):\n",
    "    #Evaluation function to calculate both objectives. x is an nx4 dataframe. \n",
    "    A = x[\"A\"] #First isolate the individual variables from the provided dataframe\n",
    "    B = x[\"B\"]\n",
    "    C = x[\"C\"]\n",
    "    D = x[\"D\"].astype(bool)\n",
    "    objective_1 = apply_operation(C, apply_inverse(D, A), B) #Calculate objective 1\n",
    "    objective_2 = np.greater(apply_inverse(D, apply_operation(C, B, A)), 0) #Calculate objective 2\n",
    "    return pd.DataFrame({\"O1\": objective_1, \"O2\": objective_2}) #Create a nx2 dataframe with the objective values\n",
    " "
   ]
  },
  {
   "cell_type": "markdown",
   "metadata": {},
   "source": [
    "Let's evaluate our dataset."
   ]
  },
  {
   "cell_type": "code",
   "execution_count": 4,
   "metadata": {},
   "outputs": [
    {
     "data": {
      "text/html": [
       "<div>\n",
       "<style scoped>\n",
       "    .dataframe tbody tr th:only-of-type {\n",
       "        vertical-align: middle;\n",
       "    }\n",
       "\n",
       "    .dataframe tbody tr th {\n",
       "        vertical-align: top;\n",
       "    }\n",
       "\n",
       "    .dataframe thead th {\n",
       "        text-align: right;\n",
       "    }\n",
       "</style>\n",
       "<table border=\"1\" class=\"dataframe\">\n",
       "  <thead>\n",
       "    <tr style=\"text-align: right;\">\n",
       "      <th></th>\n",
       "      <th>O1</th>\n",
       "      <th>O2</th>\n",
       "    </tr>\n",
       "  </thead>\n",
       "  <tbody>\n",
       "    <tr>\n",
       "      <th>0</th>\n",
       "      <td>-16.931417</td>\n",
       "      <td>False</td>\n",
       "    </tr>\n",
       "    <tr>\n",
       "      <th>1</th>\n",
       "      <td>20.076850</td>\n",
       "      <td>True</td>\n",
       "    </tr>\n",
       "    <tr>\n",
       "      <th>2</th>\n",
       "      <td>-1.617843</td>\n",
       "      <td>False</td>\n",
       "    </tr>\n",
       "    <tr>\n",
       "      <th>3</th>\n",
       "      <td>-0.000000</td>\n",
       "      <td>False</td>\n",
       "    </tr>\n",
       "    <tr>\n",
       "      <th>4</th>\n",
       "      <td>46.482258</td>\n",
       "      <td>True</td>\n",
       "    </tr>\n",
       "    <tr>\n",
       "      <th>...</th>\n",
       "      <td>...</td>\n",
       "      <td>...</td>\n",
       "    </tr>\n",
       "    <tr>\n",
       "      <th>995</th>\n",
       "      <td>1.227697</td>\n",
       "      <td>True</td>\n",
       "    </tr>\n",
       "    <tr>\n",
       "      <th>996</th>\n",
       "      <td>3.411702</td>\n",
       "      <td>True</td>\n",
       "    </tr>\n",
       "    <tr>\n",
       "      <th>997</th>\n",
       "      <td>-3.232252</td>\n",
       "      <td>False</td>\n",
       "    </tr>\n",
       "    <tr>\n",
       "      <th>998</th>\n",
       "      <td>1.996473</td>\n",
       "      <td>False</td>\n",
       "    </tr>\n",
       "    <tr>\n",
       "      <th>999</th>\n",
       "      <td>5.638761</td>\n",
       "      <td>True</td>\n",
       "    </tr>\n",
       "  </tbody>\n",
       "</table>\n",
       "<p>1000 rows × 2 columns</p>\n",
       "</div>"
      ],
      "text/plain": [
       "            O1     O2\n",
       "0   -16.931417  False\n",
       "1    20.076850   True\n",
       "2    -1.617843  False\n",
       "3    -0.000000  False\n",
       "4    46.482258   True\n",
       "..         ...    ...\n",
       "995   1.227697   True\n",
       "996   3.411702   True\n",
       "997  -3.232252  False\n",
       "998   1.996473  False\n",
       "999   5.638761   True\n",
       "\n",
       "[1000 rows x 2 columns]"
      ]
     },
     "metadata": {},
     "output_type": "display_data"
    }
   ],
   "source": [
    "y = evaluate(x)\n",
    "display(y)"
   ]
  },
  {
   "cell_type": "markdown",
   "metadata": {},
   "source": [
    "Finally, we create our query. "
   ]
  },
  {
   "cell_type": "code",
   "execution_count": 5,
   "metadata": {},
   "outputs": [
    {
     "data": {
      "text/html": [
       "<div>\n",
       "<style scoped>\n",
       "    .dataframe tbody tr th:only-of-type {\n",
       "        vertical-align: middle;\n",
       "    }\n",
       "\n",
       "    .dataframe tbody tr th {\n",
       "        vertical-align: top;\n",
       "    }\n",
       "\n",
       "    .dataframe thead th {\n",
       "        text-align: right;\n",
       "    }\n",
       "</style>\n",
       "<table border=\"1\" class=\"dataframe\">\n",
       "  <thead>\n",
       "    <tr style=\"text-align: right;\">\n",
       "      <th></th>\n",
       "      <th>A</th>\n",
       "      <th>B</th>\n",
       "      <th>C</th>\n",
       "      <th>D</th>\n",
       "    </tr>\n",
       "  </thead>\n",
       "  <tbody>\n",
       "    <tr>\n",
       "      <th>Query</th>\n",
       "      <td>0</td>\n",
       "      <td>0.0</td>\n",
       "      <td>Add</td>\n",
       "      <td>True</td>\n",
       "    </tr>\n",
       "  </tbody>\n",
       "</table>\n",
       "</div>"
      ],
      "text/plain": [
       "       A    B    C     D\n",
       "Query  0  0.0  Add  True"
      ]
     },
     "metadata": {},
     "output_type": "display_data"
    }
   ],
   "source": [
    "x_query = pd.DataFrame({\"A\": [0], \"B\": [0.0], \"C\": [\"Add\"], \"D\": [True]}, index = [\"Query\"])\n",
    "display(x_query)"
   ]
  },
  {
   "cell_type": "markdown",
   "metadata": {},
   "source": [
    "### Setting up MCD"
   ]
  },
  {
   "cell_type": "markdown",
   "metadata": {},
   "source": [
    "Now we are ready to set up the `McdDataset`. We specify the datatypes of our dataset. This time we have one of each type of variable. We specify the boundaries and options as specified earlier in the notebook."
   ]
  },
  {
   "cell_type": "code",
   "execution_count": 6,
   "metadata": {},
   "outputs": [],
   "source": [
    "from pymoo.core.variable import Real, Integer, Choice, Binary \n",
    "datatypes=[Integer(bounds=(0, 10)), \n",
    "           Real(bounds=(-1, 1)), \n",
    "           Choice(options=[\"Add\", \"Subtract\", \"Multiply\", \"Divide\"]), \n",
    "           Binary()]\n",
    "\n",
    "data = mcd_dataset.McdDataset(x=x, y=y, x_datatypes=datatypes)"
   ]
  },
  {
   "cell_type": "markdown",
   "metadata": {},
   "source": [
    "Next, we create the design targets and the `McdProblem`. In this case, we create two design targets. We have one continuous target and one categorical target. Continuous targets should be used for any objective with ordinal significance (such as floats or ints), while categorical targets should be used for those without (such as classes or bools). We want set a hard lower bound of 10 for O1 with no upper bound, meaning C(D(A), B)>=10. We also set a requirement that O2 must be true, meaning that D(C(B, A))>=0"
   ]
  },
  {
   "cell_type": "code",
   "execution_count": 7,
   "metadata": {},
   "outputs": [],
   "source": [
    "#We first set up a ContinuousTarget for O1, setting a minimum of 10 and setting no upper bound (i.e. infinity))\n",
    "target_1 = design_targets.ContinuousTarget(label = \"O1\", lower_bound=10, upper_bound=np.inf)\n",
    "\n",
    "#We then set up a CategoricalTarget for O2 specifying only True as the desired class. \n",
    "#Desired_classes is a list. In problems with multiple classes, this list specifies the acceptable classes.\n",
    "target_2 = design_targets.CategoricalTarget(label = \"O2\", desired_classes=[True])\n",
    "\n",
    "#We then create a DesignTargets object with the two targets.\n",
    "y_targets = design_targets.DesignTargets(continuous_targets=[target_1], categorical_targets=[target_2])"
   ]
  },
  {
   "cell_type": "code",
   "execution_count": 8,
   "metadata": {},
   "outputs": [],
   "source": [
    "problem = mcd_problem.McdProblem(mcd_dataset=data, x_query = x_query, y_targets = y_targets, prediction_function=evaluate)"
   ]
  },
  {
   "cell_type": "markdown",
   "metadata": {},
   "source": [
    "Finally, we create the `McdGenerator`:"
   ]
  },
  {
   "cell_type": "code",
   "execution_count": 9,
   "metadata": {},
   "outputs": [],
   "source": [
    "generator = mcd_generator.McdGenerator(mcd_problem=problem, pop_size=100, initialize_from_dataset=True)"
   ]
  },
  {
   "cell_type": "markdown",
   "metadata": {},
   "source": [
    "### Generating Counterfactuals\n",
    "Finally, we run the generator and sample."
   ]
  },
  {
   "cell_type": "code",
   "execution_count": 10,
   "metadata": {},
   "outputs": [
    {
     "name": "stdout",
     "output_type": "stream",
     "text": [
      "1000 dataset entries found matching problem parameters\n",
      "Initial population initialized from dataset of 1000 samples!\n",
      "Training GA from 0 to 10 generations!\n",
      "==========================================================================================\n",
      "n_gen  |  n_eval  | n_nds  |     cv_min    |     cv_avg    |      eps      |   indicator  \n",
      "==========================================================================================\n",
      "     1 |        0 |      6 |  0.000000E+00 |  1.209752E+01 |             - |             -\n",
      "     2 |      100 |      6 |  0.000000E+00 |  0.2775958492 |  0.000000E+00 |             f\n",
      "     3 |      200 |      6 |  0.000000E+00 |  0.0844261116 |  0.000000E+00 |             f\n"
     ]
    },
    {
     "name": "stderr",
     "output_type": "stream",
     "text": [
      "c:\\Users\\Lyler\\Documents\\Multiobjective-Counterfactuals-for-Design\\Getting Started\\../src\\decode_mcd\\mcd_problem.py:303: RuntimeWarning: invalid value encountered in subtract\n",
      "  satisfaction = np.maximum(actual - query_ub, query_lb - actual)\n",
      "c:\\Users\\Lyler\\Documents\\Multiobjective-Counterfactuals-for-Design\\Getting Started\\../src\\decode_mcd\\mcd_problem.py:303: RuntimeWarning: invalid value encountered in subtract\n",
      "  satisfaction = np.maximum(actual - query_ub, query_lb - actual)\n",
      "c:\\Users\\Lyler\\Documents\\Multiobjective-Counterfactuals-for-Design\\Getting Started\\../src\\decode_mcd\\mcd_problem.py:303: RuntimeWarning: invalid value encountered in subtract\n",
      "  satisfaction = np.maximum(actual - query_ub, query_lb - actual)\n",
      "c:\\Users\\Lyler\\Documents\\Multiobjective-Counterfactuals-for-Design\\Getting Started\\../src\\decode_mcd\\mcd_problem.py:303: RuntimeWarning: invalid value encountered in subtract\n",
      "  satisfaction = np.maximum(actual - query_ub, query_lb - actual)\n"
     ]
    },
    {
     "name": "stdout",
     "output_type": "stream",
     "text": [
      "     4 |      300 |      6 |  0.000000E+00 |  0.000000E+00 |  0.000000E+00 |             f\n",
      "     5 |      400 |      6 |  0.000000E+00 |  0.000000E+00 |  0.000000E+00 |             f\n",
      "     6 |      500 |      6 |  0.000000E+00 |  0.000000E+00 |  0.000000E+00 |             f\n",
      "     7 |      600 |      6 |  0.000000E+00 |  0.000000E+00 |  0.000000E+00 |             f\n",
      "     8 |      700 |      6 |  0.000000E+00 |  0.000000E+00 |  0.000000E+00 |             f\n",
      "     9 |      800 |      6 |  0.000000E+00 |  0.000000E+00 |  0.000000E+00 |             f\n",
      "    10 |      900 |      6 |  0.000000E+00 |  0.000000E+00 |  0.000000E+00 |             f\n"
     ]
    },
    {
     "name": "stderr",
     "output_type": "stream",
     "text": [
      "c:\\Users\\Lyler\\Documents\\Multiobjective-Counterfactuals-for-Design\\Getting Started\\../src\\decode_mcd\\mcd_problem.py:303: RuntimeWarning: invalid value encountered in subtract\n",
      "  satisfaction = np.maximum(actual - query_ub, query_lb - actual)\n",
      "c:\\Users\\Lyler\\Documents\\Multiobjective-Counterfactuals-for-Design\\Getting Started\\../src\\decode_mcd\\mcd_problem.py:303: RuntimeWarning: invalid value encountered in subtract\n",
      "  satisfaction = np.maximum(actual - query_ub, query_lb - actual)\n",
      "c:\\Users\\Lyler\\Documents\\Multiobjective-Counterfactuals-for-Design\\Getting Started\\../src\\decode_mcd\\mcd_problem.py:303: RuntimeWarning: invalid value encountered in subtract\n",
      "  satisfaction = np.maximum(actual - query_ub, query_lb - actual)\n"
     ]
    }
   ],
   "source": [
    "generator.generate(n_generations=10)"
   ]
  },
  {
   "cell_type": "code",
   "execution_count": 11,
   "metadata": {},
   "outputs": [
    {
     "name": "stdout",
     "output_type": "stream",
     "text": [
      "Collecting all counterfactual candidates!\n",
      "Scoring all counterfactual candidates!\n",
      "Calculating diversity matrix!\n",
      "Sampling diverse set of counterfactual candidates!\n",
      "samples_index=[np.int64(22), np.int64(153), np.int64(97), np.int64(39), np.int64(177), np.int64(87), np.int64(176), np.int64(16), np.int64(38), np.int64(88)]\n",
      "Done! Returning CFs\n"
     ]
    },
    {
     "data": {
      "text/html": [
       "<div>\n",
       "<style scoped>\n",
       "    .dataframe tbody tr th:only-of-type {\n",
       "        vertical-align: middle;\n",
       "    }\n",
       "\n",
       "    .dataframe tbody tr th {\n",
       "        vertical-align: top;\n",
       "    }\n",
       "\n",
       "    .dataframe thead th {\n",
       "        text-align: right;\n",
       "    }\n",
       "</style>\n",
       "<table border=\"1\" class=\"dataframe\">\n",
       "  <thead>\n",
       "    <tr style=\"text-align: right;\">\n",
       "      <th></th>\n",
       "      <th>A</th>\n",
       "      <th>B</th>\n",
       "      <th>C</th>\n",
       "      <th>D</th>\n",
       "    </tr>\n",
       "  </thead>\n",
       "  <tbody>\n",
       "    <tr>\n",
       "      <th>0</th>\n",
       "      <td>1</td>\n",
       "      <td>0.009850</td>\n",
       "      <td>Divide</td>\n",
       "      <td>True</td>\n",
       "    </tr>\n",
       "    <tr>\n",
       "      <th>1</th>\n",
       "      <td>5</td>\n",
       "      <td>0.489808</td>\n",
       "      <td>Divide</td>\n",
       "      <td>True</td>\n",
       "    </tr>\n",
       "    <tr>\n",
       "      <th>2</th>\n",
       "      <td>2</td>\n",
       "      <td>0.190240</td>\n",
       "      <td>Divide</td>\n",
       "      <td>True</td>\n",
       "    </tr>\n",
       "    <tr>\n",
       "      <th>3</th>\n",
       "      <td>3</td>\n",
       "      <td>0.025129</td>\n",
       "      <td>Divide</td>\n",
       "      <td>True</td>\n",
       "    </tr>\n",
       "    <tr>\n",
       "      <th>4</th>\n",
       "      <td>1</td>\n",
       "      <td>-0.015964</td>\n",
       "      <td>Divide</td>\n",
       "      <td>False</td>\n",
       "    </tr>\n",
       "    <tr>\n",
       "      <th>5</th>\n",
       "      <td>7</td>\n",
       "      <td>0.002456</td>\n",
       "      <td>Divide</td>\n",
       "      <td>True</td>\n",
       "    </tr>\n",
       "    <tr>\n",
       "      <th>6</th>\n",
       "      <td>4</td>\n",
       "      <td>0.144306</td>\n",
       "      <td>Divide</td>\n",
       "      <td>True</td>\n",
       "    </tr>\n",
       "    <tr>\n",
       "      <th>7</th>\n",
       "      <td>2</td>\n",
       "      <td>0.005912</td>\n",
       "      <td>Divide</td>\n",
       "      <td>True</td>\n",
       "    </tr>\n",
       "    <tr>\n",
       "      <th>8</th>\n",
       "      <td>3</td>\n",
       "      <td>0.214452</td>\n",
       "      <td>Divide</td>\n",
       "      <td>True</td>\n",
       "    </tr>\n",
       "    <tr>\n",
       "      <th>9</th>\n",
       "      <td>5</td>\n",
       "      <td>0.021514</td>\n",
       "      <td>Divide</td>\n",
       "      <td>True</td>\n",
       "    </tr>\n",
       "  </tbody>\n",
       "</table>\n",
       "</div>"
      ],
      "text/plain": [
       "   A         B       C      D\n",
       "0  1  0.009850  Divide   True\n",
       "1  5  0.489808  Divide   True\n",
       "2  2  0.190240  Divide   True\n",
       "3  3  0.025129  Divide   True\n",
       "4  1 -0.015964  Divide  False\n",
       "5  7  0.002456  Divide   True\n",
       "6  4  0.144306  Divide   True\n",
       "7  2  0.005912  Divide   True\n",
       "8  3  0.214452  Divide   True\n",
       "9  5  0.021514  Divide   True"
      ]
     },
     "metadata": {},
     "output_type": "display_data"
    }
   ],
   "source": [
    "num_samples = 10 \n",
    "counterfactuals = generator.sample(num_samples, include_dataset=False)\n",
    "display(counterfactuals)"
   ]
  },
  {
   "cell_type": "markdown",
   "metadata": {},
   "source": [
    "Let's evaluate the counterfactuals we generated, we should see that every O1 value is greater or equal to 10, while every O2 value is true. "
   ]
  },
  {
   "cell_type": "code",
   "execution_count": 12,
   "metadata": {},
   "outputs": [
    {
     "data": {
      "text/html": [
       "<div>\n",
       "<style scoped>\n",
       "    .dataframe tbody tr th:only-of-type {\n",
       "        vertical-align: middle;\n",
       "    }\n",
       "\n",
       "    .dataframe tbody tr th {\n",
       "        vertical-align: top;\n",
       "    }\n",
       "\n",
       "    .dataframe thead th {\n",
       "        text-align: right;\n",
       "    }\n",
       "</style>\n",
       "<table border=\"1\" class=\"dataframe\">\n",
       "  <thead>\n",
       "    <tr style=\"text-align: right;\">\n",
       "      <th></th>\n",
       "      <th>O1</th>\n",
       "      <th>O2</th>\n",
       "    </tr>\n",
       "  </thead>\n",
       "  <tbody>\n",
       "    <tr>\n",
       "      <th>0</th>\n",
       "      <td>101.520958</td>\n",
       "      <td>True</td>\n",
       "    </tr>\n",
       "    <tr>\n",
       "      <th>1</th>\n",
       "      <td>10.208088</td>\n",
       "      <td>True</td>\n",
       "    </tr>\n",
       "    <tr>\n",
       "      <th>2</th>\n",
       "      <td>10.513010</td>\n",
       "      <td>True</td>\n",
       "    </tr>\n",
       "    <tr>\n",
       "      <th>3</th>\n",
       "      <td>119.384876</td>\n",
       "      <td>True</td>\n",
       "    </tr>\n",
       "    <tr>\n",
       "      <th>4</th>\n",
       "      <td>62.642512</td>\n",
       "      <td>True</td>\n",
       "    </tr>\n",
       "    <tr>\n",
       "      <th>5</th>\n",
       "      <td>2849.927002</td>\n",
       "      <td>True</td>\n",
       "    </tr>\n",
       "    <tr>\n",
       "      <th>6</th>\n",
       "      <td>27.718813</td>\n",
       "      <td>True</td>\n",
       "    </tr>\n",
       "    <tr>\n",
       "      <th>7</th>\n",
       "      <td>338.306053</td>\n",
       "      <td>True</td>\n",
       "    </tr>\n",
       "    <tr>\n",
       "      <th>8</th>\n",
       "      <td>13.989167</td>\n",
       "      <td>True</td>\n",
       "    </tr>\n",
       "    <tr>\n",
       "      <th>9</th>\n",
       "      <td>232.411290</td>\n",
       "      <td>True</td>\n",
       "    </tr>\n",
       "  </tbody>\n",
       "</table>\n",
       "</div>"
      ],
      "text/plain": [
       "            O1    O2\n",
       "0   101.520958  True\n",
       "1    10.208088  True\n",
       "2    10.513010  True\n",
       "3   119.384876  True\n",
       "4    62.642512  True\n",
       "5  2849.927002  True\n",
       "6    27.718813  True\n",
       "7   338.306053  True\n",
       "8    13.989167  True\n",
       "9   232.411290  True"
      ]
     },
     "execution_count": 12,
     "metadata": {},
     "output_type": "execute_result"
    }
   ],
   "source": [
    "evaluate(counterfactuals)"
   ]
  },
  {
   "cell_type": "markdown",
   "metadata": {},
   "source": [
    "### Contraining input features\n",
    "MCD provides a convenient interface for freezing input features that should not be changed. These can be specified when constructing the `McdProblem` through the parameter `features_to_freeze`. Let's say we want to ensure that our generate counterfactuals don't change the operation used in the query, which was addition. We can specify that as below. "
   ]
  },
  {
   "cell_type": "code",
   "execution_count": 13,
   "metadata": {},
   "outputs": [
    {
     "name": "stdout",
     "output_type": "stream",
     "text": [
      "Warning: [query_x] parameters fall outside of range specified by datatypes\n"
     ]
    }
   ],
   "source": [
    "import importlib\n",
    "importlib.reload(mcd_problem)\n",
    "x_query = pd.DataFrame({\"A\": [-1], \"B\": [0.0], \"C\": [\"Add\"],  \"D\": [True]}, index = [\"Query\"])\n",
    "to_freeze = [\"C\"]\n",
    "problem = mcd_problem.McdProblem(mcd_dataset=data, x_query = x_query, y_targets = y_targets, features_to_freeze=to_freeze, prediction_function=evaluate)"
   ]
  },
  {
   "cell_type": "code",
   "execution_count": 14,
   "metadata": {},
   "outputs": [
    {
     "name": "stdout",
     "output_type": "stream",
     "text": [
      "261 dataset entries found matching problem parameters\n",
      "Initial population initialized from dataset of 261 samples!\n",
      "Training GA from 0 to 10 generations!\n",
      "==========================================================================================\n",
      "n_gen  |  n_eval  | n_nds  |     cv_min    |     cv_avg    |      eps      |   indicator  \n",
      "==========================================================================================\n",
      "     1 |        0 |      1 |  0.0953373044 |  1.048030E+01 |             - |             -\n",
      "     2 |      100 |      1 |  0.0953373044 |  3.3255443406 |             - |             -\n",
      "     3 |      200 |      1 |  0.000000E+00 |  2.3350621227 |             - |             -\n",
      "     4 |      300 |      2 |  0.000000E+00 |  1.7001490346 |  1.0000000000 |         ideal\n",
      "     5 |      400 |      3 |  0.000000E+00 |  1.1421771261 |  0.0063617221 |         ideal\n",
      "     6 |      500 |      6 |  0.000000E+00 |  0.7399105182 |  0.7572665872 |         ideal\n",
      "     7 |      600 |      7 |  0.000000E+00 |  0.5045780804 |  0.0136805328 |             f\n",
      "     8 |      700 |      9 |  0.000000E+00 |  0.3006217072 |  0.0339088500 |             f\n",
      "     9 |      800 |     11 |  0.000000E+00 |  0.1348720738 |  0.0074999607 |             f\n",
      "    10 |      900 |     12 |  0.000000E+00 |  0.0330307470 |  0.0033294325 |             f\n",
      "Collecting all counterfactual candidates!\n",
      "Scoring all counterfactual candidates!\n",
      "Calculating diversity matrix!\n",
      "Sampling diverse set of counterfactual candidates!\n",
      "samples_index=[np.int64(0), np.int64(8), np.int64(1), np.int64(6), np.int64(7), np.int64(17), np.int64(27), np.int64(31), np.int64(10), np.int64(13)]\n",
      "Done! Returning CFs\n"
     ]
    }
   ],
   "source": [
    "import importlib\n",
    "importlib.reload(mcd_generator)\n",
    "generator = mcd_generator.McdGenerator(mcd_problem=problem, pop_size=100, initialize_from_dataset=True)\n",
    "generator.generate(n_generations=10)\n",
    "counterfactuals = generator.sample(num_samples, include_dataset=False)"
   ]
  },
  {
   "cell_type": "markdown",
   "metadata": {},
   "source": [
    "Now, we can see that our generated counterfactuals indeed all use the addition operator! "
   ]
  },
  {
   "cell_type": "code",
   "execution_count": 15,
   "metadata": {},
   "outputs": [
    {
     "data": {
      "text/html": [
       "<div>\n",
       "<style scoped>\n",
       "    .dataframe tbody tr th:only-of-type {\n",
       "        vertical-align: middle;\n",
       "    }\n",
       "\n",
       "    .dataframe tbody tr th {\n",
       "        vertical-align: top;\n",
       "    }\n",
       "\n",
       "    .dataframe thead th {\n",
       "        text-align: right;\n",
       "    }\n",
       "</style>\n",
       "<table border=\"1\" class=\"dataframe\">\n",
       "  <thead>\n",
       "    <tr style=\"text-align: right;\">\n",
       "      <th></th>\n",
       "      <th>A</th>\n",
       "      <th>B</th>\n",
       "      <th>C</th>\n",
       "      <th>D</th>\n",
       "    </tr>\n",
       "  </thead>\n",
       "  <tbody>\n",
       "    <tr>\n",
       "      <th>0</th>\n",
       "      <td>10</td>\n",
       "      <td>0.000000</td>\n",
       "      <td>Add</td>\n",
       "      <td>True</td>\n",
       "    </tr>\n",
       "    <tr>\n",
       "      <th>1</th>\n",
       "      <td>10</td>\n",
       "      <td>0.264259</td>\n",
       "      <td>Add</td>\n",
       "      <td>True</td>\n",
       "    </tr>\n",
       "    <tr>\n",
       "      <th>2</th>\n",
       "      <td>10</td>\n",
       "      <td>0.021456</td>\n",
       "      <td>Add</td>\n",
       "      <td>True</td>\n",
       "    </tr>\n",
       "    <tr>\n",
       "      <th>3</th>\n",
       "      <td>10</td>\n",
       "      <td>0.115747</td>\n",
       "      <td>Add</td>\n",
       "      <td>True</td>\n",
       "    </tr>\n",
       "    <tr>\n",
       "      <th>4</th>\n",
       "      <td>10</td>\n",
       "      <td>0.062995</td>\n",
       "      <td>Add</td>\n",
       "      <td>True</td>\n",
       "    </tr>\n",
       "    <tr>\n",
       "      <th>5</th>\n",
       "      <td>10</td>\n",
       "      <td>0.004985</td>\n",
       "      <td>Add</td>\n",
       "      <td>True</td>\n",
       "    </tr>\n",
       "    <tr>\n",
       "      <th>6</th>\n",
       "      <td>10</td>\n",
       "      <td>0.144120</td>\n",
       "      <td>Add</td>\n",
       "      <td>True</td>\n",
       "    </tr>\n",
       "    <tr>\n",
       "      <th>7</th>\n",
       "      <td>10</td>\n",
       "      <td>0.412947</td>\n",
       "      <td>Add</td>\n",
       "      <td>True</td>\n",
       "    </tr>\n",
       "    <tr>\n",
       "      <th>8</th>\n",
       "      <td>10</td>\n",
       "      <td>0.030700</td>\n",
       "      <td>Add</td>\n",
       "      <td>True</td>\n",
       "    </tr>\n",
       "    <tr>\n",
       "      <th>9</th>\n",
       "      <td>10</td>\n",
       "      <td>0.069750</td>\n",
       "      <td>Add</td>\n",
       "      <td>True</td>\n",
       "    </tr>\n",
       "  </tbody>\n",
       "</table>\n",
       "</div>"
      ],
      "text/plain": [
       "    A         B    C     D\n",
       "0  10  0.000000  Add  True\n",
       "1  10  0.264259  Add  True\n",
       "2  10  0.021456  Add  True\n",
       "3  10  0.115747  Add  True\n",
       "4  10  0.062995  Add  True\n",
       "5  10  0.004985  Add  True\n",
       "6  10  0.144120  Add  True\n",
       "7  10  0.412947  Add  True\n",
       "8  10  0.030700  Add  True\n",
       "9  10  0.069750  Add  True"
      ]
     },
     "metadata": {},
     "output_type": "display_data"
    }
   ],
   "source": [
    "display(counterfactuals)"
   ]
  },
  {
   "cell_type": "markdown",
   "metadata": {},
   "source": [
    "### Adding Optimization Objectives to the Mix\n",
    "Now let's try converting one of our two constraints into an objective. We will make our `ContinuousTarget` into a `MinimizationTarget`.  In this case, we do not specify bounds, but if we wanted to further contstraint the objective to minimize, this could be done with a `ContinuousTarget` and a `MinimizationTarget`. "
   ]
  },
  {
   "cell_type": "code",
   "execution_count": 16,
   "metadata": {},
   "outputs": [
    {
     "name": "stdout",
     "output_type": "stream",
     "text": [
      "Warning: [query_x] parameters fall outside of range specified by datatypes\n"
     ]
    }
   ],
   "source": [
    "target_1 = design_targets.MinimizationTarget(label = \"O1\")\n",
    "y_targets = design_targets.DesignTargets(minimization_targets=[target_1], categorical_targets=[target_2])\n",
    "problem = mcd_problem.McdProblem(mcd_dataset=data, x_query = x_query, y_targets = y_targets, prediction_function=evaluate)"
   ]
  },
  {
   "cell_type": "code",
   "execution_count": 17,
   "metadata": {},
   "outputs": [
    {
     "name": "stdout",
     "output_type": "stream",
     "text": [
      "1000 dataset entries found matching problem parameters\n",
      "Initial population initialized from dataset of 1000 samples!\n",
      "Training GA from 0 to 10 generations!\n",
      "==========================================================================================\n",
      "n_gen  |  n_eval  | n_nds  |     cv_min    |     cv_avg    |      eps      |   indicator  \n",
      "==========================================================================================\n",
      "     1 |        0 |     71 |  0.000000E+00 |  0.5074925075 |             - |             -\n",
      "     2 |      100 |     72 |  0.000000E+00 |  0.000000E+00 |  0.0003884776 |             f\n",
      "     3 |      200 |     90 |  0.000000E+00 |  0.000000E+00 |  0.3333333333 |         ideal\n",
      "     4 |      300 |    100 |  0.000000E+00 |  0.000000E+00 |  0.0122772257 |         ideal\n",
      "     5 |      400 |    100 |  0.000000E+00 |  0.000000E+00 |  0.0066136045 |             f\n",
      "     6 |      500 |    100 |  0.000000E+00 |  0.000000E+00 |  0.0050456493 |             f\n",
      "     7 |      600 |    100 |  0.000000E+00 |  0.000000E+00 |  0.0493069366 |         ideal\n",
      "     8 |      700 |    100 |  0.000000E+00 |  0.000000E+00 |  0.0061095408 |             f\n",
      "     9 |      800 |    100 |  0.000000E+00 |  0.000000E+00 |  0.0023475329 |             f\n",
      "    10 |      900 |    100 |  0.000000E+00 |  0.000000E+00 |  0.0051281237 |             f\n",
      "Collecting all counterfactual candidates!\n",
      "Scoring all counterfactual candidates!\n",
      "Calculating diversity matrix!\n",
      "Sampling diverse set of counterfactual candidates!\n",
      "samples_index=[np.int64(210), np.int64(847), np.int64(563), np.int64(554), np.int64(424), np.int64(61), np.int64(261), np.int64(515), np.int64(810), np.int64(720)]\n",
      "Done! Returning CFs\n"
     ]
    }
   ],
   "source": [
    "generator = mcd_generator.McdGenerator(mcd_problem=problem, pop_size=100, initialize_from_dataset=True)\n",
    "generator.generate(n_generations=10)\n",
    "counterfactuals = generator.sample(num_samples, include_dataset=False)"
   ]
  },
  {
   "cell_type": "markdown",
   "metadata": {},
   "source": [
    "We can see that in this case, the generated counterfactuals have much smaller O1 values. "
   ]
  },
  {
   "cell_type": "code",
   "execution_count": 18,
   "metadata": {},
   "outputs": [
    {
     "data": {
      "text/html": [
       "<div>\n",
       "<style scoped>\n",
       "    .dataframe tbody tr th:only-of-type {\n",
       "        vertical-align: middle;\n",
       "    }\n",
       "\n",
       "    .dataframe tbody tr th {\n",
       "        vertical-align: top;\n",
       "    }\n",
       "\n",
       "    .dataframe thead th {\n",
       "        text-align: right;\n",
       "    }\n",
       "</style>\n",
       "<table border=\"1\" class=\"dataframe\">\n",
       "  <thead>\n",
       "    <tr style=\"text-align: right;\">\n",
       "      <th></th>\n",
       "      <th>O1</th>\n",
       "      <th>O2</th>\n",
       "    </tr>\n",
       "  </thead>\n",
       "  <tbody>\n",
       "    <tr>\n",
       "      <th>0</th>\n",
       "      <td>0.996430</td>\n",
       "      <td>True</td>\n",
       "    </tr>\n",
       "    <tr>\n",
       "      <th>1</th>\n",
       "      <td>9.997580</td>\n",
       "      <td>True</td>\n",
       "    </tr>\n",
       "    <tr>\n",
       "      <th>2</th>\n",
       "      <td>0.921598</td>\n",
       "      <td>True</td>\n",
       "    </tr>\n",
       "    <tr>\n",
       "      <th>3</th>\n",
       "      <td>17.419469</td>\n",
       "      <td>True</td>\n",
       "    </tr>\n",
       "    <tr>\n",
       "      <th>4</th>\n",
       "      <td>-7.954702</td>\n",
       "      <td>True</td>\n",
       "    </tr>\n",
       "    <tr>\n",
       "      <th>5</th>\n",
       "      <td>6.773268</td>\n",
       "      <td>True</td>\n",
       "    </tr>\n",
       "    <tr>\n",
       "      <th>6</th>\n",
       "      <td>2.532651</td>\n",
       "      <td>True</td>\n",
       "    </tr>\n",
       "    <tr>\n",
       "      <th>7</th>\n",
       "      <td>1.067632</td>\n",
       "      <td>True</td>\n",
       "    </tr>\n",
       "    <tr>\n",
       "      <th>8</th>\n",
       "      <td>-0.998695</td>\n",
       "      <td>True</td>\n",
       "    </tr>\n",
       "    <tr>\n",
       "      <th>9</th>\n",
       "      <td>-0.004147</td>\n",
       "      <td>True</td>\n",
       "    </tr>\n",
       "  </tbody>\n",
       "</table>\n",
       "</div>"
      ],
      "text/plain": [
       "          O1    O2\n",
       "0   0.996430  True\n",
       "1   9.997580  True\n",
       "2   0.921598  True\n",
       "3  17.419469  True\n",
       "4  -7.954702  True\n",
       "5   6.773268  True\n",
       "6   2.532651  True\n",
       "7   1.067632  True\n",
       "8  -0.998695  True\n",
       "9  -0.004147  True"
      ]
     },
     "execution_count": 18,
     "metadata": {},
     "output_type": "execute_result"
    }
   ],
   "source": [
    "evaluate(counterfactuals)"
   ]
  },
  {
   "cell_type": "markdown",
   "metadata": {},
   "source": [
    "This concludes the second MCD tutorial notebook! The third will cover advanced selection options for counterfactuals. "
   ]
  }
 ],
 "metadata": {
  "kernelspec": {
   "display_name": "general",
   "language": "python",
   "name": "python3"
  },
  "language_info": {
   "codemirror_mode": {
    "name": "ipython",
    "version": 3
   },
   "file_extension": ".py",
   "mimetype": "text/x-python",
   "name": "python",
   "nbconvert_exporter": "python",
   "pygments_lexer": "ipython3",
   "version": "3.12.8"
  }
 },
 "nbformat": 4,
 "nbformat_minor": 4
}
