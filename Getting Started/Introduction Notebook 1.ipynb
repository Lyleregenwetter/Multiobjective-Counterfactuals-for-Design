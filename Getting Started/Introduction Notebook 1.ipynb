{
 "cells": [
  {
   "cell_type": "markdown",
   "id": "ed9d9c31",
   "metadata": {},
   "source": [
    "# Introductory Notebook 1: Setting up McdDatasets and McdProblems\n",
    "This notebook will introduce the basics of MCD and help get you set up to apply MCD in your problems. This notebook introduces the three key components of MCD: The Dataset, the Problem, and the Generator."
   ]
  },
  {
   "cell_type": "code",
   "execution_count": 16,
   "id": "99435ac6",
   "metadata": {},
   "outputs": [],
   "source": [
    "import sys\n",
    "sys.path.append('../src/')\n",
    "import decode_mcd\n",
    "from decode_mcd import mcd_problem\n",
    "from decode_mcd import mcd_dataset\n",
    "\n",
    "\n",
    "from decode_mcd import design_targets\n",
    "from decode_mcd import mcd_generator\n",
    "\n",
    "import numpy as np\n",
    "import matplotlib.pyplot as plt"
   ]
  },
  {
   "cell_type": "markdown",
   "id": "a056bbd6",
   "metadata": {},
   "source": [
    "### Creating a random dataset"
   ]
  },
  {
   "cell_type": "markdown",
   "id": "1ea530ba",
   "metadata": {},
   "source": [
    "First, let's create a toy dataset for testing. Our design variables will just be two randomized variables ranging from 0 to 1. We'll generate 10 toy datapoints. We call this the `features_dataset`"
   ]
  },
  {
   "cell_type": "code",
   "execution_count": 17,
   "id": "72af035e",
   "metadata": {},
   "outputs": [
    {
     "name": "stdout",
     "output_type": "stream",
     "text": [
      "[[0.5488135  0.71518937]\n",
      " [0.60276338 0.54488318]\n",
      " [0.4236548  0.64589411]\n",
      " [0.43758721 0.891773  ]\n",
      " [0.96366276 0.38344152]\n",
      " [0.79172504 0.52889492]\n",
      " [0.56804456 0.92559664]\n",
      " [0.07103606 0.0871293 ]\n",
      " [0.0202184  0.83261985]\n",
      " [0.77815675 0.87001215]]\n"
     ]
    }
   ],
   "source": [
    "np.random.seed(0) #set random seed to make this notebook repeatable\n",
    "x = np.random.random((10,2))\n",
    "print(x)"
   ]
  },
  {
   "cell_type": "markdown",
   "id": "048de963",
   "metadata": {},
   "source": [
    "Now, let's create design evaluation function, `evaluate()`. We'll say that our quantity of interest is just the sum of the two design variables."
   ]
  },
  {
   "cell_type": "code",
   "execution_count": 18,
   "id": "c4c363cb",
   "metadata": {},
   "outputs": [],
   "source": [
    "def evaluate(x): \n",
    "    #MCD uses pandas dataframes internally. More in this in the next notebook. \n",
    "    x = np.array(x)  #For now, we convert to numpy for simplicity, in the event x is a different type.\n",
    "    y = x[:,0] + x[:,1]\n",
    "    y = y.reshape(-1,1) #reshaping here is important. We need to return a 2D array. \n",
    "    return y"
   ]
  },
  {
   "cell_type": "markdown",
   "id": "ca5a1da8",
   "metadata": {},
   "source": [
    "Finally, we'll evaluate the designs in the dataset. We call these the `predictions_dataset`, as the evaluator is often an ML model"
   ]
  },
  {
   "cell_type": "code",
   "execution_count": 19,
   "id": "169e9734",
   "metadata": {},
   "outputs": [
    {
     "name": "stdout",
     "output_type": "stream",
     "text": [
      "[[1.26400287]\n",
      " [1.14764656]\n",
      " [1.06954891]\n",
      " [1.32936021]\n",
      " [1.34710428]\n",
      " [1.32061996]\n",
      " [1.4936412 ]\n",
      " [0.15816536]\n",
      " [0.85283824]\n",
      " [1.6481689 ]]\n"
     ]
    }
   ],
   "source": [
    "y = evaluate(x)\n",
    "print(y)"
   ]
  },
  {
   "cell_type": "markdown",
   "id": "348b6c9b",
   "metadata": {},
   "source": [
    "Finally, lets create a design as our query, which we call `query_x`. Note that `query_x` is a 2D array. This is design that we would like MCD to modify."
   ]
  },
  {
   "cell_type": "code",
   "execution_count": 20,
   "id": "21e9e3d2",
   "metadata": {},
   "outputs": [],
   "source": [
    "x_query = np.array([[0.3, 0.2]])\n",
    "y_query = evaluate(x_query)"
   ]
  },
  {
   "cell_type": "markdown",
   "id": "b8a1a7b0",
   "metadata": {},
   "source": [
    "Great! Let's plot what we've got. We will make a scatterplot of the dataset and the query and color-code the values based on objective value"
   ]
  },
  {
   "cell_type": "code",
   "execution_count": 21,
   "id": "81594602",
   "metadata": {},
   "outputs": [
    {
     "data": {
      "text/plain": [
       "<matplotlib.collections.PathCollection at 0x1d82fa47e30>"
      ]
     },
     "execution_count": 21,
     "metadata": {},
     "output_type": "execute_result"
    },
    {
     "data": {
      "image/png": "[encoded data removed]",
      "text/plain": [
       "<Figure size 500x400 with 2 Axes>"
      ]
     },
     "metadata": {},
     "output_type": "display_data"
    }
   ],
   "source": [
    "plt.figure(figsize=(5,4))\n",
    "plt.scatter(x[:,0], x[:,1], c=y, marker='o')\n",
    "plt.colorbar() \n",
    "plt.scatter(x_query[:,0], x_query[:,1], c=y_query, marker='x') "
   ]
  },
  {
   "cell_type": "markdown",
   "id": "c292867f",
   "metadata": {},
   "source": [
    "### Creating McdDataset"
   ]
  },
  {
   "cell_type": "markdown",
   "id": "3fa493a5",
   "metadata": {},
   "source": [
    "Now, we create an instance of a `McdDataset`. The `McdDataset` requires the design dataset (`x`), the evaluated objective values (`y`), and the design `x_datatypes`. Here's how to set the 'x_datatypes' object. In our case, this is just two Real types."
   ]
  },
  {
   "cell_type": "code",
   "execution_count": 22,
   "id": "802f7380",
   "metadata": {},
   "outputs": [],
   "source": [
    "from pymoo.core.variable import Real\n",
    "datatypes=[Real(bounds=(0, 1)),Real(bounds=(0, 1))]"
   ]
  },
  {
   "cell_type": "markdown",
   "id": "94d43b83",
   "metadata": {},
   "source": [
    "Finally, we create the `McdDataset`."
   ]
  },
  {
   "cell_type": "code",
   "execution_count": 23,
   "id": "f8404058",
   "metadata": {},
   "outputs": [],
   "source": [
    "data = mcd_dataset.McdDataset(x=x, y=y, x_datatypes=datatypes)"
   ]
  },
  {
   "cell_type": "markdown",
   "id": "0c08817d",
   "metadata": {},
   "source": [
    "### Creating McdProblem"
   ]
  },
  {
   "cell_type": "markdown",
   "id": "d0c94348",
   "metadata": {},
   "source": [
    "Next, we set up the a `McdProblem` instance, which takes in the `McdDataset` we just created, as well as our query, 'query_x', our evaluation function."
   ]
  },
  {
   "cell_type": "markdown",
   "id": "845d5f03",
   "metadata": {},
   "source": [
    "The design targets are a list of individual targets. Each target will contain an index telling MCD which column of the evaluator's output it is constraining. Since our example only has one, we specify index 0. Different types of design targets have different arguments. In our case, we are specifying a `ContinuousTarget` that the x0 + x1 must be between 1 and 1.5. The following notebook discusses how to set up multiple design targets including a `CategoricalTarget`. "
   ]
  },
  {
   "cell_type": "code",
   "execution_count": 24,
   "id": "91cc7ee4",
   "metadata": {},
   "outputs": [],
   "source": [
    "target_1 = design_targets.ContinuousTarget(label = 0, lower_bound=1, upper_bound=1.5)\n",
    "y_targets = design_targets.DesignTargets(continuous_targets=[target_1])"
   ]
  },
  {
   "cell_type": "code",
   "execution_count": 25,
   "id": "a894bfd3",
   "metadata": {},
   "outputs": [],
   "source": [
    "problem = mcd_problem.McdProblem(mcd_dataset=data, x_query = x_query, y_targets = y_targets, prediction_function=evaluate)"
   ]
  },
  {
   "cell_type": "markdown",
   "id": "a0fd86e7",
   "metadata": {},
   "source": [
    "### Creating McdGenerator"
   ]
  },
  {
   "cell_type": "markdown",
   "id": "11944c56",
   "metadata": {},
   "source": [
    "Finally, we create a `McdGenerator` instance. We pass in the `McdProblem` we just created, as well as a population size for the optimization. It also takes an optional argument specifying whether or not to initialize the search from the designs in the specified dataset (default is True)"
   ]
  },
  {
   "cell_type": "code",
   "execution_count": 26,
   "id": "3653b835",
   "metadata": {},
   "outputs": [],
   "source": [
    "generator = mcd_generator.McdGenerator(problem=problem, pop_size=100, initialize_from_dataset=True)"
   ]
  },
  {
   "cell_type": "markdown",
   "id": "3cb40a01",
   "metadata": {},
   "source": [
    "### Generating and Sampling Counterfactuals"
   ]
  },
  {
   "cell_type": "markdown",
   "id": "a8ce64f9",
   "metadata": {},
   "source": [
    "MCD suggests counterfactuals in two stages. The first is the \"Discovery\" phase where MCD performs design optimization while retaining all design candidates considered. We simply call the `generate` function of the `McdGenerator` instance we just created. "
   ]
  },
  {
   "cell_type": "code",
   "execution_count": 27,
   "id": "777a779d",
   "metadata": {},
   "outputs": [
    {
     "name": "stdout",
     "output_type": "stream",
     "text": [
      "10 dataset entries found matching problem parameters\n",
      "Initial population initialized from dataset of 10 samples!\n",
      "Training GA from 0 to 10 generations!\n",
      "==========================================================================================\n",
      "n_gen  |  n_eval  | n_nds  |     cv_min    |     cv_avg    |      eps      |   indicator  \n",
      "==========================================================================================\n",
      "     1 |        0 |      4 |  0.000000E+00 |  0.1488332089 |             - |             -\n"
     ]
    },
    {
     "name": "stdout",
     "output_type": "stream",
     "text": [
      "     2 |      100 |     12 |  0.000000E+00 |  0.0867086161 |  1.0000000000 |         ideal\n",
      "     3 |      200 |     21 |  0.000000E+00 |  0.000000E+00 |  0.0331644954 |             f\n",
      "     4 |      300 |     32 |  0.000000E+00 |  0.000000E+00 |  0.0081032625 |         ideal\n",
      "     5 |      400 |     45 |  0.000000E+00 |  0.000000E+00 |  0.0049467574 |             f\n",
      "     6 |      500 |     64 |  0.000000E+00 |  0.000000E+00 |  0.0064995828 |         ideal\n",
      "     7 |      600 |     93 |  0.000000E+00 |  0.000000E+00 |  0.0009748143 |             f\n",
      "     8 |      700 |    100 |  0.000000E+00 |  0.000000E+00 |  0.0025288004 |             f\n",
      "     9 |      800 |    100 |  0.000000E+00 |  0.000000E+00 |  0.0009764385 |             f\n",
      "    10 |      900 |    100 |  0.000000E+00 |  0.000000E+00 |  0.0550460236 |         ideal\n"
     ]
    }
   ],
   "source": [
    "generator.generate(n_generations=10)"
   ]
  },
  {
   "cell_type": "markdown",
   "id": "37103d11",
   "metadata": {},
   "source": [
    "The second stage is sampling a diverse set of counterfactuals from all the possibilities discovered. The `McdGenerator` class includes a few functions to do this, but the simplest is the `sample_with_weights`. The first thing we specify is the number of samples we want. We also have an option to sample designs directly from the given dataset (assuming they are strong counterfactuals). There are also a few optional customizations which are discussed in Notebook 3. "
   ]
  },
  {
   "cell_type": "code",
   "execution_count": 28,
   "id": "78422a97",
   "metadata": {},
   "outputs": [
    {
     "name": "stdout",
     "output_type": "stream",
     "text": [
      "Collecting all counterfactual candidates!\n",
      "Scoring all counterfactual candidates!\n",
      "Calculating diversity matrix!\n",
      "Sampling diverse set of counterfactual candidates!\n",
      "samples_index=[np.int64(24), np.int64(411), np.int64(256), np.int64(439), np.int64(92), np.int64(311), np.int64(548), np.int64(198), np.int64(66), np.int64(94)]\n",
      "Done! Returning CFs\n"
     ]
    }
   ],
   "source": [
    "num_samples = 10 \n",
    "counterfactuals = generator.sample(num_samples, include_dataset=False)"
   ]
  },
  {
   "cell_type": "markdown",
   "id": "e09c02aa",
   "metadata": {},
   "source": [
    "Let's have a look at our counterfactuals. "
   ]
  },
  {
   "cell_type": "code",
   "execution_count": 29,
   "id": "6484d551",
   "metadata": {},
   "outputs": [
    {
     "name": "stdout",
     "output_type": "stream",
     "text": [
      "[[0.83790623 0.2       ]\n",
      " [0.3        0.70665611]\n",
      " [0.3        0.88828981]\n",
      " [0.3        0.74900165]\n",
      " [0.97080004 0.2       ]\n",
      " [0.3        0.79677103]\n",
      " [0.51134972 0.49359879]\n",
      " [0.87557384 0.2       ]\n",
      " [0.3        0.83261985]\n",
      " [0.3        0.73572508]]\n"
     ]
    }
   ],
   "source": [
    "counterfactuals = np.array(counterfactuals) #convert to numpy array for plotting\n",
    "print(counterfactuals)"
   ]
  },
  {
   "cell_type": "markdown",
   "id": "21bc2e3b",
   "metadata": {},
   "source": [
    "Now, lets repeat our plot from earlier, but add the generated counterfactuals. We also add the objective ranges as dotted lines. We see that the generated counterfactuals (+) fall within the designated boundaries. While they are diverse, a number of them lie near the lower boundary, attempting to be as proximal to the query as possible."
   ]
  },
  {
   "cell_type": "code",
   "execution_count": 30,
   "id": "1993195a",
   "metadata": {},
   "outputs": [
    {
     "data": {
      "text/plain": [
       "[<matplotlib.lines.Line2D at 0x1d82f8bfd10>]"
      ]
     },
     "execution_count": 30,
     "metadata": {},
     "output_type": "execute_result"
    },
    {
     "data": {
      "image/png": "[encoded data removed]",
      "text/plain": [
       "<Figure size 500x400 with 2 Axes>"
      ]
     },
     "metadata": {},
     "output_type": "display_data"
    }
   ],
   "source": [
    "cf_y = evaluate(counterfactuals)\n",
    "\n",
    "plt.figure(figsize=(5,4))\n",
    "plt.scatter(x[:,0], x[:,1], c=y, marker='o')\n",
    "plt.colorbar() \n",
    "plt.scatter(counterfactuals[:,0], counterfactuals[:,1], c=cf_y, marker='+')\n",
    "plt.scatter(x_query[:,0], x_query[:,1], c=y_query, marker='x') \n",
    "\n",
    "plt.plot([0,1], [1,0], 'k--')\n",
    "plt.plot([0.5,1], [1,0.5], 'k--')"
   ]
  },
  {
   "cell_type": "markdown",
   "id": "9ceb43a1",
   "metadata": {},
   "source": [
    "This concludes the first MCD tutorial notebook! In the next one we will cover mixed datatypes and generating counterfactuals with multiple mixed objectives types. "
   ]
  }
 ],
 "metadata": {
  "kernelspec": {
   "display_name": "general",
   "language": "python",
   "name": "python3"
  },
  "language_info": {
   "codemirror_mode": {
    "name": "ipython",
    "version": 3
   },
   "file_extension": ".py",
   "mimetype": "text/x-python",
   "name": "python",
   "nbconvert_exporter": "python",
   "pygments_lexer": "ipython3",
   "version": "3.12.8"
  }
 },
 "nbformat": 4,
 "nbformat_minor": 5
}
