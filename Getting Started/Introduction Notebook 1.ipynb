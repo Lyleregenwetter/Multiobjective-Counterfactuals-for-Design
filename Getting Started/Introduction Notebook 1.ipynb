{
 "cells": [
  {
   "cell_type": "code",
   "execution_count": 1,
   "id": "99435ac6",
   "metadata": {},
   "outputs": [],
   "source": [
    "import sys\n",
    "sys.path.append('../src/')\n",
    "import decode_mcd\n",
    "import decode_mcd.multi_objective_problem as MOP\n",
    "from decode_mcd import data_package\n",
    "\n",
    "\n",
    "from decode_mcd import design_targets\n",
    "from decode_mcd import counterfactuals_generator\n",
    "\n",
    "import numpy as np\n",
    "import matplotlib.pyplot as plt"
   ]
  },
  {
   "cell_type": "markdown",
   "id": "a056bbd6",
   "metadata": {},
   "source": [
    "### Creating a random dataset"
   ]
  },
  {
   "cell_type": "markdown",
   "id": "1ea530ba",
   "metadata": {},
   "source": [
    "First, let's create a toy dataset for testing. Our design variables will just be two randomized variables ranging from 0 to 1. We'll generate 10 toy datapoints. We call this the `features_dataset`"
   ]
  },
  {
   "cell_type": "code",
   "execution_count": 2,
   "id": "72af035e",
   "metadata": {},
   "outputs": [
    {
     "name": "stdout",
     "output_type": "stream",
     "text": [
      "[[0.5488135  0.71518937]\n",
      " [0.60276338 0.54488318]\n",
      " [0.4236548  0.64589411]\n",
      " [0.43758721 0.891773  ]\n",
      " [0.96366276 0.38344152]\n",
      " [0.79172504 0.52889492]\n",
      " [0.56804456 0.92559664]\n",
      " [0.07103606 0.0871293 ]\n",
      " [0.0202184  0.83261985]\n",
      " [0.77815675 0.87001215]]\n"
     ]
    }
   ],
   "source": [
    "np.random.seed(0) #set random seed to make this notebook repeatable\n",
    "features_dataset = np.random.random((10,2))\n",
    "print(features_dataset)"
   ]
  },
  {
   "cell_type": "markdown",
   "id": "048de963",
   "metadata": {},
   "source": [
    "Now, let's create design evaluation function, `evaluate()`. We'll say that our quantity of interest is just the sum of the two design variables."
   ]
  },
  {
   "cell_type": "code",
   "execution_count": 3,
   "id": "c4c363cb",
   "metadata": {},
   "outputs": [],
   "source": [
    "def evaluate(x): \n",
    "    #MCD uses pandas dataframes internally. More in this in the next notebook. \n",
    "    x = np.array(x)  #For now, we convert to numpy for simplicity, in the event x is a different type.\n",
    "    y = x[:,0] + x[:,1]\n",
    "    y = y.reshape(-1,1) #reshaping here is important. We need to return a 2D array. \n",
    "    return y"
   ]
  },
  {
   "cell_type": "markdown",
   "id": "ca5a1da8",
   "metadata": {},
   "source": [
    "Finally, we'll evaluate the designs in the dataset. We call these the `predictions_dataset`, as the evaluator is often an ML model"
   ]
  },
  {
   "cell_type": "code",
   "execution_count": 4,
   "id": "169e9734",
   "metadata": {},
   "outputs": [
    {
     "name": "stdout",
     "output_type": "stream",
     "text": [
      "[[1.26400287]\n",
      " [1.14764656]\n",
      " [1.06954891]\n",
      " [1.32936021]\n",
      " [1.34710428]\n",
      " [1.32061996]\n",
      " [1.4936412 ]\n",
      " [0.15816536]\n",
      " [0.85283824]\n",
      " [1.6481689 ]]\n"
     ]
    }
   ],
   "source": [
    "predictions_dataset = evaluate(features_dataset)\n",
    "print(predictions_dataset)"
   ]
  },
  {
   "cell_type": "markdown",
   "id": "348b6c9b",
   "metadata": {},
   "source": [
    "Finally, lets create a design as our query, which we call `query_x`. Note that `query_x` is a 2D array. This is design that we would like MCD to modify."
   ]
  },
  {
   "cell_type": "code",
   "execution_count": 5,
   "id": "21e9e3d2",
   "metadata": {},
   "outputs": [],
   "source": [
    "query_x = np.array([[0.3, 0.2]])\n",
    "query_y = evaluate(query_x)"
   ]
  },
  {
   "cell_type": "markdown",
   "id": "b8a1a7b0",
   "metadata": {},
   "source": [
    "Great! Let's plot what we've got. We will make a scatterplot of the dataset and the query and color-code the values based on objective value"
   ]
  },
  {
   "cell_type": "code",
   "execution_count": 6,
   "id": "81594602",
   "metadata": {},
   "outputs": [
    {
     "data": {
      "text/plain": [
       "<matplotlib.collections.PathCollection at 0x274cb0993d0>"
      ]
     },
     "execution_count": 6,
     "metadata": {},
     "output_type": "execute_result"
    },
    {
     "data": {
      "image/png": "[encoded data removed]",
      "text/plain": [
       "<Figure size 360x288 with 2 Axes>"
      ]
     },
     "metadata": {
      "needs_background": "light"
     },
     "output_type": "display_data"
    }
   ],
   "source": [
    "plt.figure(figsize=(5,4))\n",
    "plt.scatter(features_dataset[:,0], features_dataset[:,1], c=predictions_dataset, marker='o')\n",
    "plt.colorbar() \n",
    "plt.scatter(query_x[:,0], query_x[:,1], c=query_y, marker='x') "
   ]
  },
  {
   "cell_type": "markdown",
   "id": "c292867f",
   "metadata": {},
   "source": [
    "### Creating MCD DataPackage"
   ]
  },
  {
   "cell_type": "markdown",
   "id": "3fa493a5",
   "metadata": {},
   "source": [
    "Now, we create an instance of a MCD `DataPackage`. The `DataPackage` requires the design dataset (`features_dataset`), the evaluated objective values (`predictions_dataset`), and the query (`query_x`). But we also need two more components, the `design targets` and the `datatypes`. Here's how to set them up."
   ]
  },
  {
   "cell_type": "markdown",
   "id": "75e4dbde",
   "metadata": {},
   "source": [
    "The design targets are a list of individual targets. Each target will contain an index telling MCD which column of the evaluator's output it is constraining. Since our example only has one, we specify index 0. Different types of design targets have different arguments. In our case, we are specifying a `ContinuousTarget` that the x0 + x1 must be between 1 and 1.5. The following notebook discusses how to set up multiple design targets including a `CategoricalTarget`. "
   ]
  },
  {
   "cell_type": "code",
   "execution_count": 7,
   "id": "64a68335",
   "metadata": {},
   "outputs": [],
   "source": [
    "target_1 = design_targets.ContinuousTarget(label = 0, lower_bound=1, upper_bound=1.5)\n",
    "targets = design_targets.DesignTargets(continuous_targets=[target_1])"
   ]
  },
  {
   "cell_type": "markdown",
   "id": "bb1fda9a",
   "metadata": {},
   "source": [
    "We also need to specify the datatypes of our dataset. We inherit the datatypes from pymoo. In our case, this is just two Real types."
   ]
  },
  {
   "cell_type": "code",
   "execution_count": 8,
   "id": "802f7380",
   "metadata": {},
   "outputs": [],
   "source": [
    "from pymoo.core.variable import Real\n",
    "datatypes=[Real(bounds=(0, 1)),Real(bounds=(0, 1))]"
   ]
  },
  {
   "cell_type": "markdown",
   "id": "94d43b83",
   "metadata": {},
   "source": [
    "Finally, we create the `DataPackage`."
   ]
  },
  {
   "cell_type": "code",
   "execution_count": 9,
   "id": "f8404058",
   "metadata": {},
   "outputs": [],
   "source": [
    "data = data_package.DataPackage(features_dataset=features_dataset,\n",
    "                           predictions_dataset=predictions_dataset,\n",
    "                           query_x=query_x,\n",
    "                           design_targets=targets,\n",
    "                           datatypes=datatypes)"
   ]
  },
  {
   "cell_type": "markdown",
   "id": "0c08817d",
   "metadata": {},
   "source": [
    "### Creating MCD CounterfactualsGenerator"
   ]
  },
  {
   "cell_type": "markdown",
   "id": "d0c94348",
   "metadata": {},
   "source": [
    "Next, we set up the MCD `MultiObjectiveProblem` instance, which takes in the `DataPackage` we just created, as well as our evaluation function."
   ]
  },
  {
   "cell_type": "code",
   "execution_count": 10,
   "id": "a894bfd3",
   "metadata": {},
   "outputs": [],
   "source": [
    "problem = MOP.MultiObjectiveProblem(data_package=data, prediction_function=evaluate)"
   ]
  },
  {
   "cell_type": "markdown",
   "id": "11944c56",
   "metadata": {},
   "source": [
    "Finally, we create an instance of MCD's `CounterfactualsGenerator`. We pass in the `MultiObjectiveProblem` we just created, as well as a population size for the optimization. It also takes an optional argument specifying whether or not to initialize the search from the designs in the specified dataset (default is True)"
   ]
  },
  {
   "cell_type": "code",
   "execution_count": 11,
   "id": "3653b835",
   "metadata": {},
   "outputs": [],
   "source": [
    "generator = counterfactuals_generator.CounterfactualsGenerator(problem=problem, pop_size=100, initialize_from_dataset=True)"
   ]
  },
  {
   "cell_type": "markdown",
   "id": "3cb40a01",
   "metadata": {},
   "source": [
    "### Generating and Sampling Counterfactuals"
   ]
  },
  {
   "cell_type": "markdown",
   "id": "a8ce64f9",
   "metadata": {},
   "source": [
    "MCD suggests counterfactuals in two stages. The first is the \"Discovery\" phase where MCD performs design optimization while retaining all design candidates considered. We simply call the `generate` function of the `CounterfactualsGenerator` instance we just created. "
   ]
  },
  {
   "cell_type": "code",
   "execution_count": 12,
   "id": "777a779d",
   "metadata": {},
   "outputs": [
    {
     "name": "stdout",
     "output_type": "stream",
     "text": [
      "10 dataset entries found matching problem parameters\n",
      "Initial population initialized from dataset of 10 samples!\n",
      "\n",
      "Compiled modules for significant speedup can not be used!\n",
      "https://pymoo.org/installation.html#installation\n",
      "\n",
      "To disable this warning:\n",
      "from pymoo.config import Config\n",
      "Config.warnings['not_compiled'] = False\n",
      "\n",
      "Training GA from 0 to 10 generations!\n",
      "==========================================================================================\n",
      "n_gen  |  n_eval  | n_nds  |     cv_min    |     cv_avg    |      eps      |   indicator  \n",
      "==========================================================================================\n",
      "     1 |        0 |      4 |  0.000000E+00 |  0.1488332089 |             - |             -\n",
      "     2 |      100 |     13 |  0.000000E+00 |  0.0900685564 |  1.0000000000 |         ideal\n",
      "     3 |      200 |     15 |  0.000000E+00 |  0.000000E+00 |  0.0235646463 |             f\n",
      "     4 |      300 |     22 |  0.000000E+00 |  0.000000E+00 |  0.0075783599 |             f\n",
      "     5 |      400 |     34 |  0.000000E+00 |  0.000000E+00 |  0.0358711701 |         ideal\n",
      "     6 |      500 |     38 |  0.000000E+00 |  0.000000E+00 |  0.0014323291 |             f\n",
      "     7 |      600 |     51 |  0.000000E+00 |  0.000000E+00 |  0.0053016510 |             f\n",
      "     8 |      700 |     76 |  0.000000E+00 |  0.000000E+00 |  0.0036069368 |             f\n",
      "     9 |      800 |     87 |  0.000000E+00 |  0.000000E+00 |  1.2330821004 |         nadir\n",
      "    10 |      900 |    100 |  0.000000E+00 |  0.000000E+00 |  0.0444675774 |         ideal\n"
     ]
    }
   ],
   "source": [
    "generator.generate(n_generations=10)"
   ]
  },
  {
   "cell_type": "markdown",
   "id": "37103d11",
   "metadata": {},
   "source": [
    "The second stage is sampling a diverse set of counterfactuals from all the possibilities discovered. MCD's `CounterfactualsGenerator` class includes a few functions to do this, but the simplest is the `sample_with_weights`. The first thing we specify is the number of samples we want. Next we include a few counterfactual quality objective weights (more in this in Notebook 3). Finally, we have an option to sample designs directly from the given dataset (assuming they are strong counterfactuals). "
   ]
  },
  {
   "cell_type": "code",
   "execution_count": 13,
   "id": "78422a97",
   "metadata": {},
   "outputs": [
    {
     "name": "stdout",
     "output_type": "stream",
     "text": [
      "Collecting all counterfactual candidates!\n",
      "Scoring all counterfactual candidates!\n",
      "Calculating diversity matrix!\n",
      "Sampling diverse set of counterfactual candidates!\n",
      "samples_index=[205, 150, 183, 251, 296, 160, 2, 466, 28, 144]\n",
      "Done! Returning CFs\n"
     ]
    }
   ],
   "source": [
    "num_samples = 10 \n",
    "counterfactuals = generator.sample_with_weights(num_samples, 1, 1, 1, 1, include_dataset=False)"
   ]
  },
  {
   "cell_type": "markdown",
   "id": "e09c02aa",
   "metadata": {},
   "source": [
    "Let's have a look at our counterfactuals. "
   ]
  },
  {
   "cell_type": "code",
   "execution_count": 14,
   "id": "6484d551",
   "metadata": {},
   "outputs": [
    {
     "name": "stdout",
     "output_type": "stream",
     "text": [
      "[[0.3        0.91442175]\n",
      " [0.96366276 0.2       ]\n",
      " [0.57636428 0.52145604]\n",
      " [0.3        0.70409907]\n",
      " [0.62351808 0.86035134]\n",
      " [0.89356666 0.44149209]\n",
      " [0.4236548  0.64589411]\n",
      " [0.80864132 0.2       ]\n",
      " [0.77297859 0.64929933]\n",
      " [0.3        0.80305536]]\n"
     ]
    }
   ],
   "source": [
    "counterfactuals = np.array(counterfactuals) #convert to numpy array for plotting\n",
    "print(counterfactuals)"
   ]
  },
  {
   "cell_type": "markdown",
   "id": "21bc2e3b",
   "metadata": {},
   "source": [
    "Now, lets repeat our plot from earlier, but add the generated counterfactuals. We also add the objective ranges as dotted lines. We see that the generated counterfactuals (+) fall within the designated boundaries. While they are diverse, a number of them lie near the lower boundary, attempting to be as proximal to the query as possible."
   ]
  },
  {
   "cell_type": "code",
   "execution_count": 15,
   "id": "1993195a",
   "metadata": {},
   "outputs": [
    {
     "data": {
      "text/plain": [
       "[<matplotlib.lines.Line2D at 0x274e9894050>]"
      ]
     },
     "execution_count": 15,
     "metadata": {},
     "output_type": "execute_result"
    },
    {
     "data": {
      "image/png": "[encoded data removed]",
      "text/plain": [
       "<Figure size 360x288 with 2 Axes>"
      ]
     },
     "metadata": {
      "needs_background": "light"
     },
     "output_type": "display_data"
    }
   ],
   "source": [
    "cf_y = evaluate(counterfactuals)\n",
    "\n",
    "plt.figure(figsize=(5,4))\n",
    "plt.scatter(features_dataset[:,0], features_dataset[:,1], c=predictions_dataset, marker='o')\n",
    "plt.colorbar() \n",
    "plt.scatter(counterfactuals[:,0], counterfactuals[:,1], c=cf_y, marker='+')\n",
    "plt.scatter(query_x[:,0], query_x[:,1], c=query_y, marker='x') \n",
    "\n",
    "plt.plot([0,1], [1,0], 'k--')\n",
    "plt.plot([0.5,1], [1,0.5], 'k--')"
   ]
  },
  {
   "cell_type": "markdown",
   "id": "9ceb43a1",
   "metadata": {},
   "source": [
    "This concludes the first MCD tutorial notebook! In the next we will cover mixed datatypes, and generating counterfactuals with multiple mixed objectives types. "
   ]
  },
  {
   "cell_type": "code",
   "execution_count": null,
   "id": "2394c268",
   "metadata": {},
   "outputs": [],
   "source": []
  }
 ],
 "metadata": {
  "kernelspec": {
   "display_name": "Python 3 (ipykernel)",
   "language": "python",
   "name": "python3"
  },
  "language_info": {
   "codemirror_mode": {
    "name": "ipython",
    "version": 3
   },
   "file_extension": ".py",
   "mimetype": "text/x-python",
   "name": "python",
   "nbconvert_exporter": "python",
   "pygments_lexer": "ipython3",
   "version": "3.12.0"
  }
 },
 "nbformat": 4,
 "nbformat_minor": 5
}
