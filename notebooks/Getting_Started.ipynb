{
 "cells": [
  {
   "cell_type": "code",
   "execution_count": 1,
   "id": "99435ac6",
   "metadata": {},
   "outputs": [],
   "source": [
    "import sys\n",
    "sys.path.append('../src/')\n",
    "import decode_mcd\n",
    "import decode_mcd.multi_objective_problem as MOP\n",
    "from decode_mcd import data_package\n",
    "\n",
    "\n",
    "from decode_mcd import design_targets\n",
    "from decode_mcd import counterfactuals_generator"
   ]
  },
  {
   "cell_type": "code",
   "execution_count": 4,
   "id": "78422a97",
   "metadata": {},
   "outputs": [
    {
     "name": "stdout",
     "output_type": "stream",
     "text": [
      "Initial population randomly initialized!\n",
      "Training GA from 0 to 3 generations!\n",
      "==========================================================================================\n",
      "n_gen  |  n_eval  | n_nds  |     cv_min    |     cv_avg    |      eps      |   indicator  \n",
      "==========================================================================================\n",
      "     1 |        9 |      1 |  0.000000E+00 |  4.917839E+01 |             - |             -\n",
      "     2 |       19 |      2 |  0.000000E+00 |  2.370127E+01 |  1.0000000000 |         ideal\n",
      "     3 |       29 |      2 |  0.000000E+00 |  6.1199555921 |  0.000000E+00 |             f\n",
      "Collecting all counterfactual candidates!\n",
      "Only found 2 valid counterfactuals! Returning all 2.\n",
      "Done! Returning CFs\n",
      "          0\n",
      "0  0.080406\n",
      "1  0.084354\n"
     ]
    }
   ],
   "source": [
    "import random\n",
    "\n",
    "from pymoo.core.variable import Real\n",
    "\n",
    "import numpy as np\n",
    "\n",
    "x = np.random.random(100)\n",
    "x = x.reshape(100, 1)\n",
    "y = x * 100\n",
    "\n",
    "\n",
    "def predict(_x):\n",
    "    return _x * 100 + random.random()\n",
    "\n",
    "def validity(_x):\n",
    "    return _x % 0.1 < 0.05\n",
    "\n",
    "data = data_package.DataPackage(features_dataset=x,\n",
    "                           predictions_dataset=y,\n",
    "                           query_x=x[0].reshape(1, 1),\n",
    "                           design_targets=design_targets.DesignTargets([design_targets.ContinuousTarget(label=0,\n",
    "                                                                          lower_bound=0,\n",
    "                                                                          upper_bound=10)]),\n",
    "                           datatypes=[Real(bounds=(0, 1))])\n",
    "\n",
    "problem = MOP.MultiObjectiveProblem(data_package=data,\n",
    "                                prediction_function=lambda design: predict(design),\n",
    "                                constraint_functions=[validity, ])\n",
    "\n",
    "generator = counterfactuals_generator.CounterfactualsGenerator(problem=problem,\n",
    "                                     pop_size=10,\n",
    "                                     initialize_from_dataset=False)\n",
    "\n",
    "generator.generate(n_generations=3)\n",
    "counterfactuals = generator.sample_with_dtai(num_samples=10, gower_weight=1,\n",
    "                                             avg_gower_weight=1, cfc_weight=1,\n",
    "                                             diversity_weight=50, include_dataset=False)\n",
    "print(counterfactuals)"
   ]
  },
  {
   "cell_type": "code",
   "execution_count": 7,
   "id": "6484d551",
   "metadata": {},
   "outputs": [],
   "source": [
    "a = np.array([[1,-2],[-2,0]])"
   ]
  },
  {
   "cell_type": "code",
   "execution_count": 8,
   "id": "8fa400c6",
   "metadata": {},
   "outputs": [
    {
     "data": {
      "text/plain": [
       "array([ True, False])"
      ]
     },
     "execution_count": 8,
     "metadata": {},
     "output_type": "execute_result"
    }
   ],
   "source": [
    "np.all(a, axis=1)"
   ]
  },
  {
   "cell_type": "code",
   "execution_count": null,
   "id": "1993195a",
   "metadata": {},
   "outputs": [],
   "source": []
  }
 ],
 "metadata": {
  "kernelspec": {
   "display_name": "Python 3 (ipykernel)",
   "language": "python",
   "name": "python3"
  },
  "language_info": {
   "codemirror_mode": {
    "name": "ipython",
    "version": 3
   },
   "file_extension": ".py",
   "mimetype": "text/x-python",
   "name": "python",
   "nbconvert_exporter": "python",
   "pygments_lexer": "ipython3",
   "version": "3.10.4"
  }
 },
 "nbformat": 4,
 "nbformat_minor": 5
}
