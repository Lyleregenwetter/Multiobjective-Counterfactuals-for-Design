{
 "cells": [
  {
   "cell_type": "code",
   "execution_count": 1,
   "id": "7917b67a",
   "metadata": {},
   "outputs": [],
   "source": [
    "import sys\n",
    "sys.path.append('../src/')\n",
    "import decode_mcd\n",
    "import decode_mcd.multi_objective_problem as MOP\n",
    "from decode_mcd import data_package\n",
    "from decode_mcd import design_targets\n",
    "from decode_mcd import counterfactuals_generator"
   ]
  },
  {
   "cell_type": "code",
   "execution_count": 14,
   "id": "66d79f3b",
   "metadata": {},
   "outputs": [
    {
     "name": "stdout",
     "output_type": "stream",
     "text": [
      "Initial population randomly initialized!\n",
      "Training GA from 0 to 10 generations!\n",
      "==========================================================================================\n",
      "n_gen  |  n_eval  | n_nds  |     cv_min    |     cv_avg    |      eps      |   indicator  \n",
      "==========================================================================================\n",
      "     1 |        9 |      1 |  1.0000000000 |  2.0000000000 |             - |             -\n",
      "     2 |       19 |      1 |  0.000000E+00 |  1.0000000000 |             - |             -\n",
      "     3 |       29 |      1 |  0.000000E+00 |  0.7000000000 |  0.000000E+00 |             f\n",
      "     4 |       39 |      2 |  0.000000E+00 |  0.3000000000 |  3.4844101382 |         ideal\n",
      "     5 |       49 |      2 |  0.000000E+00 |  0.000000E+00 |  0.000000E+00 |             f\n",
      "     6 |       59 |      2 |  0.000000E+00 |  0.000000E+00 |  0.000000E+00 |             f\n",
      "     7 |       69 |      2 |  0.000000E+00 |  0.000000E+00 |  0.000000E+00 |             f\n",
      "     8 |       79 |      1 |  0.000000E+00 |  0.000000E+00 |  0.0162290166 |         nadir\n",
      "     9 |       89 |      1 |  0.000000E+00 |  0.000000E+00 |  0.000000E+00 |             f\n",
      "    10 |       99 |      1 |  0.000000E+00 |  0.000000E+00 |  0.000000E+00 |             f\n",
      "Collecting all counterfactual candidates!\n",
      "100 dataset entries found matching problem parameters\n",
      "Scoring all counterfactual candidates!\n",
      "Calculating diversity matrix!\n",
      "Sampling diverse set of counterfactual candidates!\n",
      "Done! Returning CFs\n",
      "          0\n",
      "0  0.376435\n",
      "1  0.690409\n",
      "2  0.556926\n",
      "3  0.259239\n",
      "4  0.483531\n",
      "5  0.287563\n",
      "6  0.678035\n",
      "7  0.458489\n",
      "8  0.355059\n",
      "9  0.653562\n"
     ]
    }
   ],
   "source": [
    "import random\n",
    "\n",
    "from pymoo.core.variable import Real\n",
    "\n",
    "import numpy as np\n",
    "\n",
    "x = np.random.random(100)\n",
    "x = x.reshape(100, 1)\n",
    "y = x * 100\n",
    "\n",
    "\n",
    "def predict(_x):\n",
    "    return _x * 100 + random.random()\n",
    "\n",
    "def validity(_x):\n",
    "    return _x % 0.1 < 0.05\n",
    "\n",
    "data = data_package.DataPackage(features_dataset=x,\n",
    "                           predictions_dataset=y,\n",
    "                           query_x=x[0].reshape(1, 1),\n",
    "                           design_targets=design_targets.DesignTargets([design_targets.ContinuousTarget(label=0,\n",
    "                                                                          lower_bound=25,\n",
    "                                                                          upper_bound=75)]),\n",
    "                           datatypes=[Real(bounds=(0, 1))])\n",
    "\n",
    "problem = MOP.MultiObjectiveProblem(data_package=data,\n",
    "                                prediction_function=lambda design: predict(design),\n",
    "                                constraint_functions=[validity])\n",
    "\n",
    "generator = counterfactuals_generator.CounterfactualsGenerator(problem=problem,\n",
    "                                     pop_size=10,\n",
    "                                     initialize_from_dataset=False)\n",
    "\n",
    "generator.generate(n_generations=10)\n",
    "counterfactuals = generator.sample_with_dtai(num_samples=10, gower_weight=1,\n",
    "                                             avg_gower_weight=1, cfc_weight=1,\n",
    "                                             diversity_weight=50)\n",
    "print(counterfactuals)"
   ]
  },
  {
   "cell_type": "code",
   "execution_count": null,
   "id": "a69026c0",
   "metadata": {},
   "outputs": [],
   "source": []
  }
 ],
 "metadata": {
  "kernelspec": {
   "display_name": "Python 3 (ipykernel)",
   "language": "python",
   "name": "python3"
  },
  "language_info": {
   "codemirror_mode": {
    "name": "ipython",
    "version": 3
   },
   "file_extension": ".py",
   "mimetype": "text/x-python",
   "name": "python",
   "nbconvert_exporter": "python",
   "pygments_lexer": "ipython3",
   "version": "3.10.4"
  }
 },
 "nbformat": 4,
 "nbformat_minor": 5
}
