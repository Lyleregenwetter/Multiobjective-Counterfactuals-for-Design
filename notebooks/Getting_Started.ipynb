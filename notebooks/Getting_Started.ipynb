{
 "cells": [
  {
   "cell_type": "code",
   "execution_count": 1,
   "id": "99435ac6",
   "metadata": {},
   "outputs": [],
   "source": [
    "import sys\n",
    "sys.path.append('../src/')\n",
    "import decode_mcd\n",
    "import decode_mcd.multi_objective_problem as MOP\n",
    "from decode_mcd import data_package\n",
    "\n",
    "\n",
    "from decode_mcd import design_targets\n",
    "from decode_mcd import counterfactuals_generator\n",
    "\n",
    "import numpy as np"
   ]
  },
  {
   "cell_type": "markdown",
   "id": "a056bbd6",
   "metadata": {},
   "source": [
    "### Creating a random dataset"
   ]
  },
  {
   "cell_type": "markdown",
   "id": "1ea530ba",
   "metadata": {},
   "source": [
    "First, let's create a toy dataset for testing. Our design variables will just be two randomized variables ranging from 0 to 1. We'll generate 10 toy datapoints. We call this the `features_dataset`"
   ]
  },
  {
   "cell_type": "code",
   "execution_count": 2,
   "id": "72af035e",
   "metadata": {},
   "outputs": [
    {
     "name": "stdout",
     "output_type": "stream",
     "text": [
      "[[0.5488135  0.71518937]\n",
      " [0.60276338 0.54488318]\n",
      " [0.4236548  0.64589411]\n",
      " [0.43758721 0.891773  ]\n",
      " [0.96366276 0.38344152]\n",
      " [0.79172504 0.52889492]\n",
      " [0.56804456 0.92559664]\n",
      " [0.07103606 0.0871293 ]\n",
      " [0.0202184  0.83261985]\n",
      " [0.77815675 0.87001215]]\n"
     ]
    }
   ],
   "source": [
    "np.random.seed(0) #set random seed to make this notebook repeatable\n",
    "features_dataset = np.random.random((10,2))\n",
    "print(features_dataset)"
   ]
  },
  {
   "cell_type": "markdown",
   "id": "048de963",
   "metadata": {},
   "source": [
    "Now, let's create design evaluation function, `evaluate()`. We'll say that our quantity of interest is just the sum of the two design variables."
   ]
  },
  {
   "cell_type": "code",
   "execution_count": 3,
   "id": "c4c363cb",
   "metadata": {},
   "outputs": [],
   "source": [
    "def evaluate(x): \n",
    "    #MCD uses pandas dataframes internally. More in this in the next notebook. \n",
    "    x = np.array(x)  #For now, we convert to numpy for simplicity, in the event x is a different type.\n",
    "    y = x[:,0] + x[:,1]\n",
    "    y = y.reshape(-1,1) #reshaping here is important. We need to return a 2D array. \n",
    "    return y"
   ]
  },
  {
   "cell_type": "markdown",
   "id": "ca5a1da8",
   "metadata": {},
   "source": [
    "Finally, we'll evaluate the designs in the dataset. We call these the `predictions_dataset`, as the evaluator is often an ML model"
   ]
  },
  {
   "cell_type": "code",
   "execution_count": 4,
   "id": "169e9734",
   "metadata": {},
   "outputs": [
    {
     "name": "stdout",
     "output_type": "stream",
     "text": [
      "[[1.26400287]\n",
      " [1.14764656]\n",
      " [1.06954891]\n",
      " [1.32936021]\n",
      " [1.34710428]\n",
      " [1.32061996]\n",
      " [1.4936412 ]\n",
      " [0.15816536]\n",
      " [0.85283824]\n",
      " [1.6481689 ]]\n"
     ]
    }
   ],
   "source": [
    "predictions_dataset = evaluate(features_dataset)\n",
    "print(predictions_dataset)"
   ]
  },
  {
   "cell_type": "markdown",
   "id": "348b6c9b",
   "metadata": {},
   "source": [
    "Finally, lets create a design as our query, which we call `query_x`. Note that `query_x` is a 2D array. This is design that we would like MCD to modify."
   ]
  },
  {
   "cell_type": "code",
   "execution_count": 5,
   "id": "21e9e3d2",
   "metadata": {},
   "outputs": [],
   "source": [
    "query_x = np.array([[0.3, 0.2]])\n",
    "query_y = evaluate(query_x)"
   ]
  },
  {
   "cell_type": "markdown",
   "id": "b8a1a7b0",
   "metadata": {},
   "source": [
    "Great! Let's plot what we've got. We will make a scatterplot of the dataset and the query and color-code the values based on objective value"
   ]
  },
  {
   "cell_type": "code",
   "execution_count": 6,
   "id": "81594602",
   "metadata": {},
   "outputs": [
    {
     "data": {
      "text/plain": [
       "<matplotlib.collections.PathCollection at 0x16c9615e410>"
      ]
     },
     "execution_count": 6,
     "metadata": {},
     "output_type": "execute_result"
    },
    {
     "data": {
      "image/png": "[encoded data removed]",
      "text/plain": [
       "<Figure size 500x400 with 2 Axes>"
      ]
     },
     "metadata": {},
     "output_type": "display_data"
    }
   ],
   "source": [
    "import matplotlib.pyplot as plt\n",
    "plt.figure(figsize=(5,4))\n",
    "plt.scatter(features_dataset[:,0], features_dataset[:,1], c=predictions_dataset, marker='o')\n",
    "plt.colorbar() \n",
    "plt.scatter(query_x[:,0], query_x[:,1], c=query_y, marker='x') "
   ]
  },
  {
   "cell_type": "markdown",
   "id": "c292867f",
   "metadata": {},
   "source": [
    "### Creating MCD DataPackage"
   ]
  },
  {
   "cell_type": "markdown",
   "id": "3fa493a5",
   "metadata": {},
   "source": [
    "Now, we create an instance of a MCD `DataPackage`. The `DataPackage` requires the design dataset (`features_dataset`), the evaluated objective values (`predictions_dataset`), and the query (`query_x`). But we also need two more components, the `design targets` and the `datatypes`. Here's how to set them up."
   ]
  },
  {
   "cell_type": "markdown",
   "id": "75e4dbde",
   "metadata": {},
   "source": [
    "The design targets are a list of individual targets"
   ]
  },
  {
   "cell_type": "code",
   "execution_count": 7,
   "id": "64a68335",
   "metadata": {},
   "outputs": [],
   "source": [
    "target_1 = design_targets.ContinuousTarget(label = 0, lower_bound=1, upper_bound=1.5)\n",
    "targets = design_targets.DesignTargets([target_1])"
   ]
  },
  {
   "cell_type": "code",
   "execution_count": 8,
   "id": "f8404058",
   "metadata": {},
   "outputs": [],
   "source": [
    "from pymoo.core.variable import Real\n",
    "data = data_package.DataPackage(features_dataset=features_dataset,\n",
    "                           predictions_dataset=predictions_dataset,\n",
    "                           query_x=query_x,\n",
    "                           design_targets=targets,\n",
    "                           datatypes=[Real(bounds=(0, 1)),Real(bounds=(0, 1))])"
   ]
  },
  {
   "cell_type": "markdown",
   "id": "d0c94348",
   "metadata": {},
   "source": [
    "Next, we set up the MCD `MultiObjectiveProblem` instance, which takes in the `DataPackage` we just created, as well as our evaluation function."
   ]
  },
  {
   "cell_type": "code",
   "execution_count": 9,
   "id": "a894bfd3",
   "metadata": {},
   "outputs": [],
   "source": [
    "problem = MOP.MultiObjectiveProblem(data_package=data, prediction_function=evaluate)"
   ]
  },
  {
   "cell_type": "code",
   "execution_count": 10,
   "id": "78422a97",
   "metadata": {},
   "outputs": [
    {
     "name": "stdout",
     "output_type": "stream",
     "text": [
      "Initial population randomly initialized!\n",
      "Training GA from 0 to 10 generations!\n",
      "==========================================================================================\n",
      "n_gen  |  n_eval  | n_nds  |     cv_min    |     cv_avg    |      eps      |   indicator  \n",
      "==========================================================================================\n",
      "     1 |       99 |      7 |  0.000000E+00 |  0.1867736333 |             - |             -\n",
      "     2 |      199 |     10 |  0.000000E+00 |  0.0178091687 |  0.0367189576 |             f\n",
      "     3 |      299 |     16 |  0.000000E+00 |  0.000000E+00 |  1.0000000000 |         ideal\n",
      "     4 |      399 |     19 |  0.000000E+00 |  0.000000E+00 |  0.0333130480 |             f\n",
      "     5 |      499 |     28 |  0.000000E+00 |  0.000000E+00 |  0.0109273641 |         ideal\n",
      "     6 |      599 |     36 |  0.000000E+00 |  0.000000E+00 |  0.0046229941 |             f\n",
      "     7 |      699 |     53 |  0.000000E+00 |  0.000000E+00 |  0.0087990602 |         ideal\n",
      "     8 |      799 |     79 |  0.000000E+00 |  0.000000E+00 |  0.2109279865 |         nadir\n",
      "     9 |      899 |    100 |  0.000000E+00 |  0.000000E+00 |  0.0038767672 |         ideal\n",
      "    10 |      999 |    100 |  0.000000E+00 |  0.000000E+00 |  0.0108542255 |         ideal\n",
      "Collecting all counterfactual candidates!\n",
      "Scoring all counterfactual candidates!\n",
      "Calculating diversity matrix!\n",
      "Sampling diverse set of counterfactual candidates!\n",
      "samples_index=[69, 103, 522, 49, 319, 166, 486, 33, 44, 232]\n",
      "Done! Returning CFs\n"
     ]
    }
   ],
   "source": [
    "\n",
    "\n",
    "generator = counterfactuals_generator.CounterfactualsGenerator(problem=problem,\n",
    "                                     pop_size=100,\n",
    "                                     initialize_from_dataset=False)\n",
    "\n",
    "generator.generate(n_generations=10)\n",
    "counterfactuals = generator.sample_with_dtai(num_samples=10, gower_weight=1,\n",
    "                                             avg_gower_weight=1, cfc_weight=1,\n",
    "                                             diversity_weight=50, include_dataset=False)"
   ]
  },
  {
   "cell_type": "code",
   "execution_count": 11,
   "id": "6484d551",
   "metadata": {},
   "outputs": [
    {
     "name": "stdout",
     "output_type": "stream",
     "text": [
      "[[0.98686597 0.2       ]\n",
      " [0.13801527 0.95446372]\n",
      " [0.50319053 0.52167718]\n",
      " [0.63427406 0.86397874]\n",
      " [0.83659925 0.63014668]\n",
      " [0.30016938 0.71978528]\n",
      " [0.68005557 0.32599488]\n",
      " [0.97857093 0.46949718]\n",
      " [0.39217308 0.97065703]\n",
      " [0.58131481 0.68097313]]\n"
     ]
    }
   ],
   "source": [
    "counterfactuals = np.array(counterfactuals) #convert to numpy array for plotting\n",
    "print(counterfactuals)"
   ]
  },
  {
   "cell_type": "markdown",
   "id": "21bc2e3b",
   "metadata": {},
   "source": [
    "Now, lets repeat our plot from earlier, but add the generated counterfactuals. We also add the objective ranges as dotted lines. We see that the generated counterfactuals (+) fall within the designated boundaries. "
   ]
  },
  {
   "cell_type": "code",
   "execution_count": 12,
   "id": "1993195a",
   "metadata": {},
   "outputs": [
    {
     "data": {
      "text/plain": [
       "[<matplotlib.lines.Line2D at 0x16c96ad42d0>]"
      ]
     },
     "execution_count": 12,
     "metadata": {},
     "output_type": "execute_result"
    },
    {
     "data": {
      "image/png": "[encoded data removed]",
      "text/plain": [
       "<Figure size 500x400 with 2 Axes>"
      ]
     },
     "metadata": {},
     "output_type": "display_data"
    }
   ],
   "source": [
    "cf_y = evaluate(counterfactuals)\n",
    "\n",
    "plt.figure(figsize=(5,4))\n",
    "plt.scatter(features_dataset[:,0], features_dataset[:,1], c=predictions_dataset, marker='o')\n",
    "plt.colorbar() \n",
    "plt.scatter(counterfactuals[:,0], counterfactuals[:,1], c=cf_y, marker='+')\n",
    "plt.scatter(query_x[:,0], query_x[:,1], c=query_y, marker='x') \n",
    "\n",
    "plt.plot([0,1], [1,0], 'k--')\n",
    "plt.plot([0.5,1], [1,0.5], 'k--')"
   ]
  },
  {
   "cell_type": "code",
   "execution_count": null,
   "id": "2394c268",
   "metadata": {},
   "outputs": [],
   "source": []
  }
 ],
 "metadata": {
  "kernelspec": {
   "display_name": "Python 3 (ipykernel)",
   "language": "python",
   "name": "python3"
  },
  "language_info": {
   "codemirror_mode": {
    "name": "ipython",
    "version": 3
   },
   "file_extension": ".py",
   "mimetype": "text/x-python",
   "name": "python",
   "nbconvert_exporter": "python",
   "pygments_lexer": "ipython3",
   "version": "3.11.6"
  }
 },
 "nbformat": 4,
 "nbformat_minor": 5
}
