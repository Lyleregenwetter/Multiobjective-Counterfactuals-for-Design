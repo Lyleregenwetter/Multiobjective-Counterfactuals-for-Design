{
 "cells": [
  {
   "cell_type": "code",
   "execution_count": 1,
   "id": "99435ac6",
   "metadata": {},
   "outputs": [],
   "source": [
    "import sys\n",
    "sys.path.append('../src/')\n",
    "import decode_mcd\n",
    "import decode_mcd.multi_objective_problem as MOP\n",
    "from decode_mcd import data_package\n",
    "\n",
    "\n",
    "from decode_mcd import design_targets\n",
    "from decode_mcd import counterfactuals_generator"
   ]
  },
  {
   "cell_type": "code",
   "execution_count": 33,
   "metadata": {},
   "outputs": [
    {
     "data": {
      "text/html": [
       "<div>\n",
       "<style scoped>\n",
       "    .dataframe tbody tr th:only-of-type {\n",
       "        vertical-align: middle;\n",
       "    }\n",
       "\n",
       "    .dataframe tbody tr th {\n",
       "        vertical-align: top;\n",
       "    }\n",
       "\n",
       "    .dataframe thead th {\n",
       "        text-align: right;\n",
       "    }\n",
       "</style>\n",
       "<table border=\"1\" class=\"dataframe\">\n",
       "  <thead>\n",
       "    <tr style=\"text-align: right;\">\n",
       "      <th></th>\n",
       "      <th>P1</th>\n",
       "      <th>P2</th>\n",
       "    </tr>\n",
       "  </thead>\n",
       "  <tbody>\n",
       "    <tr>\n",
       "      <th>0</th>\n",
       "      <td>0.5</td>\n",
       "      <td>positive</td>\n",
       "    </tr>\n",
       "  </tbody>\n",
       "</table>\n",
       "</div>"
      ],
      "text/plain": [
       "    P1        P2\n",
       "0  0.5  positive"
      ]
     },
     "execution_count": 33,
     "metadata": {},
     "output_type": "execute_result"
    }
   ],
   "source": [
    "pd.DataFrame([[0.5, \"positive\"]], columns = [\"P1\", \"P2\"])"
   ]
  },
  {
   "cell_type": "code",
   "execution_count": 42,
   "id": "78422a97",
   "metadata": {},
   "outputs": [
    {
     "name": "stdout",
     "output_type": "stream",
     "text": [
      "Initial population randomly initialized!\n",
      "Training GA from 0 to 3 generations!\n",
      "==========================================================================================\n",
      "n_gen  |  n_eval  | n_nds  |     cv_min    |     cv_avg    |      eps      |   indicator  \n",
      "==========================================================================================\n",
      "     1 |        9 |      1 |  0.000000E+00 |  0.4799739633 |             - |             -\n",
      "     2 |       19 |      2 |  0.000000E+00 |  0.2682488370 |  1.0000000000 |         ideal\n",
      "     3 |       29 |      2 |  0.000000E+00 |  0.1624852085 |  0.000000E+00 |             f\n",
      "Collecting all counterfactual candidates!\n",
      "Only found 2 valid counterfactuals! Returning all 2.\n",
      "Done! Returning CFs\n",
      "         P1        P2\n",
      "0  0.080235  positive\n",
      "1  0.098807  positive\n"
     ]
    }
   ],
   "source": [
    "import random\n",
    "\n",
    "from pymoo.core.variable import Real, Choice\n",
    "\n",
    "import numpy as np\n",
    "import pandas as pd\n",
    "\n",
    "x = pd.DataFrame(np.random.random(100).reshape(100, 1), columns = [\"P1\"])\n",
    "x[\"P2\"] = np.random.choice([\"positive\", \"negative\"], 100)\n",
    "\n",
    "def calculate_score(_x):\n",
    "    mask = _x[\"P2\"] == \"positive\"\n",
    "    res = _x[\"P1\"] * (2*mask.astype(int)-1) #returns P1 if P2 is \"positive\" and -P1 if P2 is \"negative\"\n",
    "    return np.expand_dims(res.values, axis=1)\n",
    "    \n",
    "y = calculate_score(x)\n",
    "\n",
    "data = data_package.DataPackage(features_dataset=x,\n",
    "                           predictions_dataset=y,\n",
    "                           query_x= pd.DataFrame([[0.5, \"positive\"]], columns = [\"P1\", \"P2\"]),\n",
    "                           design_targets=design_targets.DesignTargets([design_targets.ContinuousTarget(label=0,\n",
    "                                                                          lower_bound=-0.01,\n",
    "                                                                          upper_bound=0.1)]),\n",
    "                           datatypes=[Real(bounds=(0, 1)), Choice(options=[\"negative\", \"positive\"])])\n",
    "\n",
    "problem = MOP.MultiObjectiveProblem(data_package=data,\n",
    "                                prediction_function=lambda design: calculate_score(design),\n",
    "                                constraint_functions=[])\n",
    "\n",
    "generator = counterfactuals_generator.CounterfactualsGenerator(problem=problem,\n",
    "                                     pop_size=10,\n",
    "                                     initialize_from_dataset=False)\n",
    "\n",
    "generator.generate(n_generations=3)\n",
    "counterfactuals = generator.sample_with_dtai(num_samples=10, gower_weight=1,\n",
    "                                             avg_gower_weight=1, cfc_weight=1,\n",
    "                                             diversity_weight=50, include_dataset=False)\n",
    "print(counterfactuals)"
   ]
  },
  {
   "cell_type": "code",
   "execution_count": null,
   "id": "1993195a",
   "metadata": {},
   "outputs": [],
   "source": []
  }
 ],
 "metadata": {
  "kernelspec": {
   "display_name": "Python 3 (ipykernel)",
   "language": "python",
   "name": "python3"
  },
  "language_info": {
   "codemirror_mode": {
    "name": "ipython",
    "version": 3
   },
   "file_extension": ".py",
   "mimetype": "text/x-python",
   "name": "python",
   "nbconvert_exporter": "python",
   "pygments_lexer": "ipython3",
   "version": "3.11.6"
  }
 },
 "nbformat": 4,
 "nbformat_minor": 5
}
